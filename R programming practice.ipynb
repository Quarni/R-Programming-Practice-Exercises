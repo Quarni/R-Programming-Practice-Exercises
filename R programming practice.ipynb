{
 "cells": [
  {
   "cell_type": "markdown",
   "id": "simplified-chair",
   "metadata": {},
   "source": [
    "## R programming Practice Exercises"
   ]
  },
  {
   "cell_type": "code",
   "execution_count": 7,
   "id": "electric-musical",
   "metadata": {},
   "outputs": [],
   "source": [
    "## Assign operator"
   ]
  },
  {
   "cell_type": "code",
   "execution_count": 8,
   "id": "protecting-jacket",
   "metadata": {},
   "outputs": [],
   "source": [
    "x <- 3"
   ]
  },
  {
   "cell_type": "code",
   "execution_count": 9,
   "id": "global-graphics",
   "metadata": {},
   "outputs": [
    {
     "data": {
      "text/html": [
       "3"
      ],
      "text/latex": [
       "3"
      ],
      "text/markdown": [
       "3"
      ],
      "text/plain": [
       "[1] 3"
      ]
     },
     "metadata": {},
     "output_type": "display_data"
    }
   ],
   "source": [
    "x"
   ]
  },
  {
   "cell_type": "code",
   "execution_count": 12,
   "id": "reported-bibliography",
   "metadata": {},
   "outputs": [
    {
     "name": "stdout",
     "output_type": "stream",
     "text": [
      "[1] 3\n"
     ]
    }
   ],
   "source": [
    "print(x)"
   ]
  },
  {
   "cell_type": "code",
   "execution_count": 19,
   "id": "sacred-philosophy",
   "metadata": {},
   "outputs": [
    {
     "data": {
      "text/html": [
       "3"
      ],
      "text/latex": [
       "3"
      ],
      "text/markdown": [
       "3"
      ],
      "text/plain": [
       "[1] 3"
      ]
     },
     "metadata": {},
     "output_type": "display_data"
    }
   ],
   "source": [
    "# Comment in R\n",
    "\n",
    "x <- 3 ## Assign value in x\n",
    "x  # ptint the value of x\n"
   ]
  },
  {
   "cell_type": "code",
   "execution_count": 21,
   "id": "exotic-nirvana",
   "metadata": {},
   "outputs": [
    {
     "data": {
      "text/html": [
       "<ol class=list-inline>\n",
       "\t<li>1</li>\n",
       "\t<li>2</li>\n",
       "\t<li>3</li>\n",
       "\t<li>4</li>\n",
       "\t<li>5</li>\n",
       "\t<li>6</li>\n",
       "\t<li>7</li>\n",
       "\t<li>8</li>\n",
       "\t<li>9</li>\n",
       "\t<li>10</li>\n",
       "\t<li>11</li>\n",
       "\t<li>12</li>\n",
       "\t<li>13</li>\n",
       "\t<li>14</li>\n",
       "\t<li>15</li>\n",
       "\t<li>16</li>\n",
       "\t<li>17</li>\n",
       "\t<li>18</li>\n",
       "\t<li>19</li>\n",
       "\t<li>20</li>\n",
       "\t<li>21</li>\n",
       "\t<li>22</li>\n",
       "</ol>\n"
      ],
      "text/latex": [
       "\\begin{enumerate*}\n",
       "\\item 1\n",
       "\\item 2\n",
       "\\item 3\n",
       "\\item 4\n",
       "\\item 5\n",
       "\\item 6\n",
       "\\item 7\n",
       "\\item 8\n",
       "\\item 9\n",
       "\\item 10\n",
       "\\item 11\n",
       "\\item 12\n",
       "\\item 13\n",
       "\\item 14\n",
       "\\item 15\n",
       "\\item 16\n",
       "\\item 17\n",
       "\\item 18\n",
       "\\item 19\n",
       "\\item 20\n",
       "\\item 21\n",
       "\\item 22\n",
       "\\end{enumerate*}\n"
      ],
      "text/markdown": [
       "1. 1\n",
       "2. 2\n",
       "3. 3\n",
       "4. 4\n",
       "5. 5\n",
       "6. 6\n",
       "7. 7\n",
       "8. 8\n",
       "9. 9\n",
       "10. 10\n",
       "11. 11\n",
       "12. 12\n",
       "13. 13\n",
       "14. 14\n",
       "15. 15\n",
       "16. 16\n",
       "17. 17\n",
       "18. 18\n",
       "19. 19\n",
       "20. 20\n",
       "21. 21\n",
       "22. 22\n",
       "\n",
       "\n"
      ],
      "text/plain": [
       " [1]  1  2  3  4  5  6  7  8  9 10 11 12 13 14 15 16 17 18 19 20 21 22"
      ]
     },
     "metadata": {},
     "output_type": "display_data"
    }
   ],
   "source": [
    "x <- 1:22\n",
    "\n",
    "x"
   ]
  },
  {
   "cell_type": "code",
   "execution_count": 22,
   "id": "electronic-philip",
   "metadata": {},
   "outputs": [
    {
     "name": "stdout",
     "output_type": "stream",
     "text": [
      " [1]  1  2  3  4  5  6  7  8  9 10 11 12 13 14 15 16 17 18 19 20 21 22\n"
     ]
    }
   ],
   "source": [
    "print(x)"
   ]
  },
  {
   "cell_type": "markdown",
   "id": "tutorial-flavor",
   "metadata": {},
   "source": [
    "\n",
    "### Matrices"
   ]
  },
  {
   "cell_type": "code",
   "execution_count": 23,
   "id": "supported-coach",
   "metadata": {},
   "outputs": [
    {
     "data": {
      "text/html": [
       "<table>\n",
       "<tbody>\n",
       "\t<tr><td>NA</td><td>NA</td><td>NA</td></tr>\n",
       "\t<tr><td>NA</td><td>NA</td><td>NA</td></tr>\n",
       "</tbody>\n",
       "</table>\n"
      ],
      "text/latex": [
       "\\begin{tabular}{lll}\n",
       "\t NA & NA & NA\\\\\n",
       "\t NA & NA & NA\\\\\n",
       "\\end{tabular}\n"
      ],
      "text/markdown": [
       "\n",
       "| NA | NA | NA |\n",
       "| NA | NA | NA |\n",
       "\n"
      ],
      "text/plain": [
       "     [,1] [,2] [,3]\n",
       "[1,] NA   NA   NA  \n",
       "[2,] NA   NA   NA  "
      ]
     },
     "metadata": {},
     "output_type": "display_data"
    }
   ],
   "source": [
    "m <- matrix(nrow = 2, ncol = 3)\n",
    "\n",
    "m"
   ]
  },
  {
   "cell_type": "code",
   "execution_count": 24,
   "id": "checked-rwanda",
   "metadata": {},
   "outputs": [
    {
     "data": {
      "text/html": [
       "<ol class=list-inline>\n",
       "\t<li>2</li>\n",
       "\t<li>3</li>\n",
       "</ol>\n"
      ],
      "text/latex": [
       "\\begin{enumerate*}\n",
       "\\item 2\n",
       "\\item 3\n",
       "\\end{enumerate*}\n"
      ],
      "text/markdown": [
       "1. 2\n",
       "2. 3\n",
       "\n",
       "\n"
      ],
      "text/plain": [
       "[1] 2 3"
      ]
     },
     "metadata": {},
     "output_type": "display_data"
    }
   ],
   "source": [
    "dim(m)"
   ]
  },
  {
   "cell_type": "code",
   "execution_count": 25,
   "id": "ideal-controversy",
   "metadata": {},
   "outputs": [
    {
     "data": {
      "text/html": [
       "<strong>$dim</strong> = <ol class=list-inline>\n",
       "\t<li>2</li>\n",
       "\t<li>3</li>\n",
       "</ol>\n"
      ],
      "text/latex": [
       "\\textbf{\\$dim} = \\begin{enumerate*}\n",
       "\\item 2\n",
       "\\item 3\n",
       "\\end{enumerate*}\n"
      ],
      "text/markdown": [
       "**$dim** = 1. 2\n",
       "2. 3\n",
       "\n",
       "\n"
      ],
      "text/plain": [
       "$dim\n",
       "[1] 2 3\n"
      ]
     },
     "metadata": {},
     "output_type": "display_data"
    }
   ],
   "source": [
    "attributes(m)"
   ]
  },
  {
   "cell_type": "code",
   "execution_count": 27,
   "id": "permanent-validation",
   "metadata": {},
   "outputs": [
    {
     "data": {
      "text/html": [
       "<table>\n",
       "<tbody>\n",
       "\t<tr><td>1</td><td>4</td></tr>\n",
       "\t<tr><td>2</td><td>5</td></tr>\n",
       "\t<tr><td>3</td><td>6</td></tr>\n",
       "</tbody>\n",
       "</table>\n"
      ],
      "text/latex": [
       "\\begin{tabular}{ll}\n",
       "\t 1 & 4\\\\\n",
       "\t 2 & 5\\\\\n",
       "\t 3 & 6\\\\\n",
       "\\end{tabular}\n"
      ],
      "text/markdown": [
       "\n",
       "| 1 | 4 |\n",
       "| 2 | 5 |\n",
       "| 3 | 6 |\n",
       "\n"
      ],
      "text/plain": [
       "     [,1] [,2]\n",
       "[1,] 1    4   \n",
       "[2,] 2    5   \n",
       "[3,] 3    6   "
      ]
     },
     "metadata": {},
     "output_type": "display_data"
    }
   ],
   "source": [
    "# for the adding values in matric we use following \n",
    "\n",
    "m <- matrix(1:6, nrow=3, ncol=2)\n",
    "\n",
    "m"
   ]
  },
  {
   "cell_type": "code",
   "execution_count": 28,
   "id": "mounted-month",
   "metadata": {},
   "outputs": [
    {
     "data": {
      "text/html": [
       "<ol class=list-inline>\n",
       "\t<li>3</li>\n",
       "\t<li>2</li>\n",
       "</ol>\n"
      ],
      "text/latex": [
       "\\begin{enumerate*}\n",
       "\\item 3\n",
       "\\item 2\n",
       "\\end{enumerate*}\n"
      ],
      "text/markdown": [
       "1. 3\n",
       "2. 2\n",
       "\n",
       "\n"
      ],
      "text/plain": [
       "[1] 3 2"
      ]
     },
     "metadata": {},
     "output_type": "display_data"
    }
   ],
   "source": [
    "dim(m)"
   ]
  },
  {
   "cell_type": "code",
   "execution_count": 29,
   "id": "closed-worse",
   "metadata": {},
   "outputs": [
    {
     "data": {
      "text/html": [
       "<ol class=list-inline>\n",
       "\t<li>1</li>\n",
       "\t<li>2</li>\n",
       "\t<li>3</li>\n",
       "\t<li>4</li>\n",
       "\t<li>5</li>\n",
       "\t<li>6</li>\n",
       "\t<li>7</li>\n",
       "\t<li>8</li>\n",
       "\t<li>9</li>\n",
       "\t<li>10</li>\n",
       "\t<li>11</li>\n",
       "\t<li>12</li>\n",
       "</ol>\n"
      ],
      "text/latex": [
       "\\begin{enumerate*}\n",
       "\\item 1\n",
       "\\item 2\n",
       "\\item 3\n",
       "\\item 4\n",
       "\\item 5\n",
       "\\item 6\n",
       "\\item 7\n",
       "\\item 8\n",
       "\\item 9\n",
       "\\item 10\n",
       "\\item 11\n",
       "\\item 12\n",
       "\\end{enumerate*}\n"
      ],
      "text/markdown": [
       "1. 1\n",
       "2. 2\n",
       "3. 3\n",
       "4. 4\n",
       "5. 5\n",
       "6. 6\n",
       "7. 7\n",
       "8. 8\n",
       "9. 9\n",
       "10. 10\n",
       "11. 11\n",
       "12. 12\n",
       "\n",
       "\n"
      ],
      "text/plain": [
       " [1]  1  2  3  4  5  6  7  8  9 10 11 12"
      ]
     },
     "metadata": {},
     "output_type": "display_data"
    }
   ],
   "source": [
    "# we can directly assing values using vectors\n",
    "\n",
    "m <- 1:12\n",
    "\n",
    "m"
   ]
  },
  {
   "cell_type": "code",
   "execution_count": 30,
   "id": "relative-liquid",
   "metadata": {},
   "outputs": [],
   "source": [
    "dim(m) <-c(3,4) # 3 rows and 4 columns "
   ]
  },
  {
   "cell_type": "code",
   "execution_count": 31,
   "id": "foster-class",
   "metadata": {},
   "outputs": [
    {
     "data": {
      "text/html": [
       "<table>\n",
       "<tbody>\n",
       "\t<tr><td>1 </td><td>4 </td><td>7 </td><td>10</td></tr>\n",
       "\t<tr><td>2 </td><td>5 </td><td>8 </td><td>11</td></tr>\n",
       "\t<tr><td>3 </td><td>6 </td><td>9 </td><td>12</td></tr>\n",
       "</tbody>\n",
       "</table>\n"
      ],
      "text/latex": [
       "\\begin{tabular}{llll}\n",
       "\t 1  & 4  & 7  & 10\\\\\n",
       "\t 2  & 5  & 8  & 11\\\\\n",
       "\t 3  & 6  & 9  & 12\\\\\n",
       "\\end{tabular}\n"
      ],
      "text/markdown": [
       "\n",
       "| 1  | 4  | 7  | 10 |\n",
       "| 2  | 5  | 8  | 11 |\n",
       "| 3  | 6  | 9  | 12 |\n",
       "\n"
      ],
      "text/plain": [
       "     [,1] [,2] [,3] [,4]\n",
       "[1,] 1    4    7    10  \n",
       "[2,] 2    5    8    11  \n",
       "[3,] 3    6    9    12  "
      ]
     },
     "metadata": {},
     "output_type": "display_data"
    }
   ],
   "source": [
    "m"
   ]
  },
  {
   "cell_type": "markdown",
   "id": "formal-conservative",
   "metadata": {},
   "source": [
    "### Cbind and rbind to create matrix"
   ]
  },
  {
   "cell_type": "code",
   "execution_count": 32,
   "id": "satisfactory-christianity",
   "metadata": {},
   "outputs": [
    {
     "data": {
      "text/html": [
       "<table>\n",
       "<thead><tr><th scope=col>x</th><th scope=col>y</th></tr></thead>\n",
       "<tbody>\n",
       "\t<tr><td>1 </td><td>10</td></tr>\n",
       "\t<tr><td>2 </td><td>11</td></tr>\n",
       "\t<tr><td>3 </td><td>12</td></tr>\n",
       "</tbody>\n",
       "</table>\n"
      ],
      "text/latex": [
       "\\begin{tabular}{ll}\n",
       " x & y\\\\\n",
       "\\hline\n",
       "\t 1  & 10\\\\\n",
       "\t 2  & 11\\\\\n",
       "\t 3  & 12\\\\\n",
       "\\end{tabular}\n"
      ],
      "text/markdown": [
       "\n",
       "| x | y |\n",
       "|---|---|\n",
       "| 1  | 10 |\n",
       "| 2  | 11 |\n",
       "| 3  | 12 |\n",
       "\n"
      ],
      "text/plain": [
       "     x y \n",
       "[1,] 1 10\n",
       "[2,] 2 11\n",
       "[3,] 3 12"
      ]
     },
     "metadata": {},
     "output_type": "display_data"
    }
   ],
   "source": [
    "x <- 1:3\n",
    "y <- 10:12\n",
    "\n",
    "cbind(x, y)"
   ]
  },
  {
   "cell_type": "code",
   "execution_count": 33,
   "id": "laughing-huntington",
   "metadata": {},
   "outputs": [
    {
     "data": {
      "text/html": [
       "<table>\n",
       "<tbody>\n",
       "\t<tr><th scope=row>x</th><td> 1</td><td> 2</td><td> 3</td></tr>\n",
       "\t<tr><th scope=row>y</th><td>10</td><td>11</td><td>12</td></tr>\n",
       "</tbody>\n",
       "</table>\n"
      ],
      "text/latex": [
       "\\begin{tabular}{r|lll}\n",
       "\tx &  1 &  2 &  3\\\\\n",
       "\ty & 10 & 11 & 12\\\\\n",
       "\\end{tabular}\n"
      ],
      "text/markdown": [
       "\n",
       "| x |  1 |  2 |  3 |\n",
       "| y | 10 | 11 | 12 |\n",
       "\n"
      ],
      "text/plain": [
       "  [,1] [,2] [,3]\n",
       "x  1    2    3  \n",
       "y 10   11   12  "
      ]
     },
     "metadata": {},
     "output_type": "display_data"
    }
   ],
   "source": [
    "# for row \n",
    "\n",
    "rbind(x,y)"
   ]
  },
  {
   "cell_type": "markdown",
   "id": "oriented-warrant",
   "metadata": {},
   "source": [
    "### list in R"
   ]
  },
  {
   "cell_type": "code",
   "execution_count": 35,
   "id": "legendary-eligibility",
   "metadata": {
    "scrolled": true
   },
   "outputs": [
    {
     "data": {
      "text/html": [
       "<ol class=list-inline>\n",
       "\t<li>'1'</li>\n",
       "\t<li>'3'</li>\n",
       "\t<li>'4'</li>\n",
       "\t<li>'TRUE'</li>\n",
       "\t<li>'a'</li>\n",
       "\t<li>'9'</li>\n",
       "</ol>\n"
      ],
      "text/latex": [
       "\\begin{enumerate*}\n",
       "\\item '1'\n",
       "\\item '3'\n",
       "\\item '4'\n",
       "\\item 'TRUE'\n",
       "\\item 'a'\n",
       "\\item '9'\n",
       "\\end{enumerate*}\n"
      ],
      "text/markdown": [
       "1. '1'\n",
       "2. '3'\n",
       "3. '4'\n",
       "4. 'TRUE'\n",
       "5. 'a'\n",
       "6. '9'\n",
       "\n",
       "\n"
      ],
      "text/plain": [
       "[1] \"1\"    \"3\"    \"4\"    \"TRUE\" \"a\"    \"9\"   "
      ]
     },
     "metadata": {},
     "output_type": "display_data"
    }
   ],
   "source": [
    "# As we know we can't create the vector of the list see in example\n",
    "\n",
    "v <- c(1,3,4,TRUE, 'a',9)  ## you will noted that it use type casting to convert all value in to character\n",
    "\n",
    "v"
   ]
  },
  {
   "cell_type": "code",
   "execution_count": 36,
   "id": "pursuant-exclusive",
   "metadata": {},
   "outputs": [
    {
     "data": {
      "text/html": [
       "<ol>\n",
       "\t<li>1</li>\n",
       "\t<li>3</li>\n",
       "\t<li>4</li>\n",
       "\t<li>TRUE</li>\n",
       "\t<li>'a'</li>\n",
       "\t<li>'c'</li>\n",
       "\t<li>9</li>\n",
       "</ol>\n"
      ],
      "text/latex": [
       "\\begin{enumerate}\n",
       "\\item 1\n",
       "\\item 3\n",
       "\\item 4\n",
       "\\item TRUE\n",
       "\\item 'a'\n",
       "\\item 'c'\n",
       "\\item 9\n",
       "\\end{enumerate}\n"
      ],
      "text/markdown": [
       "1. 1\n",
       "2. 3\n",
       "3. 4\n",
       "4. TRUE\n",
       "5. 'a'\n",
       "6. 'c'\n",
       "7. 9\n",
       "\n",
       "\n"
      ],
      "text/plain": [
       "[[1]]\n",
       "[1] 1\n",
       "\n",
       "[[2]]\n",
       "[1] 3\n",
       "\n",
       "[[3]]\n",
       "[1] 4\n",
       "\n",
       "[[4]]\n",
       "[1] TRUE\n",
       "\n",
       "[[5]]\n",
       "[1] \"a\"\n",
       "\n",
       "[[6]]\n",
       "[1] \"c\"\n",
       "\n",
       "[[7]]\n",
       "[1] 9\n"
      ]
     },
     "metadata": {},
     "output_type": "display_data"
    }
   ],
   "source": [
    "# list example\n",
    "v <- list(1,3,4,TRUE, 'a', 'c', 9) ## now this we sotore values in form of list\n",
    "\n",
    "v"
   ]
  },
  {
   "cell_type": "markdown",
   "id": "respected-genome",
   "metadata": {},
   "source": [
    "### Factor"
   ]
  },
  {
   "cell_type": "code",
   "execution_count": 37,
   "id": "boolean-editor",
   "metadata": {},
   "outputs": [
    {
     "data": {
      "text/html": [
       "<ol class=list-inline>\n",
       "\t<li>yes</li>\n",
       "\t<li>yes</li>\n",
       "\t<li>no</li>\n",
       "\t<li>yes</li>\n",
       "\t<li>no</li>\n",
       "</ol>\n",
       "\n",
       "<details>\n",
       "\t<summary style=display:list-item;cursor:pointer>\n",
       "\t\t<strong>Levels</strong>:\n",
       "\t</summary>\n",
       "\t<ol class=list-inline>\n",
       "\t\t<li>'no'</li>\n",
       "\t\t<li>'yes'</li>\n",
       "\t</ol>\n",
       "</details>"
      ],
      "text/latex": [
       "\\begin{enumerate*}\n",
       "\\item yes\n",
       "\\item yes\n",
       "\\item no\n",
       "\\item yes\n",
       "\\item no\n",
       "\\end{enumerate*}\n",
       "\n",
       "\\emph{Levels}: \\begin{enumerate*}\n",
       "\\item 'no'\n",
       "\\item 'yes'\n",
       "\\end{enumerate*}\n"
      ],
      "text/markdown": [
       "1. yes\n",
       "2. yes\n",
       "3. no\n",
       "4. yes\n",
       "5. no\n",
       "\n",
       "\n",
       "\n",
       "**Levels**: 1. 'no'\n",
       "2. 'yes'\n",
       "\n",
       "\n"
      ],
      "text/plain": [
       "[1] yes yes no  yes no \n",
       "Levels: no yes"
      ]
     },
     "metadata": {},
     "output_type": "display_data"
    }
   ],
   "source": [
    "x <- factor(c('yes', 'yes', 'no', 'yes','no')) ## this will create a factor\n",
    "\n",
    "x  ## best thing it will tell about the level in output that we have two level yes and no"
   ]
  },
  {
   "cell_type": "code",
   "execution_count": 39,
   "id": "minus-travel",
   "metadata": {},
   "outputs": [
    {
     "data": {
      "text/plain": [
       "x\n",
       " no yes \n",
       "  2   3 "
      ]
     },
     "metadata": {},
     "output_type": "display_data"
    }
   ],
   "source": [
    "# let apply some fuction of the table\n",
    "\n",
    "table(x) ## the table show the count value for data"
   ]
  },
  {
   "cell_type": "code",
   "execution_count": 40,
   "id": "collaborative-northwest",
   "metadata": {},
   "outputs": [
    {
     "data": {
      "text/html": [
       "<ol class=list-inline>\n",
       "\t<li>2</li>\n",
       "\t<li>2</li>\n",
       "\t<li>1</li>\n",
       "\t<li>2</li>\n",
       "\t<li>1</li>\n",
       "</ol>\n"
      ],
      "text/latex": [
       "\\begin{enumerate*}\n",
       "\\item 2\n",
       "\\item 2\n",
       "\\item 1\n",
       "\\item 2\n",
       "\\item 1\n",
       "\\end{enumerate*}\n"
      ],
      "text/markdown": [
       "1. 2\n",
       "2. 2\n",
       "3. 1\n",
       "4. 2\n",
       "5. 1\n",
       "\n",
       "\n"
      ],
      "text/plain": [
       "[1] 2 2 1 2 1\n",
       "attr(,\"levels\")\n",
       "[1] \"no\"  \"yes\""
      ]
     },
     "metadata": {},
     "output_type": "display_data"
    }
   ],
   "source": [
    "#  Now apply another class which is unclass mean it will show value in numerics\n",
    "\n",
    "unclass(x) "
   ]
  },
  {
   "cell_type": "code",
   "execution_count": 44,
   "id": "gentle-salem",
   "metadata": {},
   "outputs": [
    {
     "ename": "ERROR",
     "evalue": "Error in attr(, \"levels\"): argument 1 is empty\n",
     "output_type": "error",
     "traceback": [
      "Error in attr(, \"levels\"): argument 1 is empty\nTraceback:\n"
     ]
    }
   ],
   "source": [
    "attr(,\"levels\")"
   ]
  },
  {
   "cell_type": "code",
   "execution_count": 45,
   "id": "threaded-stuart",
   "metadata": {
    "scrolled": true
   },
   "outputs": [
    {
     "data": {
      "text/html": [
       "<ol class=list-inline>\n",
       "\t<li>Sunday</li>\n",
       "\t<li>Monday</li>\n",
       "\t<li>Tuesday</li>\n",
       "\t<li>Wenesday</li>\n",
       "\t<li>Thrusday</li>\n",
       "\t<li>Friday</li>\n",
       "\t<li>saturday</li>\n",
       "</ol>\n",
       "\n",
       "<details>\n",
       "\t<summary style=display:list-item;cursor:pointer>\n",
       "\t\t<strong>Levels</strong>:\n",
       "\t</summary>\n",
       "\t<ol class=list-inline>\n",
       "\t\t<li>'Friday'</li>\n",
       "\t\t<li>'Monday'</li>\n",
       "\t\t<li>'saturday'</li>\n",
       "\t\t<li>'Sunday'</li>\n",
       "\t\t<li>'Thrusday'</li>\n",
       "\t\t<li>'Tuesday'</li>\n",
       "\t\t<li>'Wenesday'</li>\n",
       "\t</ol>\n",
       "</details>"
      ],
      "text/latex": [
       "\\begin{enumerate*}\n",
       "\\item Sunday\n",
       "\\item Monday\n",
       "\\item Tuesday\n",
       "\\item Wenesday\n",
       "\\item Thrusday\n",
       "\\item Friday\n",
       "\\item saturday\n",
       "\\end{enumerate*}\n",
       "\n",
       "\\emph{Levels}: \\begin{enumerate*}\n",
       "\\item 'Friday'\n",
       "\\item 'Monday'\n",
       "\\item 'saturday'\n",
       "\\item 'Sunday'\n",
       "\\item 'Thrusday'\n",
       "\\item 'Tuesday'\n",
       "\\item 'Wenesday'\n",
       "\\end{enumerate*}\n"
      ],
      "text/markdown": [
       "1. Sunday\n",
       "2. Monday\n",
       "3. Tuesday\n",
       "4. Wenesday\n",
       "5. Thrusday\n",
       "6. Friday\n",
       "7. saturday\n",
       "\n",
       "\n",
       "\n",
       "**Levels**: 1. 'Friday'\n",
       "2. 'Monday'\n",
       "3. 'saturday'\n",
       "4. 'Sunday'\n",
       "5. 'Thrusday'\n",
       "6. 'Tuesday'\n",
       "7. 'Wenesday'\n",
       "\n",
       "\n"
      ],
      "text/plain": [
       "[1] Sunday   Monday   Tuesday  Wenesday Thrusday Friday   saturday\n",
       "Levels: Friday Monday saturday Sunday Thrusday Tuesday Wenesday"
      ]
     },
     "metadata": {},
     "output_type": "display_data"
    }
   ],
   "source": [
    "# level in factor\n",
    "\n",
    "w <- factor(c(\"Sunday\", \"Monday\", \"Tuesday\", \"Wenesday\", \"Thrusday\", \"Friday\", \"saturday\"))\n",
    "\n",
    "w"
   ]
  },
  {
   "cell_type": "code",
   "execution_count": 50,
   "id": "champion-staff",
   "metadata": {},
   "outputs": [
    {
     "data": {
      "text/html": [
       "<ol class=list-inline>\n",
       "\t<li>Sunday</li>\n",
       "\t<li>Monday</li>\n",
       "\t<li>Tuesday</li>\n",
       "\t<li>Wenesday</li>\n",
       "\t<li>Thrusday</li>\n",
       "\t<li>Friday</li>\n",
       "\t<li>saturday</li>\n",
       "</ol>\n",
       "\n",
       "<details>\n",
       "\t<summary style=display:list-item;cursor:pointer>\n",
       "\t\t<strong>Levels</strong>:\n",
       "\t</summary>\n",
       "\t<ol class=list-inline>\n",
       "\t\t<li>'Monday'</li>\n",
       "\t\t<li>'Tuesday'</li>\n",
       "\t\t<li>'Wenesday'</li>\n",
       "\t\t<li>'Thrusday'</li>\n",
       "\t\t<li>'Friday'</li>\n",
       "\t\t<li>'saturday'</li>\n",
       "\t\t<li>'Sunday'</li>\n",
       "\t</ol>\n",
       "</details>"
      ],
      "text/latex": [
       "\\begin{enumerate*}\n",
       "\\item Sunday\n",
       "\\item Monday\n",
       "\\item Tuesday\n",
       "\\item Wenesday\n",
       "\\item Thrusday\n",
       "\\item Friday\n",
       "\\item saturday\n",
       "\\end{enumerate*}\n",
       "\n",
       "\\emph{Levels}: \\begin{enumerate*}\n",
       "\\item 'Monday'\n",
       "\\item 'Tuesday'\n",
       "\\item 'Wenesday'\n",
       "\\item 'Thrusday'\n",
       "\\item 'Friday'\n",
       "\\item 'saturday'\n",
       "\\item 'Sunday'\n",
       "\\end{enumerate*}\n"
      ],
      "text/markdown": [
       "1. Sunday\n",
       "2. Monday\n",
       "3. Tuesday\n",
       "4. Wenesday\n",
       "5. Thrusday\n",
       "6. Friday\n",
       "7. saturday\n",
       "\n",
       "\n",
       "\n",
       "**Levels**: 1. 'Monday'\n",
       "2. 'Tuesday'\n",
       "3. 'Wenesday'\n",
       "4. 'Thrusday'\n",
       "5. 'Friday'\n",
       "6. 'saturday'\n",
       "7. 'Sunday'\n",
       "\n",
       "\n"
      ],
      "text/plain": [
       "[1] Sunday   Monday   Tuesday  Wenesday Thrusday Friday   saturday\n",
       "Levels: Monday Tuesday Wenesday Thrusday Friday saturday Sunday"
      ]
     },
     "metadata": {},
     "output_type": "display_data"
    }
   ],
   "source": [
    "# Now use the level\n",
    "\n",
    "w <- factor(c(\"Sunday\", \"Monday\", \"Tuesday\", \"Wenesday\", \"Thrusday\", \"Friday\", \"saturday\"),\n",
    "            levels = c(\"Monday\", \"Tuesday\", \"Wenesday\", \"Thrusday\", \"Friday\", \"saturday\", \"Sunday\"))\n",
    "\n",
    "w"
   ]
  },
  {
   "cell_type": "code",
   "execution_count": null,
   "id": "official-celebration",
   "metadata": {},
   "outputs": [],
   "source": []
  },
  {
   "cell_type": "markdown",
   "id": "upset-journey",
   "metadata": {},
   "source": [
    "### Missing Values"
   ]
  },
  {
   "cell_type": "code",
   "execution_count": 51,
   "id": "mature-clearing",
   "metadata": {},
   "outputs": [
    {
     "data": {
      "text/html": [
       "<ol class=list-inline>\n",
       "\t<li>FALSE</li>\n",
       "\t<li>FALSE</li>\n",
       "\t<li>FALSE</li>\n",
       "\t<li>TRUE</li>\n",
       "\t<li>FALSE</li>\n",
       "\t<li>TRUE</li>\n",
       "</ol>\n"
      ],
      "text/latex": [
       "\\begin{enumerate*}\n",
       "\\item FALSE\n",
       "\\item FALSE\n",
       "\\item FALSE\n",
       "\\item TRUE\n",
       "\\item FALSE\n",
       "\\item TRUE\n",
       "\\end{enumerate*}\n"
      ],
      "text/markdown": [
       "1. FALSE\n",
       "2. FALSE\n",
       "3. FALSE\n",
       "4. TRUE\n",
       "5. FALSE\n",
       "6. TRUE\n",
       "\n",
       "\n"
      ],
      "text/plain": [
       "[1] FALSE FALSE FALSE  TRUE FALSE  TRUE"
      ]
     },
     "metadata": {},
     "output_type": "display_data"
    }
   ],
   "source": [
    "# is.na for na mean null values\n",
    "\n",
    "x <- c(1,2, 3, NA, 4, NA)\n",
    "\n",
    "is.na(x)  ## for the null value mean NA it will show TURE "
   ]
  },
  {
   "cell_type": "code",
   "execution_count": 52,
   "id": "promotional-accent",
   "metadata": {},
   "outputs": [
    {
     "data": {
      "text/html": [
       "<ol class=list-inline>\n",
       "\t<li>FALSE</li>\n",
       "\t<li>FALSE</li>\n",
       "\t<li>FALSE</li>\n",
       "\t<li>FALSE</li>\n",
       "\t<li>FALSE</li>\n",
       "\t<li>FALSE</li>\n",
       "</ol>\n"
      ],
      "text/latex": [
       "\\begin{enumerate*}\n",
       "\\item FALSE\n",
       "\\item FALSE\n",
       "\\item FALSE\n",
       "\\item FALSE\n",
       "\\item FALSE\n",
       "\\item FALSE\n",
       "\\end{enumerate*}\n"
      ],
      "text/markdown": [
       "1. FALSE\n",
       "2. FALSE\n",
       "3. FALSE\n",
       "4. FALSE\n",
       "5. FALSE\n",
       "6. FALSE\n",
       "\n",
       "\n"
      ],
      "text/plain": [
       "[1] FALSE FALSE FALSE FALSE FALSE FALSE"
      ]
     },
     "metadata": {},
     "output_type": "display_data"
    }
   ],
   "source": [
    "is.nan(x)  ## this function will not detect the null values in the vector"
   ]
  },
  {
   "cell_type": "code",
   "execution_count": 53,
   "id": "contrary-jackson",
   "metadata": {},
   "outputs": [
    {
     "data": {
      "text/html": [
       "<ol class=list-inline>\n",
       "\t<li>FALSE</li>\n",
       "\t<li>FALSE</li>\n",
       "\t<li>TRUE</li>\n",
       "\t<li>FALSE</li>\n",
       "\t<li>FALSE</li>\n",
       "\t<li>FALSE</li>\n",
       "\t<li>FALSE</li>\n",
       "\t<li>FALSE</li>\n",
       "\t<li>TRUE</li>\n",
       "</ol>\n"
      ],
      "text/latex": [
       "\\begin{enumerate*}\n",
       "\\item FALSE\n",
       "\\item FALSE\n",
       "\\item TRUE\n",
       "\\item FALSE\n",
       "\\item FALSE\n",
       "\\item FALSE\n",
       "\\item FALSE\n",
       "\\item FALSE\n",
       "\\item TRUE\n",
       "\\end{enumerate*}\n"
      ],
      "text/markdown": [
       "1. FALSE\n",
       "2. FALSE\n",
       "3. TRUE\n",
       "4. FALSE\n",
       "5. FALSE\n",
       "6. FALSE\n",
       "7. FALSE\n",
       "8. FALSE\n",
       "9. TRUE\n",
       "\n",
       "\n"
      ],
      "text/plain": [
       "[1] FALSE FALSE  TRUE FALSE FALSE FALSE FALSE FALSE  TRUE"
      ]
     },
     "metadata": {},
     "output_type": "display_data"
    }
   ],
   "source": [
    "x <- c (1,2, NaN, 4, NA, 7, NA, 8, NaN)\n",
    "\n",
    "is.nan(x)  ## now you will see the TURE for the NAN only"
   ]
  },
  {
   "cell_type": "code",
   "execution_count": 54,
   "id": "framed-personality",
   "metadata": {},
   "outputs": [
    {
     "data": {
      "text/html": [
       "<ol class=list-inline>\n",
       "\t<li>FALSE</li>\n",
       "\t<li>FALSE</li>\n",
       "\t<li>TRUE</li>\n",
       "\t<li>FALSE</li>\n",
       "\t<li>TRUE</li>\n",
       "\t<li>FALSE</li>\n",
       "\t<li>TRUE</li>\n",
       "\t<li>FALSE</li>\n",
       "\t<li>TRUE</li>\n",
       "</ol>\n"
      ],
      "text/latex": [
       "\\begin{enumerate*}\n",
       "\\item FALSE\n",
       "\\item FALSE\n",
       "\\item TRUE\n",
       "\\item FALSE\n",
       "\\item TRUE\n",
       "\\item FALSE\n",
       "\\item TRUE\n",
       "\\item FALSE\n",
       "\\item TRUE\n",
       "\\end{enumerate*}\n"
      ],
      "text/markdown": [
       "1. FALSE\n",
       "2. FALSE\n",
       "3. TRUE\n",
       "4. FALSE\n",
       "5. TRUE\n",
       "6. FALSE\n",
       "7. TRUE\n",
       "8. FALSE\n",
       "9. TRUE\n",
       "\n",
       "\n"
      ],
      "text/plain": [
       "[1] FALSE FALSE  TRUE FALSE  TRUE FALSE  TRUE FALSE  TRUE"
      ]
     },
     "metadata": {},
     "output_type": "display_data"
    }
   ],
   "source": [
    "is.na(x) ## this function will detect all the null NaN and NA values "
   ]
  },
  {
   "cell_type": "code",
   "execution_count": null,
   "id": "cleared-parish",
   "metadata": {},
   "outputs": [],
   "source": []
  },
  {
   "cell_type": "code",
   "execution_count": null,
   "id": "nonprofit-russian",
   "metadata": {},
   "outputs": [],
   "source": []
  },
  {
   "cell_type": "markdown",
   "id": "applicable-county",
   "metadata": {},
   "source": [
    "### Data Frame"
   ]
  },
  {
   "cell_type": "code",
   "execution_count": 9,
   "id": "material-riverside",
   "metadata": {},
   "outputs": [
    {
     "data": {
      "text/html": [
       "<table>\n",
       "<thead><tr><th scope=col>day</th><th scope=col>rain</th></tr></thead>\n",
       "<tbody>\n",
       "\t<tr><td>1    </td><td> TRUE</td></tr>\n",
       "\t<tr><td>2    </td><td>FALSE</td></tr>\n",
       "\t<tr><td>3    </td><td> TRUE</td></tr>\n",
       "\t<tr><td>4    </td><td>FALSE</td></tr>\n",
       "</tbody>\n",
       "</table>\n"
      ],
      "text/latex": [
       "\\begin{tabular}{r|ll}\n",
       " day & rain\\\\\n",
       "\\hline\n",
       "\t 1     &  TRUE\\\\\n",
       "\t 2     & FALSE\\\\\n",
       "\t 3     &  TRUE\\\\\n",
       "\t 4     & FALSE\\\\\n",
       "\\end{tabular}\n"
      ],
      "text/markdown": [
       "\n",
       "| day | rain |\n",
       "|---|---|\n",
       "| 1     |  TRUE |\n",
       "| 2     | FALSE |\n",
       "| 3     |  TRUE |\n",
       "| 4     | FALSE |\n",
       "\n"
      ],
      "text/plain": [
       "  day rain \n",
       "1 1    TRUE\n",
       "2 2   FALSE\n",
       "3 3    TRUE\n",
       "4 4   FALSE"
      ]
     },
     "metadata": {},
     "output_type": "display_data"
    }
   ],
   "source": [
    "# create the a datafram\n",
    "\n",
    "d <- data.frame(day = 1:4, rain = c(T,F,T,F))\n",
    "\n",
    "d"
   ]
  },
  {
   "cell_type": "code",
   "execution_count": 12,
   "id": "approved-consequence",
   "metadata": {},
   "outputs": [
    {
     "data": {
      "text/html": [
       "4"
      ],
      "text/latex": [
       "4"
      ],
      "text/markdown": [
       "4"
      ],
      "text/plain": [
       "[1] 4"
      ]
     },
     "metadata": {},
     "output_type": "display_data"
    }
   ],
   "source": [
    "nrow(d)"
   ]
  },
  {
   "cell_type": "code",
   "execution_count": 13,
   "id": "republican-campaign",
   "metadata": {},
   "outputs": [
    {
     "data": {
      "text/html": [
       "2"
      ],
      "text/latex": [
       "2"
      ],
      "text/markdown": [
       "2"
      ],
      "text/plain": [
       "[1] 2"
      ]
     },
     "metadata": {},
     "output_type": "display_data"
    }
   ],
   "source": [
    "ncol(d)"
   ]
  },
  {
   "cell_type": "code",
   "execution_count": null,
   "id": "least-figure",
   "metadata": {},
   "outputs": [],
   "source": []
  },
  {
   "cell_type": "markdown",
   "id": "pleased-bathroom",
   "metadata": {},
   "source": [
    "### Obeject_name"
   ]
  },
  {
   "cell_type": "code",
   "execution_count": 14,
   "id": "narrative-accessory",
   "metadata": {},
   "outputs": [],
   "source": [
    "# so here we will try the example of the object names\n"
   ]
  },
  {
   "cell_type": "code",
   "execution_count": 16,
   "id": "arranged-activity",
   "metadata": {},
   "outputs": [
    {
     "data": {
      "text/html": [
       "<dl>\n",
       "\t<dt>$a</dt>\n",
       "\t\t<dd><ol class=list-inline>\n",
       "\t<li>1</li>\n",
       "\t<li>2</li>\n",
       "\t<li>3</li>\n",
       "\t<li>4</li>\n",
       "</ol>\n",
       "</dd>\n",
       "\t<dt>$b</dt>\n",
       "\t\t<dd>'Awais'</dd>\n",
       "\t<dt>$c</dt>\n",
       "\t\t<dd>'I am fine'</dd>\n",
       "</dl>\n"
      ],
      "text/latex": [
       "\\begin{description}\n",
       "\\item[\\$a] \\begin{enumerate*}\n",
       "\\item 1\n",
       "\\item 2\n",
       "\\item 3\n",
       "\\item 4\n",
       "\\end{enumerate*}\n",
       "\n",
       "\\item[\\$b] 'Awais'\n",
       "\\item[\\$c] 'I am fine'\n",
       "\\end{description}\n"
      ],
      "text/markdown": [
       "$a\n",
       ":   1. 1\n",
       "2. 2\n",
       "3. 3\n",
       "4. 4\n",
       "\n",
       "\n",
       "\n",
       "$b\n",
       ":   'Awais'\n",
       "$c\n",
       ":   'I am fine'\n",
       "\n",
       "\n"
      ],
      "text/plain": [
       "$a\n",
       "[1] 1 2 3 4\n",
       "\n",
       "$b\n",
       "[1] \"Awais\"\n",
       "\n",
       "$c\n",
       "[1] \"I am fine\"\n"
      ]
     },
     "metadata": {},
     "output_type": "display_data"
    },
    {
     "data": {
      "text/html": [
       "'Awais'"
      ],
      "text/latex": [
       "'Awais'"
      ],
      "text/markdown": [
       "'Awais'"
      ],
      "text/plain": [
       "[1] \"Awais\""
      ]
     },
     "metadata": {},
     "output_type": "display_data"
    }
   ],
   "source": [
    "x <- list( a = 1:4, b = \"Awais\", c = 'I am fine')\n",
    "#x\n",
    "\n",
    "x$b"
   ]
  },
  {
   "cell_type": "code",
   "execution_count": 21,
   "id": "composed-obligation",
   "metadata": {},
   "outputs": [
    {
     "data": {
      "text/html": [
       "<table>\n",
       "<tbody>\n",
       "\t<tr><td>1</td><td>3</td><td>5</td></tr>\n",
       "\t<tr><td>2</td><td>4</td><td>6</td></tr>\n",
       "</tbody>\n",
       "</table>\n"
      ],
      "text/latex": [
       "\\begin{tabular}{lll}\n",
       "\t 1 & 3 & 5\\\\\n",
       "\t 2 & 4 & 6\\\\\n",
       "\\end{tabular}\n"
      ],
      "text/markdown": [
       "\n",
       "| 1 | 3 | 5 |\n",
       "| 2 | 4 | 6 |\n",
       "\n"
      ],
      "text/plain": [
       "     [,1] [,2] [,3]\n",
       "[1,] 1    3    5   \n",
       "[2,] 2    4    6   "
      ]
     },
     "metadata": {},
     "output_type": "display_data"
    }
   ],
   "source": [
    " m <- matrix(1:6, nrow =2  , ncol = 3)\n",
    "dimname <- list(c('r1', 'rii', 'r3'), c('c1','cii', 'c3'))\n",
    " \n",
    "m"
   ]
  },
  {
   "cell_type": "code",
   "execution_count": null,
   "id": "moving-benjamin",
   "metadata": {},
   "outputs": [],
   "source": []
  },
  {
   "cell_type": "code",
   "execution_count": null,
   "id": "accomplished-progressive",
   "metadata": {},
   "outputs": [],
   "source": []
  },
  {
   "cell_type": "markdown",
   "id": "touched-reconstruction",
   "metadata": {},
   "source": [
    "## Datatypes and operations 2"
   ]
  },
  {
   "cell_type": "markdown",
   "id": "solid-doctrine",
   "metadata": {},
   "source": [
    "### subset"
   ]
  },
  {
   "cell_type": "code",
   "execution_count": 23,
   "id": "maritime-franchise",
   "metadata": {},
   "outputs": [
    {
     "data": {
      "text/html": [
       "'a'"
      ],
      "text/latex": [
       "'a'"
      ],
      "text/markdown": [
       "'a'"
      ],
      "text/plain": [
       "[1] \"a\""
      ]
     },
     "metadata": {},
     "output_type": "display_data"
    }
   ],
   "source": [
    "# example of subsetting of data\n",
    "\n",
    "x <- c(\"a\", 'b,','A', 'c', 'd','a', 'B', 'A')\n",
    "\n",
    "x[1] # return the value of first index"
   ]
  },
  {
   "cell_type": "code",
   "execution_count": 25,
   "id": "every-border",
   "metadata": {},
   "outputs": [
    {
     "data": {
      "text/html": [
       "<ol class=list-inline>\n",
       "\t<li>'b,'</li>\n",
       "\t<li>'A'</li>\n",
       "\t<li>'c'</li>\n",
       "\t<li>'d'</li>\n",
       "\t<li>'B'</li>\n",
       "\t<li>'A'</li>\n",
       "</ol>\n"
      ],
      "text/latex": [
       "\\begin{enumerate*}\n",
       "\\item 'b,'\n",
       "\\item 'A'\n",
       "\\item 'c'\n",
       "\\item 'd'\n",
       "\\item 'B'\n",
       "\\item 'A'\n",
       "\\end{enumerate*}\n"
      ],
      "text/markdown": [
       "1. 'b,'\n",
       "2. 'A'\n",
       "3. 'c'\n",
       "4. 'd'\n",
       "5. 'B'\n",
       "6. 'A'\n",
       "\n",
       "\n"
      ],
      "text/plain": [
       "[1] \"b,\" \"A\"  \"c\"  \"d\"  \"B\"  \"A\" "
      ]
     },
     "metadata": {},
     "output_type": "display_data"
    }
   ],
   "source": [
    "x[ x > 'a'] # the value of which greater then \"a\""
   ]
  },
  {
   "cell_type": "code",
   "execution_count": 26,
   "id": "chief-democracy",
   "metadata": {},
   "outputs": [
    {
     "data": {
      "text/html": [
       "<ol class=list-inline>\n",
       "\t<li>'b,'</li>\n",
       "\t<li>'c'</li>\n",
       "\t<li>'d'</li>\n",
       "\t<li>'B'</li>\n",
       "</ol>\n"
      ],
      "text/latex": [
       "\\begin{enumerate*}\n",
       "\\item 'b,'\n",
       "\\item 'c'\n",
       "\\item 'd'\n",
       "\\item 'B'\n",
       "\\end{enumerate*}\n"
      ],
      "text/markdown": [
       "1. 'b,'\n",
       "2. 'c'\n",
       "3. 'd'\n",
       "4. 'B'\n",
       "\n",
       "\n"
      ],
      "text/plain": [
       "[1] \"b,\" \"c\"  \"d\"  \"B\" "
      ]
     },
     "metadata": {},
     "output_type": "display_data"
    }
   ],
   "source": [
    "x[x > 'A']"
   ]
  },
  {
   "cell_type": "code",
   "execution_count": 27,
   "id": "intended-produce",
   "metadata": {},
   "outputs": [
    {
     "data": {
      "text/html": [
       "'d'"
      ],
      "text/latex": [
       "'d'"
      ],
      "text/markdown": [
       "'d'"
      ],
      "text/plain": [
       "[1] \"d\""
      ]
     },
     "metadata": {},
     "output_type": "display_data"
    }
   ],
   "source": [
    "x[ x > 'c']"
   ]
  },
  {
   "cell_type": "code",
   "execution_count": 30,
   "id": "covered-treasury",
   "metadata": {},
   "outputs": [],
   "source": [
    "u <- x > 'b'"
   ]
  },
  {
   "cell_type": "code",
   "execution_count": 31,
   "id": "drawn-ranking",
   "metadata": {},
   "outputs": [
    {
     "data": {
      "text/html": [
       "<ol class=list-inline>\n",
       "\t<li>FALSE</li>\n",
       "\t<li>TRUE</li>\n",
       "\t<li>FALSE</li>\n",
       "\t<li>TRUE</li>\n",
       "\t<li>TRUE</li>\n",
       "\t<li>FALSE</li>\n",
       "\t<li>TRUE</li>\n",
       "\t<li>FALSE</li>\n",
       "</ol>\n"
      ],
      "text/latex": [
       "\\begin{enumerate*}\n",
       "\\item FALSE\n",
       "\\item TRUE\n",
       "\\item FALSE\n",
       "\\item TRUE\n",
       "\\item TRUE\n",
       "\\item FALSE\n",
       "\\item TRUE\n",
       "\\item FALSE\n",
       "\\end{enumerate*}\n"
      ],
      "text/markdown": [
       "1. FALSE\n",
       "2. TRUE\n",
       "3. FALSE\n",
       "4. TRUE\n",
       "5. TRUE\n",
       "6. FALSE\n",
       "7. TRUE\n",
       "8. FALSE\n",
       "\n",
       "\n"
      ],
      "text/plain": [
       "[1] FALSE  TRUE FALSE  TRUE  TRUE FALSE  TRUE FALSE"
      ]
     },
     "metadata": {},
     "output_type": "display_data"
    }
   ],
   "source": [
    "u[]"
   ]
  },
  {
   "cell_type": "markdown",
   "id": "first-baghdad",
   "metadata": {},
   "source": [
    "### Subset of matrix"
   ]
  },
  {
   "cell_type": "code",
   "execution_count": 32,
   "id": "norwegian-concentrate",
   "metadata": {},
   "outputs": [
    {
     "data": {
      "text/html": [
       "3"
      ],
      "text/latex": [
       "3"
      ],
      "text/markdown": [
       "3"
      ],
      "text/plain": [
       "[1] 3"
      ]
     },
     "metadata": {},
     "output_type": "display_data"
    }
   ],
   "source": [
    "m <- matrix(1:6, 2,3)\n",
    "\n",
    "m[1,2]"
   ]
  },
  {
   "cell_type": "code",
   "execution_count": 35,
   "id": "short-personal",
   "metadata": {},
   "outputs": [
    {
     "data": {
      "text/html": [
       "2"
      ],
      "text/latex": [
       "2"
      ],
      "text/markdown": [
       "2"
      ],
      "text/plain": [
       "[1] 2"
      ]
     },
     "metadata": {},
     "output_type": "display_data"
    }
   ],
   "source": [
    "m[2,1]"
   ]
  },
  {
   "cell_type": "code",
   "execution_count": 36,
   "id": "regional-dividend",
   "metadata": {},
   "outputs": [
    {
     "data": {
      "text/html": [
       "<ol class=list-inline>\n",
       "\t<li>3</li>\n",
       "\t<li>4</li>\n",
       "</ol>\n"
      ],
      "text/latex": [
       "\\begin{enumerate*}\n",
       "\\item 3\n",
       "\\item 4\n",
       "\\end{enumerate*}\n"
      ],
      "text/markdown": [
       "1. 3\n",
       "2. 4\n",
       "\n",
       "\n"
      ],
      "text/plain": [
       "[1] 3 4"
      ]
     },
     "metadata": {},
     "output_type": "display_data"
    }
   ],
   "source": [
    "m[,2]"
   ]
  },
  {
   "cell_type": "code",
   "execution_count": 38,
   "id": "therapeutic-findings",
   "metadata": {},
   "outputs": [
    {
     "data": {
      "text/html": [
       "3"
      ],
      "text/latex": [
       "3"
      ],
      "text/markdown": [
       "3"
      ],
      "text/plain": [
       "[1] 3"
      ]
     },
     "metadata": {},
     "output_type": "display_data"
    }
   ],
   "source": [
    "x <- matrix(1:6, 2,3)\n",
    "\n",
    "x[1,2]"
   ]
  },
  {
   "cell_type": "code",
   "execution_count": 40,
   "id": "herbal-collapse",
   "metadata": {},
   "outputs": [
    {
     "data": {
      "text/html": [
       "<table>\n",
       "<tbody>\n",
       "\t<tr><td>3</td></tr>\n",
       "</tbody>\n",
       "</table>\n"
      ],
      "text/latex": [
       "\\begin{tabular}{l}\n",
       "\t 3\\\\\n",
       "\\end{tabular}\n"
      ],
      "text/markdown": [
       "\n",
       "| 3 |\n",
       "\n"
      ],
      "text/plain": [
       "     [,1]\n",
       "[1,] 3   "
      ]
     },
     "metadata": {},
     "output_type": "display_data"
    }
   ],
   "source": [
    "x[1,2, drop= FALSE]"
   ]
  },
  {
   "cell_type": "code",
   "execution_count": null,
   "id": "choice-steal",
   "metadata": {},
   "outputs": [],
   "source": []
  },
  {
   "cell_type": "markdown",
   "id": "developed-basket",
   "metadata": {},
   "source": [
    "### subset of the list"
   ]
  },
  {
   "cell_type": "code",
   "execution_count": 42,
   "id": "collective-lithuania",
   "metadata": {},
   "outputs": [
    {
     "data": {
      "text/html": [
       "<strong>$weekend</strong> = <ol class=list-inline>\n",
       "\t<li>1</li>\n",
       "\t<li>2</li>\n",
       "\t<li>3</li>\n",
       "\t<li>4</li>\n",
       "</ol>\n"
      ],
      "text/latex": [
       "\\textbf{\\$weekend} = \\begin{enumerate*}\n",
       "\\item 1\n",
       "\\item 2\n",
       "\\item 3\n",
       "\\item 4\n",
       "\\end{enumerate*}\n"
      ],
      "text/markdown": [
       "**$weekend** = 1. 1\n",
       "2. 2\n",
       "3. 3\n",
       "4. 4\n",
       "\n",
       "\n"
      ],
      "text/plain": [
       "$weekend\n",
       "[1] 1 2 3 4\n"
      ]
     },
     "metadata": {},
     "output_type": "display_data"
    }
   ],
   "source": [
    "# example of the list ot sub set\n",
    "\n",
    "l <- list(weekend = 1:4, rain_pro = .6)\n",
    "\n",
    "l[1]"
   ]
  },
  {
   "cell_type": "code",
   "execution_count": null,
   "id": "genetic-scenario",
   "metadata": {},
   "outputs": [],
   "source": []
  },
  {
   "cell_type": "markdown",
   "id": "southeast-metropolitan",
   "metadata": {},
   "source": [
    "### Control structure "
   ]
  },
  {
   "cell_type": "code",
   "execution_count": 1,
   "id": "attempted-present",
   "metadata": {},
   "outputs": [],
   "source": [
    "#if_ else example\n"
   ]
  },
  {
   "cell_type": "code",
   "execution_count": 17,
   "id": "saving-mainland",
   "metadata": {},
   "outputs": [
    {
     "data": {
      "text/html": [
       "10"
      ],
      "text/latex": [
       "10"
      ],
      "text/markdown": [
       "10"
      ],
      "text/plain": [
       "[1] 10"
      ]
     },
     "metadata": {},
     "output_type": "display_data"
    }
   ],
   "source": [
    "x <- 3\n",
    "y <- 0\n",
    "\n",
    "if (x > 2){\n",
    "      y <- 10\n",
    "        y\n",
    "} else {\n",
    "    y\n",
    "}"
   ]
  },
  {
   "cell_type": "code",
   "execution_count": 18,
   "id": "damaged-hebrew",
   "metadata": {},
   "outputs": [],
   "source": [
    "#second method for above "
   ]
  },
  {
   "cell_type": "code",
   "execution_count": 23,
   "id": "severe-teach",
   "metadata": {},
   "outputs": [
    {
     "name": "stdout",
     "output_type": "stream",
     "text": [
      "[1] 0\n"
     ]
    }
   ],
   "source": [
    "print(y <- if(x > 1){\n",
    "    10\n",
    "    y\n",
    "} else {\n",
    "    0\n",
    "})"
   ]
  },
  {
   "cell_type": "code",
   "execution_count": null,
   "id": "sized-complex",
   "metadata": {},
   "outputs": [],
   "source": []
  },
  {
   "cell_type": "markdown",
   "id": "informative-medicine",
   "metadata": {},
   "source": [
    "### control structur: For loop"
   ]
  },
  {
   "cell_type": "code",
   "execution_count": 25,
   "id": "featured-proceeding",
   "metadata": {},
   "outputs": [
    {
     "name": "stdout",
     "output_type": "stream",
     "text": [
      "[1] \"a\"\n",
      "[1] \"b\"\n",
      "[1] \"c\"\n",
      "[1] \"d\"\n",
      "[1] \"e\"\n",
      "[1] \"f\"\n"
     ]
    }
   ],
   "source": [
    "# ist method to used to run for loop\n",
    "x <- c('a', 'b','c','d','e','f')\n",
    "\n",
    "for( i in 1:6){\n",
    "    print(x[i])\n",
    "}"
   ]
  },
  {
   "cell_type": "code",
   "execution_count": 26,
   "id": "alert-colonial",
   "metadata": {},
   "outputs": [
    {
     "name": "stdout",
     "output_type": "stream",
     "text": [
      "[1] \"a\"\n",
      "[1] \"b\"\n",
      "[1] \"c\"\n",
      "[1] \"d\"\n",
      "[1] \"e\"\n",
      "[1] \"f\"\n"
     ]
    }
   ],
   "source": [
    "# second method for loop\n",
    "\n",
    "x <- c('a', 'b','c','d','e','f')\n",
    "for (i in seq_along(x)){\n",
    "    print(x[i])\n",
    "}\n",
    "    "
   ]
  },
  {
   "cell_type": "code",
   "execution_count": 29,
   "id": "extraordinary-aggregate",
   "metadata": {},
   "outputs": [
    {
     "name": "stdout",
     "output_type": "stream",
     "text": [
      "[1] \"a\"\n",
      "[1] \"b\"\n",
      "[1] \"c\"\n",
      "[1] \"d\"\n",
      "[1] \"e\"\n",
      "[1] \"f\"\n"
     ]
    }
   ],
   "source": [
    "# third method for loop\n",
    "\n",
    "x <- c('a', 'b','c','d','e','f')\n",
    "\n",
    "for(i in x){\n",
    "    print(i)\n",
    "}"
   ]
  },
  {
   "cell_type": "markdown",
   "id": "fantastic-venture",
   "metadata": {},
   "source": [
    "### Control sturcture nested loop"
   ]
  },
  {
   "cell_type": "code",
   "execution_count": 44,
   "id": "missing-civilization",
   "metadata": {},
   "outputs": [
    {
     "data": {
      "text/html": [
       "<table>\n",
       "<tbody>\n",
       "\t<tr><td>1 </td><td> 6</td><td>11</td><td>16</td><td>21</td></tr>\n",
       "\t<tr><td>2 </td><td> 7</td><td>12</td><td>17</td><td>22</td></tr>\n",
       "\t<tr><td>3 </td><td> 8</td><td>13</td><td>18</td><td>23</td></tr>\n",
       "\t<tr><td>4 </td><td> 9</td><td>14</td><td>19</td><td>24</td></tr>\n",
       "\t<tr><td>5 </td><td>10</td><td>15</td><td>20</td><td>25</td></tr>\n",
       "</tbody>\n",
       "</table>\n"
      ],
      "text/latex": [
       "\\begin{tabular}{lllll}\n",
       "\t 1  &  6 & 11 & 16 & 21\\\\\n",
       "\t 2  &  7 & 12 & 17 & 22\\\\\n",
       "\t 3  &  8 & 13 & 18 & 23\\\\\n",
       "\t 4  &  9 & 14 & 19 & 24\\\\\n",
       "\t 5  & 10 & 15 & 20 & 25\\\\\n",
       "\\end{tabular}\n"
      ],
      "text/markdown": [
       "\n",
       "| 1  |  6 | 11 | 16 | 21 |\n",
       "| 2  |  7 | 12 | 17 | 22 |\n",
       "| 3  |  8 | 13 | 18 | 23 |\n",
       "| 4  |  9 | 14 | 19 | 24 |\n",
       "| 5  | 10 | 15 | 20 | 25 |\n",
       "\n"
      ],
      "text/plain": [
       "     [,1] [,2] [,3] [,4] [,5]\n",
       "[1,] 1     6   11   16   21  \n",
       "[2,] 2     7   12   17   22  \n",
       "[3,] 3     8   13   18   23  \n",
       "[4,] 4     9   14   19   24  \n",
       "[5,] 5    10   15   20   25  "
      ]
     },
     "metadata": {},
     "output_type": "display_data"
    }
   ],
   "source": [
    "# nested loop\n",
    "\n",
    "x <- matrix(1:25, 5,5)\n",
    "\n",
    "x\n"
   ]
  },
  {
   "cell_type": "code",
   "execution_count": 47,
   "id": "secret-initial",
   "metadata": {},
   "outputs": [
    {
     "name": "stdout",
     "output_type": "stream",
     "text": [
      "[1] 1\n",
      "[1] 6\n",
      "[1] 11\n",
      "[1] 16\n",
      "[1] 21\n",
      "[1] 2\n",
      "[1] 7\n",
      "[1] 12\n",
      "[1] 17\n",
      "[1] 22\n",
      "[1] 3\n",
      "[1] 8\n",
      "[1] 13\n",
      "[1] 18\n",
      "[1] 23\n",
      "[1] 4\n",
      "[1] 9\n",
      "[1] 14\n",
      "[1] 19\n",
      "[1] 24\n",
      "[1] 5\n",
      "[1] 10\n",
      "[1] 15\n",
      "[1] 20\n",
      "[1] 25\n"
     ]
    }
   ],
   "source": [
    "y <- for(i in seq_len(ncol(x))) {\n",
    "        for(j in seq_len(nrow(x))) {\n",
    "            print(x[i, j])\n",
    "    }\n",
    "}"
   ]
  },
  {
   "cell_type": "code",
   "execution_count": 48,
   "id": "similar-beads",
   "metadata": {},
   "outputs": [
    {
     "ename": "ERROR",
     "evalue": "Error in read.table(y): 'file' must be a character string or connection\n",
     "output_type": "error",
     "traceback": [
      "Error in read.table(y): 'file' must be a character string or connection\nTraceback:\n",
      "1. read.table(y)",
      "2. stop(\"'file' must be a character string or connection\")"
     ]
    }
   ],
   "source": []
  },
  {
   "cell_type": "markdown",
   "id": "iraqi-borough",
   "metadata": {},
   "source": [
    "### While loop"
   ]
  },
  {
   "cell_type": "code",
   "execution_count": 2,
   "id": "starting-tennessee",
   "metadata": {},
   "outputs": [
    {
     "name": "stdout",
     "output_type": "stream",
     "text": [
      "[1] 0\n",
      "[1] 1\n",
      "[1] 2\n",
      "[1] 3\n",
      "[1] 4\n",
      "[1] 5\n",
      "[1] 6\n",
      "[1] 7\n",
      "[1] 8\n",
      "[1] 9\n"
     ]
    }
   ],
   "source": [
    "count <- 0 \n",
    "\n",
    "while(count < 10) {\n",
    "    print(count)\n",
    "    count <- count+1\n",
    "}"
   ]
  },
  {
   "cell_type": "code",
   "execution_count": 3,
   "id": "lesser-seminar",
   "metadata": {},
   "outputs": [],
   "source": [
    "# second example of while loop"
   ]
  },
  {
   "cell_type": "code",
   "execution_count": 13,
   "id": "planned-evidence",
   "metadata": {},
   "outputs": [
    {
     "name": "stdout",
     "output_type": "stream",
     "text": [
      "[1] 5\n",
      "[1] 6\n",
      "[1] 7\n",
      "[1] 8\n",
      "[1] 7\n",
      "[1] 8\n",
      "[1] 7\n",
      "[1] 8\n",
      "[1] 7\n",
      "[1] 6\n",
      "[1] 7\n",
      "[1] 6\n",
      "[1] 7\n",
      "[1] 8\n",
      "[1] 9\n",
      "[1] 10\n"
     ]
    }
   ],
   "source": [
    "z <- 5\n",
    "\n",
    "while(z >= 3 && z<= 10) {\n",
    "    print(z)\n",
    "    coin <- rbinom(1,1,0.5)\n",
    "    \n",
    "    if(coin == 1) {\n",
    "        z <- z+1\n",
    "    }\n",
    "    else {\n",
    "        z <- z-1\n",
    "    }\n",
    "}"
   ]
  },
  {
   "cell_type": "code",
   "execution_count": null,
   "id": "acting-index",
   "metadata": {},
   "outputs": [],
   "source": []
  },
  {
   "cell_type": "markdown",
   "id": "manual-theology",
   "metadata": {},
   "source": [
    "### Funtion in R"
   ]
  },
  {
   "cell_type": "code",
   "execution_count": 1,
   "id": "authentic-directory",
   "metadata": {},
   "outputs": [
    {
     "name": "stdout",
     "output_type": "stream",
     "text": [
      " [1] 32 33 34 35 36 37 38 39 40 41 42 43 44\n"
     ]
    }
   ],
   "source": [
    "#R has some built in functions seq(), max(), min(), etc\n",
    "\n",
    "# Create a sequence of numbers from 32 to 44.\n",
    "\n",
    "print(seq(32,44))"
   ]
  },
  {
   "cell_type": "code",
   "execution_count": 3,
   "id": "toxic-arrow",
   "metadata": {},
   "outputs": [
    {
     "name": "stdout",
     "output_type": "stream",
     "text": [
      "[1] 53.5\n"
     ]
    }
   ],
   "source": [
    "# Find mean of numbers from 25 to 82.\n",
    "print(mean(25:82))"
   ]
  },
  {
   "cell_type": "code",
   "execution_count": 7,
   "id": "animal-warrant",
   "metadata": {},
   "outputs": [
    {
     "name": "stdout",
     "output_type": "stream",
     "text": [
      "[1] 1526\n"
     ]
    }
   ],
   "source": [
    "# Find sum of numbers frm 41 to 68.\n",
    "print(sum(41:68))"
   ]
  },
  {
   "cell_type": "code",
   "execution_count": 14,
   "id": "satellite-solid",
   "metadata": {},
   "outputs": [
    {
     "name": "stdout",
     "output_type": "stream",
     "text": [
      "[1] 1\n",
      "[1] 4\n",
      "[1] 9\n",
      "[1] 16\n",
      "[1] 25\n",
      "[1] 36\n"
     ]
    }
   ],
   "source": [
    "#User-defined Function\n",
    "# Create a function to print squares of numbers in sequence.\n",
    "\n",
    "func <- function(a){\n",
    "    for(i in 1:a){\n",
    "        print(b <- i^2)\n",
    "    }\n",
    "}\n",
    "\n",
    "\n",
    "# Call the function new.function supplying 6 as an argument.\n",
    "func(6)"
   ]
  },
  {
   "cell_type": "code",
   "execution_count": 17,
   "id": "greenhouse-location",
   "metadata": {},
   "outputs": [
    {
     "name": "stdout",
     "output_type": "stream",
     "text": [
      "[1] 6\n"
     ]
    }
   ],
   "source": [
    "# another function with 3 aurguments\n",
    "\n",
    "fun <- function(a,b,c) {\n",
    "    res <- a*b-c\n",
    "    print(res)\n",
    "}\n",
    "\n",
    "fun(3,3,3)"
   ]
  },
  {
   "cell_type": "code",
   "execution_count": 18,
   "id": "pediatric-stocks",
   "metadata": {},
   "outputs": [
    {
     "name": "stdout",
     "output_type": "stream",
     "text": [
      "[1] 0.25\n"
     ]
    }
   ],
   "source": [
    "#Calling a Function with Default Argument\n",
    "\n",
    "new_fun <- function(a=1, b=4) {\n",
    "    res <- a/b\n",
    "    print(res)\n",
    "}\n",
    "\n",
    "new_fun()"
   ]
  },
  {
   "cell_type": "code",
   "execution_count": 19,
   "id": "controlled-nevada",
   "metadata": {},
   "outputs": [
    {
     "name": "stdout",
     "output_type": "stream",
     "text": [
      "[1] 2\n"
     ]
    }
   ],
   "source": [
    "new_fun(8)"
   ]
  },
  {
   "cell_type": "code",
   "execution_count": 20,
   "id": "found-cosmetic",
   "metadata": {},
   "outputs": [
    {
     "name": "stdout",
     "output_type": "stream",
     "text": [
      "[1] 0.1111111\n"
     ]
    }
   ],
   "source": [
    "new_fun(,9)"
   ]
  },
  {
   "cell_type": "markdown",
   "id": "civic-bride",
   "metadata": {},
   "source": [
    "### Lazy Evaluation of Function"
   ]
  },
  {
   "cell_type": "code",
   "execution_count": 21,
   "id": "ultimate-military",
   "metadata": {},
   "outputs": [
    {
     "name": "stdout",
     "output_type": "stream",
     "text": [
      "[1] 36\n",
      "[1] 6\n"
     ]
    },
    {
     "ename": "ERROR",
     "evalue": "Error in print(b): argument \"b\" is missing, with no default\n",
     "output_type": "error",
     "traceback": [
      "Error in print(b): argument \"b\" is missing, with no default\nTraceback:\n",
      "1. lazy_fun(6)",
      "2. print(b)   # at line 6 of file <text>"
     ]
    }
   ],
   "source": [
    "#Arguments to functions are evaluated lazily, which means so they are evaluated only when needed by the function body.\n",
    "\n",
    "lazy_fun <- function(a, b){\n",
    "    print(a^2)\n",
    "    print(a)\n",
    "    print(b)\n",
    "}\n",
    "\n",
    "#call the function // this is lazy function because Evaluate the function without supplying one of the arguments.\n",
    "lazy_fun(6)"
   ]
  },
  {
   "cell_type": "code",
   "execution_count": null,
   "id": "behind-lambda",
   "metadata": {},
   "outputs": [],
   "source": []
  },
  {
   "cell_type": "markdown",
   "id": "miniature-walker",
   "metadata": {},
   "source": [
    "### Vectorized operation"
   ]
  },
  {
   "cell_type": "code",
   "execution_count": 23,
   "id": "little-fashion",
   "metadata": {},
   "outputs": [
    {
     "data": {
      "text/html": [
       "<table>\n",
       "<tbody>\n",
       "\t<tr><td>1</td><td>3</td></tr>\n",
       "\t<tr><td>2</td><td>4</td></tr>\n",
       "</tbody>\n",
       "</table>\n"
      ],
      "text/latex": [
       "\\begin{tabular}{ll}\n",
       "\t 1 & 3\\\\\n",
       "\t 2 & 4\\\\\n",
       "\\end{tabular}\n"
      ],
      "text/markdown": [
       "\n",
       "| 1 | 3 |\n",
       "| 2 | 4 |\n",
       "\n"
      ],
      "text/plain": [
       "     [,1] [,2]\n",
       "[1,] 1    3   \n",
       "[2,] 2    4   "
      ]
     },
     "metadata": {},
     "output_type": "display_data"
    },
    {
     "data": {
      "text/html": [
       "<table>\n",
       "<tbody>\n",
       "\t<tr><td>10</td><td>10</td></tr>\n",
       "\t<tr><td>10</td><td>10</td></tr>\n",
       "</tbody>\n",
       "</table>\n"
      ],
      "text/latex": [
       "\\begin{tabular}{ll}\n",
       "\t 10 & 10\\\\\n",
       "\t 10 & 10\\\\\n",
       "\\end{tabular}\n"
      ],
      "text/markdown": [
       "\n",
       "| 10 | 10 |\n",
       "| 10 | 10 |\n",
       "\n"
      ],
      "text/plain": [
       "     [,1] [,2]\n",
       "[1,] 10   10  \n",
       "[2,] 10   10  "
      ]
     },
     "metadata": {},
     "output_type": "display_data"
    },
    {
     "name": "stdout",
     "output_type": "stream",
     "text": [
      "[1] \"-----------------Here the Result of Multiplication of two matrix--------------------------------\"\n"
     ]
    },
    {
     "data": {
      "text/html": [
       "<table>\n",
       "<tbody>\n",
       "\t<tr><td>10</td><td>30</td></tr>\n",
       "\t<tr><td>20</td><td>40</td></tr>\n",
       "</tbody>\n",
       "</table>\n"
      ],
      "text/latex": [
       "\\begin{tabular}{ll}\n",
       "\t 10 & 30\\\\\n",
       "\t 20 & 40\\\\\n",
       "\\end{tabular}\n"
      ],
      "text/markdown": [
       "\n",
       "| 10 | 30 |\n",
       "| 20 | 40 |\n",
       "\n"
      ],
      "text/plain": [
       "     [,1] [,2]\n",
       "[1,] 10   30  \n",
       "[2,] 20   40  "
      ]
     },
     "metadata": {},
     "output_type": "display_data"
    }
   ],
   "source": [
    "x <- matrix(1:4, 2,2); y <- matrix(rep(10, 4), 2,2)\n",
    "\n",
    "x\n",
    "y\n",
    "print('-----------------Here the Result of Multiplication of two matrix--------------------------------')\n",
    "x* y # it will perform the dot matix multiplication mean/ one value with the one value of column of other matrix"
   ]
  },
  {
   "cell_type": "code",
   "execution_count": 25,
   "id": "above-undergraduate",
   "metadata": {},
   "outputs": [
    {
     "name": "stdout",
     "output_type": "stream",
     "text": [
      "[1] \"--------------Result------------\"\n"
     ]
    },
    {
     "data": {
      "text/html": [
       "<table>\n",
       "<tbody>\n",
       "\t<tr><td>0.1</td><td>0.3</td></tr>\n",
       "\t<tr><td>0.2</td><td>0.4</td></tr>\n",
       "</tbody>\n",
       "</table>\n"
      ],
      "text/latex": [
       "\\begin{tabular}{ll}\n",
       "\t 0.1 & 0.3\\\\\n",
       "\t 0.2 & 0.4\\\\\n",
       "\\end{tabular}\n"
      ],
      "text/markdown": [
       "\n",
       "| 0.1 | 0.3 |\n",
       "| 0.2 | 0.4 |\n",
       "\n"
      ],
      "text/plain": [
       "     [,1] [,2]\n",
       "[1,] 0.1  0.3 \n",
       "[2,] 0.2  0.4 "
      ]
     },
     "metadata": {},
     "output_type": "display_data"
    }
   ],
   "source": [
    "print(\"--------------Result------------\")\n",
    "x/y  # it will divide the matrix "
   ]
  },
  {
   "cell_type": "code",
   "execution_count": 30,
   "id": "electrical-report",
   "metadata": {},
   "outputs": [
    {
     "name": "stdout",
     "output_type": "stream",
     "text": [
      "[1] \"---------Result of true Multiplication----------------\"\n",
      "     [,1] [,2]\n",
      "[1,]    1    3\n",
      "[2,]    2    4\n"
     ]
    },
    {
     "data": {
      "text/html": [
       "<table>\n",
       "<tbody>\n",
       "\t<tr><td>40</td><td>40</td></tr>\n",
       "\t<tr><td>60</td><td>60</td></tr>\n",
       "</tbody>\n",
       "</table>\n"
      ],
      "text/latex": [
       "\\begin{tabular}{ll}\n",
       "\t 40 & 40\\\\\n",
       "\t 60 & 60\\\\\n",
       "\\end{tabular}\n"
      ],
      "text/markdown": [
       "\n",
       "| 40 | 40 |\n",
       "| 60 | 60 |\n",
       "\n"
      ],
      "text/plain": [
       "     [,1] [,2]\n",
       "[1,] 40   40  \n",
       "[2,] 60   60  "
      ]
     },
     "metadata": {},
     "output_type": "display_data"
    }
   ],
   "source": [
    "print(\"---------Result of true Multiplication----------------\")\n",
    "print(x , y)\n",
    "x %*% y"
   ]
  },
  {
   "cell_type": "code",
   "execution_count": null,
   "id": "prompt-suffering",
   "metadata": {},
   "outputs": [],
   "source": []
  },
  {
   "cell_type": "markdown",
   "id": "armed-silver",
   "metadata": {},
   "source": [
    "### Date & Time"
   ]
  },
  {
   "cell_type": "code",
   "execution_count": 33,
   "id": "mental-terry",
   "metadata": {},
   "outputs": [
    {
     "name": "stdout",
     "output_type": "stream",
     "text": [
      "[1] \"2021-03-22 13:19:02 PKT\"\n"
     ]
    }
   ],
   "source": [
    "# to retrive systme time we use below function\n",
    "\n",
    "x <- Sys.time()\n",
    "\n",
    "print(x)"
   ]
  },
  {
   "cell_type": "code",
   "execution_count": 34,
   "id": "careful-substitute",
   "metadata": {},
   "outputs": [
    {
     "data": {
      "text/html": [
       "<ol class=list-inline>\n",
       "\t<li>'POSIXct'</li>\n",
       "\t<li>'POSIXt'</li>\n",
       "</ol>\n"
      ],
      "text/latex": [
       "\\begin{enumerate*}\n",
       "\\item 'POSIXct'\n",
       "\\item 'POSIXt'\n",
       "\\end{enumerate*}\n"
      ],
      "text/markdown": [
       "1. 'POSIXct'\n",
       "2. 'POSIXt'\n",
       "\n",
       "\n"
      ],
      "text/plain": [
       "[1] \"POSIXct\" \"POSIXt\" "
      ]
     },
     "metadata": {},
     "output_type": "display_data"
    }
   ],
   "source": [
    "class(x)"
   ]
  },
  {
   "cell_type": "code",
   "execution_count": 35,
   "id": "mathematical-prerequisite",
   "metadata": {},
   "outputs": [
    {
     "ename": "ERROR",
     "evalue": "Error in x$sec: $ operator is invalid for atomic vectors\n",
     "output_type": "error",
     "traceback": [
      "Error in x$sec: $ operator is invalid for atomic vectors\nTraceback:\n"
     ]
    }
   ],
   "source": [
    "x$sec"
   ]
  },
  {
   "cell_type": "code",
   "execution_count": 36,
   "id": "designed-collect",
   "metadata": {},
   "outputs": [],
   "source": [
    "p <- as.POSIXlt(x)"
   ]
  },
  {
   "cell_type": "code",
   "execution_count": 37,
   "id": "binary-imperial",
   "metadata": {},
   "outputs": [
    {
     "data": {
      "text/plain": [
       "[1] \"2021-03-22 13:19:02 PKT\""
      ]
     },
     "metadata": {},
     "output_type": "display_data"
    }
   ],
   "source": [
    "p"
   ]
  },
  {
   "cell_type": "code",
   "execution_count": 38,
   "id": "medium-symphony",
   "metadata": {},
   "outputs": [
    {
     "data": {
      "text/html": [
       "2.48532199859619"
      ],
      "text/latex": [
       "2.48532199859619"
      ],
      "text/markdown": [
       "2.48532199859619"
      ],
      "text/plain": [
       "[1] 2.485322"
      ]
     },
     "metadata": {},
     "output_type": "display_data"
    }
   ],
   "source": [
    "p$sec"
   ]
  },
  {
   "cell_type": "code",
   "execution_count": 39,
   "id": "green-review",
   "metadata": {},
   "outputs": [
    {
     "data": {
      "text/html": [
       "13"
      ],
      "text/latex": [
       "13"
      ],
      "text/markdown": [
       "13"
      ],
      "text/plain": [
       "[1] 13"
      ]
     },
     "metadata": {},
     "output_type": "display_data"
    }
   ],
   "source": [
    "p$hour"
   ]
  },
  {
   "cell_type": "code",
   "execution_count": 41,
   "id": "governing-spouse",
   "metadata": {},
   "outputs": [
    {
     "data": {
      "text/html": [
       "<ol class=list-inline>\n",
       "\t<li>'sec'</li>\n",
       "\t<li>'min'</li>\n",
       "\t<li>'hour'</li>\n",
       "\t<li>'mday'</li>\n",
       "\t<li>'mon'</li>\n",
       "\t<li>'year'</li>\n",
       "\t<li>'wday'</li>\n",
       "\t<li>'yday'</li>\n",
       "\t<li>'isdst'</li>\n",
       "\t<li>'zone'</li>\n",
       "\t<li>'gmtoff'</li>\n",
       "</ol>\n"
      ],
      "text/latex": [
       "\\begin{enumerate*}\n",
       "\\item 'sec'\n",
       "\\item 'min'\n",
       "\\item 'hour'\n",
       "\\item 'mday'\n",
       "\\item 'mon'\n",
       "\\item 'year'\n",
       "\\item 'wday'\n",
       "\\item 'yday'\n",
       "\\item 'isdst'\n",
       "\\item 'zone'\n",
       "\\item 'gmtoff'\n",
       "\\end{enumerate*}\n"
      ],
      "text/markdown": [
       "1. 'sec'\n",
       "2. 'min'\n",
       "3. 'hour'\n",
       "4. 'mday'\n",
       "5. 'mon'\n",
       "6. 'year'\n",
       "7. 'wday'\n",
       "8. 'yday'\n",
       "9. 'isdst'\n",
       "10. 'zone'\n",
       "11. 'gmtoff'\n",
       "\n",
       "\n"
      ],
      "text/plain": [
       " [1] \"sec\"    \"min\"    \"hour\"   \"mday\"   \"mon\"    \"year\"   \"wday\"   \"yday\"  \n",
       " [9] \"isdst\"  \"zone\"   \"gmtoff\""
      ]
     },
     "metadata": {},
     "output_type": "display_data"
    }
   ],
   "source": [
    "names(unclass(p))"
   ]
  },
  {
   "cell_type": "code",
   "execution_count": 42,
   "id": "thermal-spirit",
   "metadata": {},
   "outputs": [
    {
     "data": {
      "text/html": [
       "18000"
      ],
      "text/latex": [
       "18000"
      ],
      "text/markdown": [
       "18000"
      ],
      "text/plain": [
       "[1] 18000"
      ]
     },
     "metadata": {},
     "output_type": "display_data"
    }
   ],
   "source": [
    "p$gmtoff"
   ]
  },
  {
   "cell_type": "code",
   "execution_count": 43,
   "id": "sharing-german",
   "metadata": {},
   "outputs": [
    {
     "data": {
      "text/html": [
       "'PKT'"
      ],
      "text/latex": [
       "'PKT'"
      ],
      "text/markdown": [
       "'PKT'"
      ],
      "text/plain": [
       "[1] \"PKT\""
      ]
     },
     "metadata": {},
     "output_type": "display_data"
    }
   ],
   "source": [
    "p$zone"
   ]
  },
  {
   "cell_type": "code",
   "execution_count": 44,
   "id": "adjusted-change",
   "metadata": {},
   "outputs": [],
   "source": [
    "# strptime format\n",
    "\n",
    "date_string <- c(\"January 10, 2012 10:40\", \"December 9, 2011 9:10\")"
   ]
  },
  {
   "cell_type": "code",
   "execution_count": 49,
   "id": "sexual-manhattan",
   "metadata": {},
   "outputs": [],
   "source": [
    "x <- strptime(date_string, \"%B %d, %Y %H:%M\" )"
   ]
  },
  {
   "cell_type": "code",
   "execution_count": 50,
   "id": "simplified-tattoo",
   "metadata": {},
   "outputs": [
    {
     "data": {
      "text/plain": [
       "[1] \"2012-01-10 10:40:00 PKT\" \"2011-12-09 09:10:00 PKT\""
      ]
     },
     "metadata": {},
     "output_type": "display_data"
    }
   ],
   "source": [
    "x"
   ]
  },
  {
   "cell_type": "code",
   "execution_count": 51,
   "id": "otherwise-zimbabwe",
   "metadata": {},
   "outputs": [
    {
     "data": {
      "text/html": [
       "<ol class=list-inline>\n",
       "\t<li>'POSIXlt'</li>\n",
       "\t<li>'POSIXt'</li>\n",
       "</ol>\n"
      ],
      "text/latex": [
       "\\begin{enumerate*}\n",
       "\\item 'POSIXlt'\n",
       "\\item 'POSIXt'\n",
       "\\end{enumerate*}\n"
      ],
      "text/markdown": [
       "1. 'POSIXlt'\n",
       "2. 'POSIXt'\n",
       "\n",
       "\n"
      ],
      "text/plain": [
       "[1] \"POSIXlt\" \"POSIXt\" "
      ]
     },
     "metadata": {},
     "output_type": "display_data"
    }
   ],
   "source": [
    "class(x)"
   ]
  },
  {
   "cell_type": "code",
   "execution_count": 66,
   "id": "billion-domestic",
   "metadata": {},
   "outputs": [
    {
     "name": "stderr",
     "output_type": "stream",
     "text": [
      "Warning message in eval(expr, envir, enclos):\n",
      "\"Incompatible methods (\"-.Date\", \"-.POSIXt\") for \"-\"\""
     ]
    },
    {
     "ename": "ERROR",
     "evalue": "Error in x - y: non-numeric argument to binary operator\n",
     "output_type": "error",
     "traceback": [
      "Error in x - y: non-numeric argument to binary operator\nTraceback:\n"
     ]
    }
   ],
   "source": [
    "# Methematical operation on data.\n",
    "\n",
    "x <- as.Date(\"2012-01-01\")\n",
    "y <- strptime(\"9 jan 2011 11:34:21\", \"%d %b %Y %H:%M:%S\")\n",
    "\n",
    "x-y"
   ]
  },
  {
   "cell_type": "code",
   "execution_count": 67,
   "id": "legitimate-swift",
   "metadata": {},
   "outputs": [
    {
     "data": {
      "text/html": [
       "'Date'"
      ],
      "text/latex": [
       "'Date'"
      ],
      "text/markdown": [
       "'Date'"
      ],
      "text/plain": [
       "[1] \"Date\""
      ]
     },
     "metadata": {},
     "output_type": "display_data"
    }
   ],
   "source": [
    "class(x)"
   ]
  },
  {
   "cell_type": "code",
   "execution_count": 68,
   "id": "acoustic-immune",
   "metadata": {},
   "outputs": [
    {
     "data": {
      "text/html": [
       "<ol class=list-inline>\n",
       "\t<li>'POSIXlt'</li>\n",
       "\t<li>'POSIXt'</li>\n",
       "</ol>\n"
      ],
      "text/latex": [
       "\\begin{enumerate*}\n",
       "\\item 'POSIXlt'\n",
       "\\item 'POSIXt'\n",
       "\\end{enumerate*}\n"
      ],
      "text/markdown": [
       "1. 'POSIXlt'\n",
       "2. 'POSIXt'\n",
       "\n",
       "\n"
      ],
      "text/plain": [
       "[1] \"POSIXlt\" \"POSIXt\" "
      ]
     },
     "metadata": {},
     "output_type": "display_data"
    }
   ],
   "source": [
    "class(y)"
   ]
  },
  {
   "cell_type": "code",
   "execution_count": 69,
   "id": "local-slide",
   "metadata": {},
   "outputs": [],
   "source": [
    "x <- as.POSIXlt(x)"
   ]
  },
  {
   "cell_type": "code",
   "execution_count": 70,
   "id": "cultural-compromise",
   "metadata": {},
   "outputs": [
    {
     "data": {
      "text/plain": [
       "Time difference of 356.7261 days"
      ]
     },
     "metadata": {},
     "output_type": "display_data"
    }
   ],
   "source": [
    "x-y"
   ]
  },
  {
   "cell_type": "code",
   "execution_count": null,
   "id": "sorted-photographer",
   "metadata": {},
   "outputs": [],
   "source": []
  },
  {
   "cell_type": "markdown",
   "id": "saving-sellers",
   "metadata": {},
   "source": [
    "## Loop Function"
   ]
  },
  {
   "cell_type": "markdown",
   "id": "linear-identity",
   "metadata": {},
   "source": [
    "### Lapply function"
   ]
  },
  {
   "cell_type": "code",
   "execution_count": 73,
   "id": "intense-roommate",
   "metadata": {},
   "outputs": [
    {
     "data": {
      "text/html": [
       "<dl>\n",
       "\t<dt>$a</dt>\n",
       "\t\t<dd><ol class=list-inline>\n",
       "\t<li>1</li>\n",
       "\t<li>2</li>\n",
       "\t<li>3</li>\n",
       "\t<li>4</li>\n",
       "</ol>\n",
       "</dd>\n",
       "\t<dt>$b</dt>\n",
       "\t\t<dd><ol class=list-inline>\n",
       "\t<li>-0.244945008759874</li>\n",
       "\t<li>0.156666514764682</li>\n",
       "\t<li>0.27009056280989</li>\n",
       "\t<li>-1.04122474613063</li>\n",
       "\t<li>0.355174240939619</li>\n",
       "\t<li>-2.52494564382963</li>\n",
       "\t<li>0.0805743599523214</li>\n",
       "\t<li>-0.577660016849672</li>\n",
       "\t<li>-0.207539077342566</li>\n",
       "\t<li>2.09573647648156</li>\n",
       "\t<li>-0.583026810380404</li>\n",
       "\t<li>0.763460602583539</li>\n",
       "\t<li>-1.31306358076357</li>\n",
       "\t<li>-1.10469705466162</li>\n",
       "\t<li>0.463497173024316</li>\n",
       "</ol>\n",
       "</dd>\n",
       "</dl>\n"
      ],
      "text/latex": [
       "\\begin{description}\n",
       "\\item[\\$a] \\begin{enumerate*}\n",
       "\\item 1\n",
       "\\item 2\n",
       "\\item 3\n",
       "\\item 4\n",
       "\\end{enumerate*}\n",
       "\n",
       "\\item[\\$b] \\begin{enumerate*}\n",
       "\\item -0.244945008759874\n",
       "\\item 0.156666514764682\n",
       "\\item 0.27009056280989\n",
       "\\item -1.04122474613063\n",
       "\\item 0.355174240939619\n",
       "\\item -2.52494564382963\n",
       "\\item 0.0805743599523214\n",
       "\\item -0.577660016849672\n",
       "\\item -0.207539077342566\n",
       "\\item 2.09573647648156\n",
       "\\item -0.583026810380404\n",
       "\\item 0.763460602583539\n",
       "\\item -1.31306358076357\n",
       "\\item -1.10469705466162\n",
       "\\item 0.463497173024316\n",
       "\\end{enumerate*}\n",
       "\n",
       "\\end{description}\n"
      ],
      "text/markdown": [
       "$a\n",
       ":   1. 1\n",
       "2. 2\n",
       "3. 3\n",
       "4. 4\n",
       "\n",
       "\n",
       "\n",
       "$b\n",
       ":   1. -0.244945008759874\n",
       "2. 0.156666514764682\n",
       "3. 0.27009056280989\n",
       "4. -1.04122474613063\n",
       "5. 0.355174240939619\n",
       "6. -2.52494564382963\n",
       "7. 0.0805743599523214\n",
       "8. -0.577660016849672\n",
       "9. -0.207539077342566\n",
       "10. 2.09573647648156\n",
       "11. -0.583026810380404\n",
       "12. 0.763460602583539\n",
       "13. -1.31306358076357\n",
       "14. -1.10469705466162\n",
       "15. 0.463497173024316\n",
       "\n",
       "\n",
       "\n",
       "\n",
       "\n"
      ],
      "text/plain": [
       "$a\n",
       "[1] 1 2 3 4\n",
       "\n",
       "$b\n",
       " [1] -0.24494501  0.15666651  0.27009056 -1.04122475  0.35517424 -2.52494564\n",
       " [7]  0.08057436 -0.57766002 -0.20753908  2.09573648 -0.58302681  0.76346060\n",
       "[13] -1.31306358 -1.10469705  0.46349717\n"
      ]
     },
     "metadata": {},
     "output_type": "display_data"
    }
   ],
   "source": [
    "# lapply always return the list\n",
    "\n",
    "x <- list(a = 1:4, b= rnorm(15))\n",
    "x"
   ]
  },
  {
   "cell_type": "code",
   "execution_count": 75,
   "id": "russian-prospect",
   "metadata": {},
   "outputs": [
    {
     "data": {
      "text/html": [
       "<dl>\n",
       "\t<dt>$a</dt>\n",
       "\t\t<dd>10</dd>\n",
       "\t<dt>$b</dt>\n",
       "\t\t<dd>-3.41190200816203</dd>\n",
       "</dl>\n"
      ],
      "text/latex": [
       "\\begin{description}\n",
       "\\item[\\$a] 10\n",
       "\\item[\\$b] -3.41190200816203\n",
       "\\end{description}\n"
      ],
      "text/markdown": [
       "$a\n",
       ":   10\n",
       "$b\n",
       ":   -3.41190200816203\n",
       "\n",
       "\n"
      ],
      "text/plain": [
       "$a\n",
       "[1] 10\n",
       "\n",
       "$b\n",
       "[1] -3.411902\n"
      ]
     },
     "metadata": {},
     "output_type": "display_data"
    }
   ],
   "source": [
    "lapply(x, sum)"
   ]
  },
  {
   "cell_type": "code",
   "execution_count": 76,
   "id": "competitive-publisher",
   "metadata": {},
   "outputs": [
    {
     "data": {
      "text/html": [
       "'list'"
      ],
      "text/latex": [
       "'list'"
      ],
      "text/markdown": [
       "'list'"
      ],
      "text/plain": [
       "[1] \"list\""
      ]
     },
     "metadata": {},
     "output_type": "display_data"
    }
   ],
   "source": [
    "class(x)"
   ]
  },
  {
   "cell_type": "code",
   "execution_count": 79,
   "id": "simplified-cisco",
   "metadata": {},
   "outputs": [
    {
     "data": {
      "text/html": [
       "<dl>\n",
       "\t<dt>$a</dt>\n",
       "\t\t<dd><ol class=list-inline>\n",
       "\t<li>1</li>\n",
       "\t<li>2</li>\n",
       "\t<li>3</li>\n",
       "\t<li>4</li>\n",
       "\t<li>5</li>\n",
       "</ol>\n",
       "</dd>\n",
       "\t<dt>$b</dt>\n",
       "\t\t<dd><ol class=list-inline>\n",
       "\t<li>0.0220823909448697</li>\n",
       "\t<li>0.625954148693839</li>\n",
       "\t<li>-1.50044208699536</li>\n",
       "\t<li>-1.35904066861746</li>\n",
       "\t<li>-0.0730285306990927</li>\n",
       "\t<li>0.127573052306605</li>\n",
       "\t<li>-0.759644476969643</li>\n",
       "\t<li>0.507641276958199</li>\n",
       "\t<li>-0.54053604135599</li>\n",
       "\t<li>1.57023692174744</li>\n",
       "</ol>\n",
       "</dd>\n",
       "\t<dt>$c</dt>\n",
       "\t\t<dd><ol class=list-inline>\n",
       "\t<li>1.62997633039801</li>\n",
       "\t<li>0.745660174683225</li>\n",
       "\t<li>1.1204956194609</li>\n",
       "\t<li>1.16630029528704</li>\n",
       "\t<li>1.43296141708012</li>\n",
       "\t<li>1.54700745727107</li>\n",
       "\t<li>1.04746314082134</li>\n",
       "\t<li>0.850727415703716</li>\n",
       "\t<li>1.29653474777478</li>\n",
       "\t<li>1.35453484166227</li>\n",
       "\t<li>0.665762820466458</li>\n",
       "\t<li>1.27501173137601</li>\n",
       "\t<li>0.600192621566993</li>\n",
       "\t<li>1.57508964022589</li>\n",
       "\t<li>-0.130326320285208</li>\n",
       "\t<li>1.95546513289267</li>\n",
       "\t<li>1.17486200199949</li>\n",
       "\t<li>2.34400692147854</li>\n",
       "\t<li>-0.57533855000817</li>\n",
       "\t<li>1.69008592300052</li>\n",
       "</ol>\n",
       "</dd>\n",
       "\t<dt>$d</dt>\n",
       "\t\t<dd><ol class=list-inline>\n",
       "\t<li>3.90430180279703</li>\n",
       "\t<li>4.1830197305676</li>\n",
       "\t<li>4.43940568822353</li>\n",
       "\t<li>4.95889216116659</li>\n",
       "\t<li>4.96203186672422</li>\n",
       "\t<li>6.44358452315364</li>\n",
       "\t<li>3.80124567851255</li>\n",
       "\t<li>4.11877623723156</li>\n",
       "\t<li>4.71225925402893</li>\n",
       "\t<li>5.17831651611252</li>\n",
       "\t<li>6.20736151452338</li>\n",
       "\t<li>4.42995174026488</li>\n",
       "\t<li>5.17914816747735</li>\n",
       "\t<li>5.73789317222805</li>\n",
       "\t<li>4.86151435320743</li>\n",
       "\t<li>6.3433887501001</li>\n",
       "\t<li>4.56849590883799</li>\n",
       "\t<li>4.57770195724531</li>\n",
       "\t<li>3.80245662918913</li>\n",
       "\t<li>4.33952677538572</li>\n",
       "\t<li>4.60365365265014</li>\n",
       "\t<li>5.75122908877493</li>\n",
       "\t<li>3.41869861001466</li>\n",
       "\t<li>5.22751141840607</li>\n",
       "\t<li>6.11155141815139</li>\n",
       "\t<li>5.28470229206183</li>\n",
       "\t<li>5.55575973727786</li>\n",
       "\t<li>4.79962791835808</li>\n",
       "\t<li>2.83821565675771</li>\n",
       "\t<li>7.21103045714788</li>\n",
       "\t<li>6.99248363431631</li>\n",
       "\t<li>5.5576664519833</li>\n",
       "\t<li>6.01559137467132</li>\n",
       "\t<li>2.53643944723135</li>\n",
       "\t<li>3.64831956166087</li>\n",
       "\t<li>3.13403343964772</li>\n",
       "\t<li>5.8905718623517</li>\n",
       "\t<li>4.31064297075589</li>\n",
       "\t<li>5.69587171467185</li>\n",
       "\t<li>5.43911057335594</li>\n",
       "\t<li>4.00848745047688</li>\n",
       "\t<li>4.86545524127905</li>\n",
       "\t<li>4.69923823371281</li>\n",
       "\t<li>4.43330305009649</li>\n",
       "\t<li>4.63660702096747</li>\n",
       "\t<li>5.70613109055189</li>\n",
       "\t<li>2.81227188622842</li>\n",
       "\t<li>5.11099399411244</li>\n",
       "\t<li>4.84196279944564</li>\n",
       "\t<li>5.7553519562859</li>\n",
       "\t<li>2.59019899676529</li>\n",
       "\t<li>5.56713349846495</li>\n",
       "\t<li>2.99232026847631</li>\n",
       "\t<li>4.67726401814514</li>\n",
       "\t<li>5.51639264855511</li>\n",
       "\t<li>4.11770775945286</li>\n",
       "\t<li>4.75514593150151</li>\n",
       "\t<li>4.98443407639794</li>\n",
       "\t<li>5.56447078405202</li>\n",
       "\t<li>5.83028404539468</li>\n",
       "\t<li>4.05818408918995</li>\n",
       "\t<li>4.83988280138202</li>\n",
       "\t<li>5.51685582650334</li>\n",
       "\t<li>5.93495823258315</li>\n",
       "\t<li>4.21792106095482</li>\n",
       "\t<li>5.89992606519074</li>\n",
       "\t<li>4.8868011278496</li>\n",
       "\t<li>3.19677238975313</li>\n",
       "\t<li>4.77477473622525</li>\n",
       "\t<li>5.70383650922258</li>\n",
       "\t<li>4.28165012762451</li>\n",
       "\t<li>5.95347031417306</li>\n",
       "\t<li>5.07553578237296</li>\n",
       "\t<li>4.64198260060873</li>\n",
       "\t<li>5.37830555716462</li>\n",
       "\t<li>5.816824606707</li>\n",
       "\t<li>6.12804778971023</li>\n",
       "\t<li>6.53765722519774</li>\n",
       "\t<li>5.72910267789564</li>\n",
       "\t<li>4.48172997689652</li>\n",
       "\t<li>4.52255325056006</li>\n",
       "\t<li>4.63947390431429</li>\n",
       "\t<li>4.62870984321992</li>\n",
       "\t<li>4.45490119946395</li>\n",
       "\t<li>6.12322333245332</li>\n",
       "\t<li>3.35467927545054</li>\n",
       "\t<li>6.0270786061347</li>\n",
       "\t<li>4.76415346316866</li>\n",
       "\t<li>4.82434739306726</li>\n",
       "\t<li>4.22393583847026</li>\n",
       "\t<li>4.3919727111841</li>\n",
       "\t<li>4.95736894918134</li>\n",
       "\t<li>4.24134953421451</li>\n",
       "\t<li>3.87791164302312</li>\n",
       "\t<li>5.5760005818733</li>\n",
       "\t<li>5.32811935388585</li>\n",
       "\t<li>5.09248121784489</li>\n",
       "\t<li>3.76139603534987</li>\n",
       "\t<li>4.88712962531558</li>\n",
       "\t<li>4.06642296789041</li>\n",
       "</ol>\n",
       "</dd>\n",
       "</dl>\n"
      ],
      "text/latex": [
       "\\begin{description}\n",
       "\\item[\\$a] \\begin{enumerate*}\n",
       "\\item 1\n",
       "\\item 2\n",
       "\\item 3\n",
       "\\item 4\n",
       "\\item 5\n",
       "\\end{enumerate*}\n",
       "\n",
       "\\item[\\$b] \\begin{enumerate*}\n",
       "\\item 0.0220823909448697\n",
       "\\item 0.625954148693839\n",
       "\\item -1.50044208699536\n",
       "\\item -1.35904066861746\n",
       "\\item -0.0730285306990927\n",
       "\\item 0.127573052306605\n",
       "\\item -0.759644476969643\n",
       "\\item 0.507641276958199\n",
       "\\item -0.54053604135599\n",
       "\\item 1.57023692174744\n",
       "\\end{enumerate*}\n",
       "\n",
       "\\item[\\$c] \\begin{enumerate*}\n",
       "\\item 1.62997633039801\n",
       "\\item 0.745660174683225\n",
       "\\item 1.1204956194609\n",
       "\\item 1.16630029528704\n",
       "\\item 1.43296141708012\n",
       "\\item 1.54700745727107\n",
       "\\item 1.04746314082134\n",
       "\\item 0.850727415703716\n",
       "\\item 1.29653474777478\n",
       "\\item 1.35453484166227\n",
       "\\item 0.665762820466458\n",
       "\\item 1.27501173137601\n",
       "\\item 0.600192621566993\n",
       "\\item 1.57508964022589\n",
       "\\item -0.130326320285208\n",
       "\\item 1.95546513289267\n",
       "\\item 1.17486200199949\n",
       "\\item 2.34400692147854\n",
       "\\item -0.57533855000817\n",
       "\\item 1.69008592300052\n",
       "\\end{enumerate*}\n",
       "\n",
       "\\item[\\$d] \\begin{enumerate*}\n",
       "\\item 3.90430180279703\n",
       "\\item 4.1830197305676\n",
       "\\item 4.43940568822353\n",
       "\\item 4.95889216116659\n",
       "\\item 4.96203186672422\n",
       "\\item 6.44358452315364\n",
       "\\item 3.80124567851255\n",
       "\\item 4.11877623723156\n",
       "\\item 4.71225925402893\n",
       "\\item 5.17831651611252\n",
       "\\item 6.20736151452338\n",
       "\\item 4.42995174026488\n",
       "\\item 5.17914816747735\n",
       "\\item 5.73789317222805\n",
       "\\item 4.86151435320743\n",
       "\\item 6.3433887501001\n",
       "\\item 4.56849590883799\n",
       "\\item 4.57770195724531\n",
       "\\item 3.80245662918913\n",
       "\\item 4.33952677538572\n",
       "\\item 4.60365365265014\n",
       "\\item 5.75122908877493\n",
       "\\item 3.41869861001466\n",
       "\\item 5.22751141840607\n",
       "\\item 6.11155141815139\n",
       "\\item 5.28470229206183\n",
       "\\item 5.55575973727786\n",
       "\\item 4.79962791835808\n",
       "\\item 2.83821565675771\n",
       "\\item 7.21103045714788\n",
       "\\item 6.99248363431631\n",
       "\\item 5.5576664519833\n",
       "\\item 6.01559137467132\n",
       "\\item 2.53643944723135\n",
       "\\item 3.64831956166087\n",
       "\\item 3.13403343964772\n",
       "\\item 5.8905718623517\n",
       "\\item 4.31064297075589\n",
       "\\item 5.69587171467185\n",
       "\\item 5.43911057335594\n",
       "\\item 4.00848745047688\n",
       "\\item 4.86545524127905\n",
       "\\item 4.69923823371281\n",
       "\\item 4.43330305009649\n",
       "\\item 4.63660702096747\n",
       "\\item 5.70613109055189\n",
       "\\item 2.81227188622842\n",
       "\\item 5.11099399411244\n",
       "\\item 4.84196279944564\n",
       "\\item 5.7553519562859\n",
       "\\item 2.59019899676529\n",
       "\\item 5.56713349846495\n",
       "\\item 2.99232026847631\n",
       "\\item 4.67726401814514\n",
       "\\item 5.51639264855511\n",
       "\\item 4.11770775945286\n",
       "\\item 4.75514593150151\n",
       "\\item 4.98443407639794\n",
       "\\item 5.56447078405202\n",
       "\\item 5.83028404539468\n",
       "\\item 4.05818408918995\n",
       "\\item 4.83988280138202\n",
       "\\item 5.51685582650334\n",
       "\\item 5.93495823258315\n",
       "\\item 4.21792106095482\n",
       "\\item 5.89992606519074\n",
       "\\item 4.8868011278496\n",
       "\\item 3.19677238975313\n",
       "\\item 4.77477473622525\n",
       "\\item 5.70383650922258\n",
       "\\item 4.28165012762451\n",
       "\\item 5.95347031417306\n",
       "\\item 5.07553578237296\n",
       "\\item 4.64198260060873\n",
       "\\item 5.37830555716462\n",
       "\\item 5.816824606707\n",
       "\\item 6.12804778971023\n",
       "\\item 6.53765722519774\n",
       "\\item 5.72910267789564\n",
       "\\item 4.48172997689652\n",
       "\\item 4.52255325056006\n",
       "\\item 4.63947390431429\n",
       "\\item 4.62870984321992\n",
       "\\item 4.45490119946395\n",
       "\\item 6.12322333245332\n",
       "\\item 3.35467927545054\n",
       "\\item 6.0270786061347\n",
       "\\item 4.76415346316866\n",
       "\\item 4.82434739306726\n",
       "\\item 4.22393583847026\n",
       "\\item 4.3919727111841\n",
       "\\item 4.95736894918134\n",
       "\\item 4.24134953421451\n",
       "\\item 3.87791164302312\n",
       "\\item 5.5760005818733\n",
       "\\item 5.32811935388585\n",
       "\\item 5.09248121784489\n",
       "\\item 3.76139603534987\n",
       "\\item 4.88712962531558\n",
       "\\item 4.06642296789041\n",
       "\\end{enumerate*}\n",
       "\n",
       "\\end{description}\n"
      ],
      "text/markdown": [
       "$a\n",
       ":   1. 1\n",
       "2. 2\n",
       "3. 3\n",
       "4. 4\n",
       "5. 5\n",
       "\n",
       "\n",
       "\n",
       "$b\n",
       ":   1. 0.0220823909448697\n",
       "2. 0.625954148693839\n",
       "3. -1.50044208699536\n",
       "4. -1.35904066861746\n",
       "5. -0.0730285306990927\n",
       "6. 0.127573052306605\n",
       "7. -0.759644476969643\n",
       "8. 0.507641276958199\n",
       "9. -0.54053604135599\n",
       "10. 1.57023692174744\n",
       "\n",
       "\n",
       "\n",
       "$c\n",
       ":   1. 1.62997633039801\n",
       "2. 0.745660174683225\n",
       "3. 1.1204956194609\n",
       "4. 1.16630029528704\n",
       "5. 1.43296141708012\n",
       "6. 1.54700745727107\n",
       "7. 1.04746314082134\n",
       "8. 0.850727415703716\n",
       "9. 1.29653474777478\n",
       "10. 1.35453484166227\n",
       "11. 0.665762820466458\n",
       "12. 1.27501173137601\n",
       "13. 0.600192621566993\n",
       "14. 1.57508964022589\n",
       "15. -0.130326320285208\n",
       "16. 1.95546513289267\n",
       "17. 1.17486200199949\n",
       "18. 2.34400692147854\n",
       "19. -0.57533855000817\n",
       "20. 1.69008592300052\n",
       "\n",
       "\n",
       "\n",
       "$d\n",
       ":   1. 3.90430180279703\n",
       "2. 4.1830197305676\n",
       "3. 4.43940568822353\n",
       "4. 4.95889216116659\n",
       "5. 4.96203186672422\n",
       "6. 6.44358452315364\n",
       "7. 3.80124567851255\n",
       "8. 4.11877623723156\n",
       "9. 4.71225925402893\n",
       "10. 5.17831651611252\n",
       "11. 6.20736151452338\n",
       "12. 4.42995174026488\n",
       "13. 5.17914816747735\n",
       "14. 5.73789317222805\n",
       "15. 4.86151435320743\n",
       "16. 6.3433887501001\n",
       "17. 4.56849590883799\n",
       "18. 4.57770195724531\n",
       "19. 3.80245662918913\n",
       "20. 4.33952677538572\n",
       "21. 4.60365365265014\n",
       "22. 5.75122908877493\n",
       "23. 3.41869861001466\n",
       "24. 5.22751141840607\n",
       "25. 6.11155141815139\n",
       "26. 5.28470229206183\n",
       "27. 5.55575973727786\n",
       "28. 4.79962791835808\n",
       "29. 2.83821565675771\n",
       "30. 7.21103045714788\n",
       "31. 6.99248363431631\n",
       "32. 5.5576664519833\n",
       "33. 6.01559137467132\n",
       "34. 2.53643944723135\n",
       "35. 3.64831956166087\n",
       "36. 3.13403343964772\n",
       "37. 5.8905718623517\n",
       "38. 4.31064297075589\n",
       "39. 5.69587171467185\n",
       "40. 5.43911057335594\n",
       "41. 4.00848745047688\n",
       "42. 4.86545524127905\n",
       "43. 4.69923823371281\n",
       "44. 4.43330305009649\n",
       "45. 4.63660702096747\n",
       "46. 5.70613109055189\n",
       "47. 2.81227188622842\n",
       "48. 5.11099399411244\n",
       "49. 4.84196279944564\n",
       "50. 5.7553519562859\n",
       "51. 2.59019899676529\n",
       "52. 5.56713349846495\n",
       "53. 2.99232026847631\n",
       "54. 4.67726401814514\n",
       "55. 5.51639264855511\n",
       "56. 4.11770775945286\n",
       "57. 4.75514593150151\n",
       "58. 4.98443407639794\n",
       "59. 5.56447078405202\n",
       "60. 5.83028404539468\n",
       "61. 4.05818408918995\n",
       "62. 4.83988280138202\n",
       "63. 5.51685582650334\n",
       "64. 5.93495823258315\n",
       "65. 4.21792106095482\n",
       "66. 5.89992606519074\n",
       "67. 4.8868011278496\n",
       "68. 3.19677238975313\n",
       "69. 4.77477473622525\n",
       "70. 5.70383650922258\n",
       "71. 4.28165012762451\n",
       "72. 5.95347031417306\n",
       "73. 5.07553578237296\n",
       "74. 4.64198260060873\n",
       "75. 5.37830555716462\n",
       "76. 5.816824606707\n",
       "77. 6.12804778971023\n",
       "78. 6.53765722519774\n",
       "79. 5.72910267789564\n",
       "80. 4.48172997689652\n",
       "81. 4.52255325056006\n",
       "82. 4.63947390431429\n",
       "83. 4.62870984321992\n",
       "84. 4.45490119946395\n",
       "85. 6.12322333245332\n",
       "86. 3.35467927545054\n",
       "87. 6.0270786061347\n",
       "88. 4.76415346316866\n",
       "89. 4.82434739306726\n",
       "90. 4.22393583847026\n",
       "91. 4.3919727111841\n",
       "92. 4.95736894918134\n",
       "93. 4.24134953421451\n",
       "94. 3.87791164302312\n",
       "95. 5.5760005818733\n",
       "96. 5.32811935388585\n",
       "97. 5.09248121784489\n",
       "98. 3.76139603534987\n",
       "99. 4.88712962531558\n",
       "100. 4.06642296789041\n",
       "\n",
       "\n",
       "\n",
       "\n",
       "\n"
      ],
      "text/plain": [
       "$a\n",
       "[1] 1 2 3 4 5\n",
       "\n",
       "$b\n",
       " [1]  0.02208239  0.62595415 -1.50044209 -1.35904067 -0.07302853  0.12757305\n",
       " [7] -0.75964448  0.50764128 -0.54053604  1.57023692\n",
       "\n",
       "$c\n",
       " [1]  1.6299763  0.7456602  1.1204956  1.1663003  1.4329614  1.5470075\n",
       " [7]  1.0474631  0.8507274  1.2965347  1.3545348  0.6657628  1.2750117\n",
       "[13]  0.6001926  1.5750896 -0.1303263  1.9554651  1.1748620  2.3440069\n",
       "[19] -0.5753386  1.6900859\n",
       "\n",
       "$d\n",
       "  [1] 3.904302 4.183020 4.439406 4.958892 4.962032 6.443585 3.801246 4.118776\n",
       "  [9] 4.712259 5.178317 6.207362 4.429952 5.179148 5.737893 4.861514 6.343389\n",
       " [17] 4.568496 4.577702 3.802457 4.339527 4.603654 5.751229 3.418699 5.227511\n",
       " [25] 6.111551 5.284702 5.555760 4.799628 2.838216 7.211030 6.992484 5.557666\n",
       " [33] 6.015591 2.536439 3.648320 3.134033 5.890572 4.310643 5.695872 5.439111\n",
       " [41] 4.008487 4.865455 4.699238 4.433303 4.636607 5.706131 2.812272 5.110994\n",
       " [49] 4.841963 5.755352 2.590199 5.567133 2.992320 4.677264 5.516393 4.117708\n",
       " [57] 4.755146 4.984434 5.564471 5.830284 4.058184 4.839883 5.516856 5.934958\n",
       " [65] 4.217921 5.899926 4.886801 3.196772 4.774775 5.703837 4.281650 5.953470\n",
       " [73] 5.075536 4.641983 5.378306 5.816825 6.128048 6.537657 5.729103 4.481730\n",
       " [81] 4.522553 4.639474 4.628710 4.454901 6.123223 3.354679 6.027079 4.764153\n",
       " [89] 4.824347 4.223936 4.391973 4.957369 4.241350 3.877912 5.576001 5.328119\n",
       " [97] 5.092481 3.761396 4.887130 4.066423\n"
      ]
     },
     "metadata": {},
     "output_type": "display_data"
    }
   ],
   "source": [
    "X <- list(a = 1:5, b= rnorm(10), c= rnorm(20,1), d = rnorm(100,5))\n",
    "\n",
    "X"
   ]
  },
  {
   "cell_type": "code",
   "execution_count": 80,
   "id": "therapeutic-architect",
   "metadata": {},
   "outputs": [
    {
     "data": {
      "text/html": [
       "'list'"
      ],
      "text/latex": [
       "'list'"
      ],
      "text/markdown": [
       "'list'"
      ],
      "text/plain": [
       "[1] \"list\""
      ]
     },
     "metadata": {},
     "output_type": "display_data"
    }
   ],
   "source": [
    "class(X)"
   ]
  },
  {
   "cell_type": "code",
   "execution_count": 82,
   "id": "electronic-spanish",
   "metadata": {},
   "outputs": [
    {
     "data": {
      "text/html": [
       "<dl>\n",
       "\t<dt>$a</dt>\n",
       "\t\t<dd>3</dd>\n",
       "\t<dt>$b</dt>\n",
       "\t\t<dd>-0.137920401398659</dd>\n",
       "\t<dt>$c</dt>\n",
       "\t\t<dd>1.13832366814278</dd>\n",
       "\t<dt>$d</dt>\n",
       "\t\t<dd>4.87034566680859</dd>\n",
       "</dl>\n"
      ],
      "text/latex": [
       "\\begin{description}\n",
       "\\item[\\$a] 3\n",
       "\\item[\\$b] -0.137920401398659\n",
       "\\item[\\$c] 1.13832366814278\n",
       "\\item[\\$d] 4.87034566680859\n",
       "\\end{description}\n"
      ],
      "text/markdown": [
       "$a\n",
       ":   3\n",
       "$b\n",
       ":   -0.137920401398659\n",
       "$c\n",
       ":   1.13832366814278\n",
       "$d\n",
       ":   4.87034566680859\n",
       "\n",
       "\n"
      ],
      "text/plain": [
       "$a\n",
       "[1] 3\n",
       "\n",
       "$b\n",
       "[1] -0.1379204\n",
       "\n",
       "$c\n",
       "[1] 1.138324\n",
       "\n",
       "$d\n",
       "[1] 4.870346\n"
      ]
     },
     "metadata": {},
     "output_type": "display_data"
    }
   ],
   "source": [
    "lapply(X, mean)"
   ]
  },
  {
   "cell_type": "code",
   "execution_count": 85,
   "id": "accepting-badge",
   "metadata": {},
   "outputs": [
    {
     "data": {
      "text/html": [
       "<dl>\n",
       "\t<dt>$a</dt>\n",
       "\t\t<dd>1.58113883008419</dd>\n",
       "\t<dt>$b</dt>\n",
       "\t\t<dd>0.93776297066045</dd>\n",
       "\t<dt>$c</dt>\n",
       "\t\t<dd>0.66921845291478</dd>\n",
       "\t<dt>$d</dt>\n",
       "\t\t<dd>0.953231348316007</dd>\n",
       "</dl>\n"
      ],
      "text/latex": [
       "\\begin{description}\n",
       "\\item[\\$a] 1.58113883008419\n",
       "\\item[\\$b] 0.93776297066045\n",
       "\\item[\\$c] 0.66921845291478\n",
       "\\item[\\$d] 0.953231348316007\n",
       "\\end{description}\n"
      ],
      "text/markdown": [
       "$a\n",
       ":   1.58113883008419\n",
       "$b\n",
       ":   0.93776297066045\n",
       "$c\n",
       ":   0.66921845291478\n",
       "$d\n",
       ":   0.953231348316007\n",
       "\n",
       "\n"
      ],
      "text/plain": [
       "$a\n",
       "[1] 1.581139\n",
       "\n",
       "$b\n",
       "[1] 0.937763\n",
       "\n",
       "$c\n",
       "[1] 0.6692185\n",
       "\n",
       "$d\n",
       "[1] 0.9532313\n"
      ]
     },
     "metadata": {},
     "output_type": "display_data"
    }
   ],
   "source": [
    "lapply(X, sd)"
   ]
  },
  {
   "cell_type": "code",
   "execution_count": 86,
   "id": "thousand-smell",
   "metadata": {},
   "outputs": [
    {
     "data": {
      "text/html": [
       "<dl>\n",
       "\t<dt>$a</dt>\n",
       "\t\t<dd>5</dd>\n",
       "\t<dt>$b</dt>\n",
       "\t\t<dd>1.57023692174744</dd>\n",
       "\t<dt>$c</dt>\n",
       "\t\t<dd>2.34400692147854</dd>\n",
       "\t<dt>$d</dt>\n",
       "\t\t<dd>7.21103045714788</dd>\n",
       "</dl>\n"
      ],
      "text/latex": [
       "\\begin{description}\n",
       "\\item[\\$a] 5\n",
       "\\item[\\$b] 1.57023692174744\n",
       "\\item[\\$c] 2.34400692147854\n",
       "\\item[\\$d] 7.21103045714788\n",
       "\\end{description}\n"
      ],
      "text/markdown": [
       "$a\n",
       ":   5\n",
       "$b\n",
       ":   1.57023692174744\n",
       "$c\n",
       ":   2.34400692147854\n",
       "$d\n",
       ":   7.21103045714788\n",
       "\n",
       "\n"
      ],
      "text/plain": [
       "$a\n",
       "[1] 5\n",
       "\n",
       "$b\n",
       "[1] 1.570237\n",
       "\n",
       "$c\n",
       "[1] 2.344007\n",
       "\n",
       "$d\n",
       "[1] 7.21103\n"
      ]
     },
     "metadata": {},
     "output_type": "display_data"
    }
   ],
   "source": [
    "lapply(X, max)"
   ]
  },
  {
   "cell_type": "code",
   "execution_count": 87,
   "id": "valuable-steel",
   "metadata": {},
   "outputs": [
    {
     "data": {
      "text/html": [
       "<ol>\n",
       "\t<li>0.634829452494159</li>\n",
       "\t<li><ol class=list-inline>\n",
       "\t<li>0.115992584032938</li>\n",
       "\t<li>0.908312821760774</li>\n",
       "</ol>\n",
       "</li>\n",
       "\t<li><ol class=list-inline>\n",
       "\t<li>0.758162447949871</li>\n",
       "\t<li>0.1162934594322</li>\n",
       "\t<li>0.651741412235424</li>\n",
       "</ol>\n",
       "</li>\n",
       "\t<li><ol class=list-inline>\n",
       "\t<li>0.552116449689493</li>\n",
       "\t<li>0.981528813485056</li>\n",
       "\t<li>0.353154197800905</li>\n",
       "\t<li>0.190959153929725</li>\n",
       "</ol>\n",
       "</li>\n",
       "</ol>\n"
      ],
      "text/latex": [
       "\\begin{enumerate}\n",
       "\\item 0.634829452494159\n",
       "\\item \\begin{enumerate*}\n",
       "\\item 0.115992584032938\n",
       "\\item 0.908312821760774\n",
       "\\end{enumerate*}\n",
       "\n",
       "\\item \\begin{enumerate*}\n",
       "\\item 0.758162447949871\n",
       "\\item 0.1162934594322\n",
       "\\item 0.651741412235424\n",
       "\\end{enumerate*}\n",
       "\n",
       "\\item \\begin{enumerate*}\n",
       "\\item 0.552116449689493\n",
       "\\item 0.981528813485056\n",
       "\\item 0.353154197800905\n",
       "\\item 0.190959153929725\n",
       "\\end{enumerate*}\n",
       "\n",
       "\\end{enumerate}\n"
      ],
      "text/markdown": [
       "1. 0.634829452494159\n",
       "2. 1. 0.115992584032938\n",
       "2. 0.908312821760774\n",
       "\n",
       "\n",
       "\n",
       "3. 1. 0.758162447949871\n",
       "2. 0.1162934594322\n",
       "3. 0.651741412235424\n",
       "\n",
       "\n",
       "\n",
       "4. 1. 0.552116449689493\n",
       "2. 0.981528813485056\n",
       "3. 0.353154197800905\n",
       "4. 0.190959153929725\n",
       "\n",
       "\n",
       "\n",
       "\n",
       "\n"
      ],
      "text/plain": [
       "[[1]]\n",
       "[1] 0.6348295\n",
       "\n",
       "[[2]]\n",
       "[1] 0.1159926 0.9083128\n",
       "\n",
       "[[3]]\n",
       "[1] 0.7581624 0.1162935 0.6517414\n",
       "\n",
       "[[4]]\n",
       "[1] 0.5521164 0.9815288 0.3531542 0.1909592\n"
      ]
     },
     "metadata": {},
     "output_type": "display_data"
    }
   ],
   "source": [
    "# another example\n",
    "\n",
    "x <- 1:4\n",
    "\n",
    "lapply(x, runif)"
   ]
  },
  {
   "cell_type": "code",
   "execution_count": 95,
   "id": "painted-rubber",
   "metadata": {},
   "outputs": [
    {
     "data": {
      "text/html": [
       "<ol>\n",
       "\t<li>10.0341641427949</li>\n",
       "\t<li><ol class=list-inline>\n",
       "\t<li>10.9002862563357</li>\n",
       "\t<li>11.6317339278758</li>\n",
       "</ol>\n",
       "</li>\n",
       "\t<li><ol class=list-inline>\n",
       "\t<li>11.9636765345931</li>\n",
       "\t<li>11.9157318552025</li>\n",
       "\t<li>11.4600202697329</li>\n",
       "</ol>\n",
       "</li>\n",
       "\t<li><ol class=list-inline>\n",
       "\t<li>11.3678402532823</li>\n",
       "\t<li>10.4597008540295</li>\n",
       "\t<li>11.4543153773993</li>\n",
       "\t<li>10.936097277794</li>\n",
       "</ol>\n",
       "</li>\n",
       "</ol>\n"
      ],
      "text/latex": [
       "\\begin{enumerate}\n",
       "\\item 10.0341641427949\n",
       "\\item \\begin{enumerate*}\n",
       "\\item 10.9002862563357\n",
       "\\item 11.6317339278758\n",
       "\\end{enumerate*}\n",
       "\n",
       "\\item \\begin{enumerate*}\n",
       "\\item 11.9636765345931\n",
       "\\item 11.9157318552025\n",
       "\\item 11.4600202697329\n",
       "\\end{enumerate*}\n",
       "\n",
       "\\item \\begin{enumerate*}\n",
       "\\item 11.3678402532823\n",
       "\\item 10.4597008540295\n",
       "\\item 11.4543153773993\n",
       "\\item 10.936097277794\n",
       "\\end{enumerate*}\n",
       "\n",
       "\\end{enumerate}\n"
      ],
      "text/markdown": [
       "1. 10.0341641427949\n",
       "2. 1. 10.9002862563357\n",
       "2. 11.6317339278758\n",
       "\n",
       "\n",
       "\n",
       "3. 1. 11.9636765345931\n",
       "2. 11.9157318552025\n",
       "3. 11.4600202697329\n",
       "\n",
       "\n",
       "\n",
       "4. 1. 11.3678402532823\n",
       "2. 10.4597008540295\n",
       "3. 11.4543153773993\n",
       "4. 10.936097277794\n",
       "\n",
       "\n",
       "\n",
       "\n",
       "\n"
      ],
      "text/plain": [
       "[[1]]\n",
       "[1] 10.03416\n",
       "\n",
       "[[2]]\n",
       "[1] 10.90029 11.63173\n",
       "\n",
       "[[3]]\n",
       "[1] 11.96368 11.91573 11.46002\n",
       "\n",
       "[[4]]\n",
       "[1] 11.36784 10.45970 11.45432 10.93610\n"
      ]
     },
     "metadata": {},
     "output_type": "display_data"
    }
   ],
   "source": [
    "x <- 1:4\n",
    "\n",
    "\n",
    "lapply(x, runif, min=10, max=12)"
   ]
  },
  {
   "cell_type": "markdown",
   "id": "partial-registrar",
   "metadata": {},
   "source": [
    "### sapply"
   ]
  },
  {
   "cell_type": "code",
   "execution_count": 97,
   "id": "illegal-restaurant",
   "metadata": {},
   "outputs": [],
   "source": [
    "#This is the advanced version"
   ]
  },
  {
   "cell_type": "code",
   "execution_count": 107,
   "id": "dominican-ordinance",
   "metadata": {},
   "outputs": [
    {
     "data": {
      "text/html": [
       "<dl>\n",
       "\t<dt>$a</dt>\n",
       "\t\t<dd><ol class=list-inline>\n",
       "\t<li>1</li>\n",
       "\t<li>2</li>\n",
       "\t<li>3</li>\n",
       "\t<li>4</li>\n",
       "</ol>\n",
       "</dd>\n",
       "\t<dt>$b</dt>\n",
       "\t\t<dd><ol class=list-inline>\n",
       "\t<li>-0.731706475726523</li>\n",
       "\t<li>0.452443180507291</li>\n",
       "\t<li>-1.82298736813021</li>\n",
       "\t<li>-0.0748035866267644</li>\n",
       "\t<li>0.445789377437108</li>\n",
       "\t<li>-0.600108695219359</li>\n",
       "\t<li>-0.543665884242762</li>\n",
       "\t<li>1.47023991810761</li>\n",
       "\t<li>-0.695715315400219</li>\n",
       "\t<li>0.711834373661708</li>\n",
       "</ol>\n",
       "</dd>\n",
       "\t<dt>$c</dt>\n",
       "\t\t<dd><ol class=list-inline>\n",
       "\t<li>0.608236056053318</li>\n",
       "\t<li>0.870815479269406</li>\n",
       "\t<li>1.87734221379435</li>\n",
       "\t<li>0.624533961297151</li>\n",
       "\t<li>1.9220553984917</li>\n",
       "\t<li>3.13953157548736</li>\n",
       "\t<li>0.332299031350472</li>\n",
       "\t<li>-0.754274448048368</li>\n",
       "\t<li>-0.0507331745454451</li>\n",
       "\t<li>-0.832604099728808</li>\n",
       "\t<li>1.46088492356748</li>\n",
       "\t<li>0.580685792699202</li>\n",
       "\t<li>2.08558445756704</li>\n",
       "\t<li>0.964342626245621</li>\n",
       "\t<li>2.89322239016975</li>\n",
       "\t<li>0.698051442086451</li>\n",
       "\t<li>-0.627556757366116</li>\n",
       "\t<li>1.01786855910868</li>\n",
       "\t<li>0.996097453859672</li>\n",
       "\t<li>0.761317092512281</li>\n",
       "</ol>\n",
       "</dd>\n",
       "\t<dt>$d</dt>\n",
       "\t\t<dd><ol class=list-inline>\n",
       "\t<li>4.16811108531305</li>\n",
       "\t<li>4.07803254341361</li>\n",
       "\t<li>4.15623763977529</li>\n",
       "\t<li>4.27004498905141</li>\n",
       "\t<li>2.63161991180399</li>\n",
       "\t<li>3.95108286360058</li>\n",
       "\t<li>4.77423547459279</li>\n",
       "\t<li>2.22444930047023</li>\n",
       "\t<li>1.96731231988222</li>\n",
       "\t<li>4.58057230941317</li>\n",
       "</ol>\n",
       "</dd>\n",
       "</dl>\n"
      ],
      "text/latex": [
       "\\begin{description}\n",
       "\\item[\\$a] \\begin{enumerate*}\n",
       "\\item 1\n",
       "\\item 2\n",
       "\\item 3\n",
       "\\item 4\n",
       "\\end{enumerate*}\n",
       "\n",
       "\\item[\\$b] \\begin{enumerate*}\n",
       "\\item -0.731706475726523\n",
       "\\item 0.452443180507291\n",
       "\\item -1.82298736813021\n",
       "\\item -0.0748035866267644\n",
       "\\item 0.445789377437108\n",
       "\\item -0.600108695219359\n",
       "\\item -0.543665884242762\n",
       "\\item 1.47023991810761\n",
       "\\item -0.695715315400219\n",
       "\\item 0.711834373661708\n",
       "\\end{enumerate*}\n",
       "\n",
       "\\item[\\$c] \\begin{enumerate*}\n",
       "\\item 0.608236056053318\n",
       "\\item 0.870815479269406\n",
       "\\item 1.87734221379435\n",
       "\\item 0.624533961297151\n",
       "\\item 1.9220553984917\n",
       "\\item 3.13953157548736\n",
       "\\item 0.332299031350472\n",
       "\\item -0.754274448048368\n",
       "\\item -0.0507331745454451\n",
       "\\item -0.832604099728808\n",
       "\\item 1.46088492356748\n",
       "\\item 0.580685792699202\n",
       "\\item 2.08558445756704\n",
       "\\item 0.964342626245621\n",
       "\\item 2.89322239016975\n",
       "\\item 0.698051442086451\n",
       "\\item -0.627556757366116\n",
       "\\item 1.01786855910868\n",
       "\\item 0.996097453859672\n",
       "\\item 0.761317092512281\n",
       "\\end{enumerate*}\n",
       "\n",
       "\\item[\\$d] \\begin{enumerate*}\n",
       "\\item 4.16811108531305\n",
       "\\item 4.07803254341361\n",
       "\\item 4.15623763977529\n",
       "\\item 4.27004498905141\n",
       "\\item 2.63161991180399\n",
       "\\item 3.95108286360058\n",
       "\\item 4.77423547459279\n",
       "\\item 2.22444930047023\n",
       "\\item 1.96731231988222\n",
       "\\item 4.58057230941317\n",
       "\\end{enumerate*}\n",
       "\n",
       "\\end{description}\n"
      ],
      "text/markdown": [
       "$a\n",
       ":   1. 1\n",
       "2. 2\n",
       "3. 3\n",
       "4. 4\n",
       "\n",
       "\n",
       "\n",
       "$b\n",
       ":   1. -0.731706475726523\n",
       "2. 0.452443180507291\n",
       "3. -1.82298736813021\n",
       "4. -0.0748035866267644\n",
       "5. 0.445789377437108\n",
       "6. -0.600108695219359\n",
       "7. -0.543665884242762\n",
       "8. 1.47023991810761\n",
       "9. -0.695715315400219\n",
       "10. 0.711834373661708\n",
       "\n",
       "\n",
       "\n",
       "$c\n",
       ":   1. 0.608236056053318\n",
       "2. 0.870815479269406\n",
       "3. 1.87734221379435\n",
       "4. 0.624533961297151\n",
       "5. 1.9220553984917\n",
       "6. 3.13953157548736\n",
       "7. 0.332299031350472\n",
       "8. -0.754274448048368\n",
       "9. -0.0507331745454451\n",
       "10. -0.832604099728808\n",
       "11. 1.46088492356748\n",
       "12. 0.580685792699202\n",
       "13. 2.08558445756704\n",
       "14. 0.964342626245621\n",
       "15. 2.89322239016975\n",
       "16. 0.698051442086451\n",
       "17. -0.627556757366116\n",
       "18. 1.01786855910868\n",
       "19. 0.996097453859672\n",
       "20. 0.761317092512281\n",
       "\n",
       "\n",
       "\n",
       "$d\n",
       ":   1. 4.16811108531305\n",
       "2. 4.07803254341361\n",
       "3. 4.15623763977529\n",
       "4. 4.27004498905141\n",
       "5. 2.63161991180399\n",
       "6. 3.95108286360058\n",
       "7. 4.77423547459279\n",
       "8. 2.22444930047023\n",
       "9. 1.96731231988222\n",
       "10. 4.58057230941317\n",
       "\n",
       "\n",
       "\n",
       "\n",
       "\n"
      ],
      "text/plain": [
       "$a\n",
       "[1] 1 2 3 4\n",
       "\n",
       "$b\n",
       " [1] -0.73170648  0.45244318 -1.82298737 -0.07480359  0.44578938 -0.60010870\n",
       " [7] -0.54366588  1.47023992 -0.69571532  0.71183437\n",
       "\n",
       "$c\n",
       " [1]  0.60823606  0.87081548  1.87734221  0.62453396  1.92205540  3.13953158\n",
       " [7]  0.33229903 -0.75427445 -0.05073317 -0.83260410  1.46088492  0.58068579\n",
       "[13]  2.08558446  0.96434263  2.89322239  0.69805144 -0.62755676  1.01786856\n",
       "[19]  0.99609745  0.76131709\n",
       "\n",
       "$d\n",
       " [1] 4.168111 4.078033 4.156238 4.270045 2.631620 3.951083 4.774235 2.224449\n",
       " [9] 1.967312 4.580572\n"
      ]
     },
     "metadata": {},
     "output_type": "display_data"
    },
    {
     "data": {
      "text/html": [
       "<dl class=dl-horizontal>\n",
       "\t<dt>a</dt>\n",
       "\t\t<dd>2.5</dd>\n",
       "\t<dt>b</dt>\n",
       "\t\t<dd>-0.138868047563212</dd>\n",
       "\t<dt>c</dt>\n",
       "\t\t<dd>0.92838499869356</dd>\n",
       "\t<dt>d</dt>\n",
       "\t\t<dd>3.68016984373163</dd>\n",
       "</dl>\n"
      ],
      "text/latex": [
       "\\begin{description*}\n",
       "\\item[a] 2.5\n",
       "\\item[b] -0.138868047563212\n",
       "\\item[c] 0.92838499869356\n",
       "\\item[d] 3.68016984373163\n",
       "\\end{description*}\n"
      ],
      "text/markdown": [
       "a\n",
       ":   2.5b\n",
       ":   -0.138868047563212c\n",
       ":   0.92838499869356d\n",
       ":   3.68016984373163\n",
       "\n"
      ],
      "text/plain": [
       "        a         b         c         d \n",
       " 2.500000 -0.138868  0.928385  3.680170 "
      ]
     },
     "metadata": {},
     "output_type": "display_data"
    }
   ],
   "source": [
    "x <- list(a = 1:4, b = rnorm(10), c=rnorm(20,1), d= rnorm(10,4))\n",
    "x\n",
    "sapply(x, mean)"
   ]
  },
  {
   "cell_type": "code",
   "execution_count": 108,
   "id": "fallen-foster",
   "metadata": {},
   "outputs": [
    {
     "data": {
      "text/html": [
       "<dl class=dl-horizontal>\n",
       "\t<dt>a</dt>\n",
       "\t\t<dd>10</dd>\n",
       "\t<dt>b</dt>\n",
       "\t\t<dd>-1.38868047563212</dd>\n",
       "\t<dt>c</dt>\n",
       "\t\t<dd>18.5676999738712</dd>\n",
       "\t<dt>d</dt>\n",
       "\t\t<dd>36.8016984373163</dd>\n",
       "</dl>\n"
      ],
      "text/latex": [
       "\\begin{description*}\n",
       "\\item[a] 10\n",
       "\\item[b] -1.38868047563212\n",
       "\\item[c] 18.5676999738712\n",
       "\\item[d] 36.8016984373163\n",
       "\\end{description*}\n"
      ],
      "text/markdown": [
       "a\n",
       ":   10b\n",
       ":   -1.38868047563212c\n",
       ":   18.5676999738712d\n",
       ":   36.8016984373163\n",
       "\n"
      ],
      "text/plain": [
       "       a        b        c        d \n",
       "10.00000 -1.38868 18.56770 36.80170 "
      ]
     },
     "metadata": {},
     "output_type": "display_data"
    }
   ],
   "source": [
    "sapply(x, sum)"
   ]
  },
  {
   "cell_type": "code",
   "execution_count": null,
   "id": "loving-biotechnology",
   "metadata": {},
   "outputs": [],
   "source": [
    "\n"
   ]
  },
  {
   "cell_type": "markdown",
   "id": "effective-calibration",
   "metadata": {},
   "source": [
    "## apply function of loop"
   ]
  },
  {
   "cell_type": "markdown",
   "id": "blind-yukon",
   "metadata": {},
   "source": [
    "# example of apply function\n",
    "\n",
    "x <- matrix(rnorm(200), 20, 10)\n",
    "x"
   ]
  },
  {
   "cell_type": "code",
   "execution_count": 113,
   "id": "official-origin",
   "metadata": {},
   "outputs": [
    {
     "data": {
      "text/html": [
       "<ol class=list-inline>\n",
       "\t<li>-5.99558243059457</li>\n",
       "\t<li>0.31598151486024</li>\n",
       "\t<li>3.21924927276276</li>\n",
       "\t<li>-3.90886489216645</li>\n",
       "\t<li>-2.00403380009441</li>\n",
       "\t<li>0.693968798953172</li>\n",
       "\t<li>-2.27283386977293</li>\n",
       "\t<li>4.94061772035573</li>\n",
       "\t<li>-4.30756415116084</li>\n",
       "\t<li>1.8334181379532</li>\n",
       "\t<li>0.740457038745202</li>\n",
       "\t<li>0.326121492930986</li>\n",
       "\t<li>-3.58531275521619</li>\n",
       "\t<li>1.64964285286969</li>\n",
       "\t<li>4.31456893345254</li>\n",
       "\t<li>-2.2628335524225</li>\n",
       "\t<li>2.11660005360293</li>\n",
       "\t<li>2.0769201326898</li>\n",
       "\t<li>-1.23175712805035</li>\n",
       "\t<li>0.0062493456281871</li>\n",
       "</ol>\n"
      ],
      "text/latex": [
       "\\begin{enumerate*}\n",
       "\\item -5.99558243059457\n",
       "\\item 0.31598151486024\n",
       "\\item 3.21924927276276\n",
       "\\item -3.90886489216645\n",
       "\\item -2.00403380009441\n",
       "\\item 0.693968798953172\n",
       "\\item -2.27283386977293\n",
       "\\item 4.94061772035573\n",
       "\\item -4.30756415116084\n",
       "\\item 1.8334181379532\n",
       "\\item 0.740457038745202\n",
       "\\item 0.326121492930986\n",
       "\\item -3.58531275521619\n",
       "\\item 1.64964285286969\n",
       "\\item 4.31456893345254\n",
       "\\item -2.2628335524225\n",
       "\\item 2.11660005360293\n",
       "\\item 2.0769201326898\n",
       "\\item -1.23175712805035\n",
       "\\item 0.0062493456281871\n",
       "\\end{enumerate*}\n"
      ],
      "text/markdown": [
       "1. -5.99558243059457\n",
       "2. 0.31598151486024\n",
       "3. 3.21924927276276\n",
       "4. -3.90886489216645\n",
       "5. -2.00403380009441\n",
       "6. 0.693968798953172\n",
       "7. -2.27283386977293\n",
       "8. 4.94061772035573\n",
       "9. -4.30756415116084\n",
       "10. 1.8334181379532\n",
       "11. 0.740457038745202\n",
       "12. 0.326121492930986\n",
       "13. -3.58531275521619\n",
       "14. 1.64964285286969\n",
       "15. 4.31456893345254\n",
       "16. -2.2628335524225\n",
       "17. 2.11660005360293\n",
       "18. 2.0769201326898\n",
       "19. -1.23175712805035\n",
       "20. 0.0062493456281871\n",
       "\n",
       "\n"
      ],
      "text/plain": [
       " [1] -5.995582431  0.315981515  3.219249273 -3.908864892 -2.004033800\n",
       " [6]  0.693968799 -2.272833870  4.940617720 -4.307564151  1.833418138\n",
       "[11]  0.740457039  0.326121493 -3.585312755  1.649642853  4.314568933\n",
       "[16] -2.262833552  2.116600054  2.076920133 -1.231757128  0.006249346"
      ]
     },
     "metadata": {},
     "output_type": "display_data"
    }
   ],
   "source": [
    "apply(x, 1, sum) # here is x, margin(row =1 or column = 2, sum)"
   ]
  },
  {
   "cell_type": "code",
   "execution_count": 114,
   "id": "optional-community",
   "metadata": {},
   "outputs": [
    {
     "data": {
      "text/html": [
       "<ol class=list-inline>\n",
       "\t<li>2.09293607790942</li>\n",
       "\t<li>8.52696201874949</li>\n",
       "\t<li>-0.640044479782566</li>\n",
       "\t<li>2.0231788906029</li>\n",
       "\t<li>-2.32868112263603</li>\n",
       "\t<li>-2.41304165947808</li>\n",
       "\t<li>-1.26821158913724</li>\n",
       "\t<li>-1.41410272545587</li>\n",
       "\t<li>-1.05643521137323</li>\n",
       "\t<li>-6.85754748407259</li>\n",
       "</ol>\n"
      ],
      "text/latex": [
       "\\begin{enumerate*}\n",
       "\\item 2.09293607790942\n",
       "\\item 8.52696201874949\n",
       "\\item -0.640044479782566\n",
       "\\item 2.0231788906029\n",
       "\\item -2.32868112263603\n",
       "\\item -2.41304165947808\n",
       "\\item -1.26821158913724\n",
       "\\item -1.41410272545587\n",
       "\\item -1.05643521137323\n",
       "\\item -6.85754748407259\n",
       "\\end{enumerate*}\n"
      ],
      "text/markdown": [
       "1. 2.09293607790942\n",
       "2. 8.52696201874949\n",
       "3. -0.640044479782566\n",
       "4. 2.0231788906029\n",
       "5. -2.32868112263603\n",
       "6. -2.41304165947808\n",
       "7. -1.26821158913724\n",
       "8. -1.41410272545587\n",
       "9. -1.05643521137323\n",
       "10. -6.85754748407259\n",
       "\n",
       "\n"
      ],
      "text/plain": [
       " [1]  2.0929361  8.5269620 -0.6400445  2.0231789 -2.3286811 -2.4130417\n",
       " [7] -1.2682116 -1.4141027 -1.0564352 -6.8575475"
      ]
     },
     "metadata": {},
     "output_type": "display_data"
    }
   ],
   "source": [
    "apply(x,2, sum)"
   ]
  },
  {
   "cell_type": "code",
   "execution_count": 116,
   "id": "swiss-penny",
   "metadata": {},
   "outputs": [
    {
     "data": {
      "text/html": [
       "<ol class=list-inline>\n",
       "\t<li>-5.99558243059457</li>\n",
       "\t<li>0.31598151486024</li>\n",
       "\t<li>3.21924927276276</li>\n",
       "\t<li>-3.90886489216645</li>\n",
       "\t<li>-2.00403380009441</li>\n",
       "\t<li>0.693968798953172</li>\n",
       "\t<li>-2.27283386977293</li>\n",
       "\t<li>4.94061772035573</li>\n",
       "\t<li>-4.30756415116084</li>\n",
       "\t<li>1.8334181379532</li>\n",
       "\t<li>0.740457038745202</li>\n",
       "\t<li>0.326121492930986</li>\n",
       "\t<li>-3.58531275521619</li>\n",
       "\t<li>1.64964285286969</li>\n",
       "\t<li>4.31456893345254</li>\n",
       "\t<li>-2.2628335524225</li>\n",
       "\t<li>2.11660005360293</li>\n",
       "\t<li>2.0769201326898</li>\n",
       "\t<li>-1.23175712805035</li>\n",
       "\t<li>0.0062493456281871</li>\n",
       "</ol>\n"
      ],
      "text/latex": [
       "\\begin{enumerate*}\n",
       "\\item -5.99558243059457\n",
       "\\item 0.31598151486024\n",
       "\\item 3.21924927276276\n",
       "\\item -3.90886489216645\n",
       "\\item -2.00403380009441\n",
       "\\item 0.693968798953172\n",
       "\\item -2.27283386977293\n",
       "\\item 4.94061772035573\n",
       "\\item -4.30756415116084\n",
       "\\item 1.8334181379532\n",
       "\\item 0.740457038745202\n",
       "\\item 0.326121492930986\n",
       "\\item -3.58531275521619\n",
       "\\item 1.64964285286969\n",
       "\\item 4.31456893345254\n",
       "\\item -2.2628335524225\n",
       "\\item 2.11660005360293\n",
       "\\item 2.0769201326898\n",
       "\\item -1.23175712805035\n",
       "\\item 0.0062493456281871\n",
       "\\end{enumerate*}\n"
      ],
      "text/markdown": [
       "1. -5.99558243059457\n",
       "2. 0.31598151486024\n",
       "3. 3.21924927276276\n",
       "4. -3.90886489216645\n",
       "5. -2.00403380009441\n",
       "6. 0.693968798953172\n",
       "7. -2.27283386977293\n",
       "8. 4.94061772035573\n",
       "9. -4.30756415116084\n",
       "10. 1.8334181379532\n",
       "11. 0.740457038745202\n",
       "12. 0.326121492930986\n",
       "13. -3.58531275521619\n",
       "14. 1.64964285286969\n",
       "15. 4.31456893345254\n",
       "16. -2.2628335524225\n",
       "17. 2.11660005360293\n",
       "18. 2.0769201326898\n",
       "19. -1.23175712805035\n",
       "20. 0.0062493456281871\n",
       "\n",
       "\n"
      ],
      "text/plain": [
       " [1] -5.995582431  0.315981515  3.219249273 -3.908864892 -2.004033800\n",
       " [6]  0.693968799 -2.272833870  4.940617720 -4.307564151  1.833418138\n",
       "[11]  0.740457039  0.326121493 -3.585312755  1.649642853  4.314568933\n",
       "[16] -2.262833552  2.116600054  2.076920133 -1.231757128  0.006249346"
      ]
     },
     "metadata": {},
     "output_type": "display_data"
    }
   ],
   "source": [
    "#Aonther method of to use Margin\n",
    "\n",
    "rowSums(x) # similar like above example"
   ]
  },
  {
   "cell_type": "code",
   "execution_count": 117,
   "id": "frozen-picture",
   "metadata": {},
   "outputs": [
    {
     "data": {
      "text/html": [
       "<ol class=list-inline>\n",
       "\t<li>2.09293607790942</li>\n",
       "\t<li>8.52696201874949</li>\n",
       "\t<li>-0.640044479782566</li>\n",
       "\t<li>2.0231788906029</li>\n",
       "\t<li>-2.32868112263603</li>\n",
       "\t<li>-2.41304165947808</li>\n",
       "\t<li>-1.26821158913724</li>\n",
       "\t<li>-1.41410272545587</li>\n",
       "\t<li>-1.05643521137323</li>\n",
       "\t<li>-6.85754748407259</li>\n",
       "</ol>\n"
      ],
      "text/latex": [
       "\\begin{enumerate*}\n",
       "\\item 2.09293607790942\n",
       "\\item 8.52696201874949\n",
       "\\item -0.640044479782566\n",
       "\\item 2.0231788906029\n",
       "\\item -2.32868112263603\n",
       "\\item -2.41304165947808\n",
       "\\item -1.26821158913724\n",
       "\\item -1.41410272545587\n",
       "\\item -1.05643521137323\n",
       "\\item -6.85754748407259\n",
       "\\end{enumerate*}\n"
      ],
      "text/markdown": [
       "1. 2.09293607790942\n",
       "2. 8.52696201874949\n",
       "3. -0.640044479782566\n",
       "4. 2.0231788906029\n",
       "5. -2.32868112263603\n",
       "6. -2.41304165947808\n",
       "7. -1.26821158913724\n",
       "8. -1.41410272545587\n",
       "9. -1.05643521137323\n",
       "10. -6.85754748407259\n",
       "\n",
       "\n"
      ],
      "text/plain": [
       " [1]  2.0929361  8.5269620 -0.6400445  2.0231789 -2.3286811 -2.4130417\n",
       " [7] -1.2682116 -1.4141027 -1.0564352 -6.8575475"
      ]
     },
     "metadata": {},
     "output_type": "display_data"
    }
   ],
   "source": [
    "colSums(x) #similar to apply(x, 2, sum)"
   ]
  },
  {
   "cell_type": "markdown",
   "id": "incorporate-conditions",
   "metadata": {},
   "source": [
    "### Quantiles"
   ]
  },
  {
   "cell_type": "code",
   "execution_count": 122,
   "id": "numeric-african",
   "metadata": {},
   "outputs": [
    {
     "data": {
      "text/html": [
       "<table>\n",
       "<tbody>\n",
       "\t<tr><th scope=row>0%</th><td>-1.5365199  </td><td>-0.8974687  </td><td>-1.52711520 </td><td>-1.0330638  </td><td>-2.20669938 </td><td>-1.9840446  </td><td>-1.880055955</td><td>-1.80901267 </td><td>-2.10701376 </td><td>-1.7624934  </td></tr>\n",
       "\t<tr><th scope=row>25%</th><td>-0.9120765  </td><td>-0.0127499  </td><td>-0.73648237 </td><td>-0.7722936  </td><td>-0.99160047 </td><td>-1.2045372  </td><td>-0.500845166</td><td>-0.44947000 </td><td>-0.69241286 </td><td>-1.0829735  </td></tr>\n",
       "\t<tr><th scope=row>50%</th><td> 0.1335768  </td><td> 0.4238222  </td><td>-0.02458165 </td><td> 0.1839539  </td><td> 0.03316682 </td><td>-0.1151703  </td><td>-0.002705438</td><td>-0.09144545 </td><td> 0.05582733 </td><td>-0.3525981  </td></tr>\n",
       "\t<tr><th scope=row>75%</th><td> 0.5690778  </td><td> 0.9372129  </td><td> 0.32491541 </td><td> 0.6598318  </td><td> 0.65852405 </td><td> 0.5003678  </td><td> 0.531950356</td><td> 0.28676753 </td><td> 0.63438924 </td><td> 0.4467944  </td></tr>\n",
       "\t<tr><th scope=row>100%</th><td> 2.7882945  </td><td> 1.5890612  </td><td> 1.45290775 </td><td> 2.4462523  </td><td> 2.15707635 </td><td> 3.2500079  </td><td> 2.082084676</td><td> 1.75796498 </td><td> 1.63607025 </td><td> 0.9394386  </td></tr>\n",
       "</tbody>\n",
       "</table>\n"
      ],
      "text/latex": [
       "\\begin{tabular}{r|llllllllll}\n",
       "\t0\\% & -1.5365199   & -0.8974687   & -1.52711520  & -1.0330638   & -2.20669938  & -1.9840446   & -1.880055955 & -1.80901267  & -2.10701376  & -1.7624934  \\\\\n",
       "\t25\\% & -0.9120765   & -0.0127499   & -0.73648237  & -0.7722936   & -0.99160047  & -1.2045372   & -0.500845166 & -0.44947000  & -0.69241286  & -1.0829735  \\\\\n",
       "\t50\\% &  0.1335768   &  0.4238222   & -0.02458165  &  0.1839539   &  0.03316682  & -0.1151703   & -0.002705438 & -0.09144545  &  0.05582733  & -0.3525981  \\\\\n",
       "\t75\\% &  0.5690778   &  0.9372129   &  0.32491541  &  0.6598318   &  0.65852405  &  0.5003678   &  0.531950356 &  0.28676753  &  0.63438924  &  0.4467944  \\\\\n",
       "\t100\\% &  2.7882945   &  1.5890612   &  1.45290775  &  2.4462523   &  2.15707635  &  3.2500079   &  2.082084676 &  1.75796498  &  1.63607025  &  0.9394386  \\\\\n",
       "\\end{tabular}\n"
      ],
      "text/markdown": [
       "\n",
       "| 0% | -1.5365199   | -0.8974687   | -1.52711520  | -1.0330638   | -2.20669938  | -1.9840446   | -1.880055955 | -1.80901267  | -2.10701376  | -1.7624934   |\n",
       "| 25% | -0.9120765   | -0.0127499   | -0.73648237  | -0.7722936   | -0.99160047  | -1.2045372   | -0.500845166 | -0.44947000  | -0.69241286  | -1.0829735   |\n",
       "| 50% |  0.1335768   |  0.4238222   | -0.02458165  |  0.1839539   |  0.03316682  | -0.1151703   | -0.002705438 | -0.09144545  |  0.05582733  | -0.3525981   |\n",
       "| 75% |  0.5690778   |  0.9372129   |  0.32491541  |  0.6598318   |  0.65852405  |  0.5003678   |  0.531950356 |  0.28676753  |  0.63438924  |  0.4467944   |\n",
       "| 100% |  2.7882945   |  1.5890612   |  1.45290775  |  2.4462523   |  2.15707635  |  3.2500079   |  2.082084676 |  1.75796498  |  1.63607025  |  0.9394386   |\n",
       "\n"
      ],
      "text/plain": [
       "     [,1]       [,2]       [,3]        [,4]       [,5]        [,6]      \n",
       "0%   -1.5365199 -0.8974687 -1.52711520 -1.0330638 -2.20669938 -1.9840446\n",
       "25%  -0.9120765 -0.0127499 -0.73648237 -0.7722936 -0.99160047 -1.2045372\n",
       "50%   0.1335768  0.4238222 -0.02458165  0.1839539  0.03316682 -0.1151703\n",
       "75%   0.5690778  0.9372129  0.32491541  0.6598318  0.65852405  0.5003678\n",
       "100%  2.7882945  1.5890612  1.45290775  2.4462523  2.15707635  3.2500079\n",
       "     [,7]         [,8]        [,9]        [,10]     \n",
       "0%   -1.880055955 -1.80901267 -2.10701376 -1.7624934\n",
       "25%  -0.500845166 -0.44947000 -0.69241286 -1.0829735\n",
       "50%  -0.002705438 -0.09144545  0.05582733 -0.3525981\n",
       "75%   0.531950356  0.28676753  0.63438924  0.4467944\n",
       "100%  2.082084676  1.75796498  1.63607025  0.9394386"
      ]
     },
     "metadata": {},
     "output_type": "display_data"
    }
   ],
   "source": [
    "apply(x, 2, quantile)"
   ]
  },
  {
   "cell_type": "code",
   "execution_count": null,
   "id": "fresh-quilt",
   "metadata": {},
   "outputs": [],
   "source": []
  },
  {
   "cell_type": "markdown",
   "id": "higher-shower",
   "metadata": {},
   "source": [
    "### Tapply function"
   ]
  },
  {
   "cell_type": "code",
   "execution_count": 133,
   "id": "positive-volleyball",
   "metadata": {},
   "outputs": [
    {
     "data": {
      "text/html": [
       "<ol class=list-inline>\n",
       "\t<li>1</li>\n",
       "\t<li>1</li>\n",
       "\t<li>1</li>\n",
       "\t<li>1</li>\n",
       "\t<li>1</li>\n",
       "\t<li>1</li>\n",
       "\t<li>1</li>\n",
       "\t<li>1</li>\n",
       "\t<li>1</li>\n",
       "\t<li>1</li>\n",
       "\t<li>2</li>\n",
       "\t<li>2</li>\n",
       "\t<li>2</li>\n",
       "\t<li>2</li>\n",
       "\t<li>2</li>\n",
       "\t<li>2</li>\n",
       "\t<li>2</li>\n",
       "\t<li>2</li>\n",
       "\t<li>2</li>\n",
       "\t<li>2</li>\n",
       "\t<li>3</li>\n",
       "\t<li>3</li>\n",
       "\t<li>3</li>\n",
       "\t<li>3</li>\n",
       "\t<li>3</li>\n",
       "\t<li>3</li>\n",
       "\t<li>3</li>\n",
       "\t<li>3</li>\n",
       "\t<li>3</li>\n",
       "\t<li>3</li>\n",
       "</ol>\n",
       "\n",
       "<details>\n",
       "\t<summary style=display:list-item;cursor:pointer>\n",
       "\t\t<strong>Levels</strong>:\n",
       "\t</summary>\n",
       "\t<ol class=list-inline>\n",
       "\t\t<li>'1'</li>\n",
       "\t\t<li>'2'</li>\n",
       "\t\t<li>'3'</li>\n",
       "\t</ol>\n",
       "</details>"
      ],
      "text/latex": [
       "\\begin{enumerate*}\n",
       "\\item 1\n",
       "\\item 1\n",
       "\\item 1\n",
       "\\item 1\n",
       "\\item 1\n",
       "\\item 1\n",
       "\\item 1\n",
       "\\item 1\n",
       "\\item 1\n",
       "\\item 1\n",
       "\\item 2\n",
       "\\item 2\n",
       "\\item 2\n",
       "\\item 2\n",
       "\\item 2\n",
       "\\item 2\n",
       "\\item 2\n",
       "\\item 2\n",
       "\\item 2\n",
       "\\item 2\n",
       "\\item 3\n",
       "\\item 3\n",
       "\\item 3\n",
       "\\item 3\n",
       "\\item 3\n",
       "\\item 3\n",
       "\\item 3\n",
       "\\item 3\n",
       "\\item 3\n",
       "\\item 3\n",
       "\\end{enumerate*}\n",
       "\n",
       "\\emph{Levels}: \\begin{enumerate*}\n",
       "\\item '1'\n",
       "\\item '2'\n",
       "\\item '3'\n",
       "\\end{enumerate*}\n"
      ],
      "text/markdown": [
       "1. 1\n",
       "2. 1\n",
       "3. 1\n",
       "4. 1\n",
       "5. 1\n",
       "6. 1\n",
       "7. 1\n",
       "8. 1\n",
       "9. 1\n",
       "10. 1\n",
       "11. 2\n",
       "12. 2\n",
       "13. 2\n",
       "14. 2\n",
       "15. 2\n",
       "16. 2\n",
       "17. 2\n",
       "18. 2\n",
       "19. 2\n",
       "20. 2\n",
       "21. 3\n",
       "22. 3\n",
       "23. 3\n",
       "24. 3\n",
       "25. 3\n",
       "26. 3\n",
       "27. 3\n",
       "28. 3\n",
       "29. 3\n",
       "30. 3\n",
       "\n",
       "\n",
       "\n",
       "**Levels**: 1. '1'\n",
       "2. '2'\n",
       "3. '3'\n",
       "\n",
       "\n"
      ],
      "text/plain": [
       " [1] 1 1 1 1 1 1 1 1 1 1 2 2 2 2 2 2 2 2 2 2 3 3 3 3 3 3 3 3 3 3\n",
       "Levels: 1 2 3"
      ]
     },
     "metadata": {},
     "output_type": "display_data"
    }
   ],
   "source": [
    "# example of tapply\n",
    "\n",
    "x <- c(rnorm(10), runif(10), rnorm(10,1))\n",
    "\n",
    "f <-gl(3,10)\n",
    "f"
   ]
  },
  {
   "cell_type": "code",
   "execution_count": 134,
   "id": "animal-audience",
   "metadata": {},
   "outputs": [
    {
     "data": {
      "text/html": [
       "<dl class=dl-horizontal>\n",
       "\t<dt>1</dt>\n",
       "\t\t<dd>0.34264868069496</dd>\n",
       "\t<dt>2</dt>\n",
       "\t\t<dd>0.34856181894429</dd>\n",
       "\t<dt>3</dt>\n",
       "\t\t<dd>1.49250855285809</dd>\n",
       "</dl>\n"
      ],
      "text/latex": [
       "\\begin{description*}\n",
       "\\item[1] 0.34264868069496\n",
       "\\item[2] 0.34856181894429\n",
       "\\item[3] 1.49250855285809\n",
       "\\end{description*}\n"
      ],
      "text/markdown": [
       "1\n",
       ":   0.342648680694962\n",
       ":   0.348561818944293\n",
       ":   1.49250855285809\n",
       "\n"
      ],
      "text/plain": [
       "        1         2         3 \n",
       "0.3426487 0.3485618 1.4925086 "
      ]
     },
     "metadata": {},
     "output_type": "display_data"
    }
   ],
   "source": [
    "tapply(x,f, mean)"
   ]
  },
  {
   "cell_type": "code",
   "execution_count": 135,
   "id": "african-company",
   "metadata": {},
   "outputs": [
    {
     "data": {
      "text/html": [
       "<dl class=dl-horizontal>\n",
       "\t<dt>1</dt>\n",
       "\t\t<dd>3.4264868069496</dd>\n",
       "\t<dt>2</dt>\n",
       "\t\t<dd>3.4856181894429</dd>\n",
       "\t<dt>3</dt>\n",
       "\t\t<dd>14.9250855285809</dd>\n",
       "</dl>\n"
      ],
      "text/latex": [
       "\\begin{description*}\n",
       "\\item[1] 3.4264868069496\n",
       "\\item[2] 3.4856181894429\n",
       "\\item[3] 14.9250855285809\n",
       "\\end{description*}\n"
      ],
      "text/markdown": [
       "1\n",
       ":   3.42648680694962\n",
       ":   3.48561818944293\n",
       ":   14.9250855285809\n",
       "\n"
      ],
      "text/plain": [
       "        1         2         3 \n",
       " 3.426487  3.485618 14.925086 "
      ]
     },
     "metadata": {},
     "output_type": "display_data"
    }
   ],
   "source": [
    "tapply(x,f,sum, simplify = TRUE)"
   ]
  },
  {
   "cell_type": "code",
   "execution_count": 139,
   "id": "incredible-enterprise",
   "metadata": {},
   "outputs": [
    {
     "data": {
      "text/html": [
       "<ol class=list-inline>\n",
       "\t<li>-0.146717862178077</li>\n",
       "\t<li>1.1172267755793</li>\n",
       "\t<li>1.27135644638359</li>\n",
       "\t<li>1.50379403136718</li>\n",
       "\t<li>0.171666313181239</li>\n",
       "\t<li>-0.0636563928100708</li>\n",
       "\t<li>1.12301152765179</li>\n",
       "\t<li>-0.582671868114563</li>\n",
       "\t<li>0.668527173522928</li>\n",
       "\t<li>-1.63604933763371</li>\n",
       "\t<li>0.659285431960598</li>\n",
       "\t<li>0.1119686558377</li>\n",
       "\t<li>0.483422297053039</li>\n",
       "\t<li>0.466723614605144</li>\n",
       "\t<li>0.115709128323942</li>\n",
       "\t<li>0.138895816169679</li>\n",
       "\t<li>0.0758768515661359</li>\n",
       "\t<li>0.589239258319139</li>\n",
       "\t<li>0.617667770246044</li>\n",
       "\t<li>0.226829365361482</li>\n",
       "\t<li>0.51215551371134</li>\n",
       "\t<li>2.12952137626964</li>\n",
       "\t<li>0.234429412692697</li>\n",
       "\t<li>2.18294625709579</li>\n",
       "\t<li>1.54545296384392</li>\n",
       "\t<li>2.08426924409004</li>\n",
       "\t<li>1.20093482203368</li>\n",
       "\t<li>1.2107699000156</li>\n",
       "\t<li>1.54263945672534</li>\n",
       "\t<li>2.28196658210284</li>\n",
       "</ol>\n"
      ],
      "text/latex": [
       "\\begin{enumerate*}\n",
       "\\item -0.146717862178077\n",
       "\\item 1.1172267755793\n",
       "\\item 1.27135644638359\n",
       "\\item 1.50379403136718\n",
       "\\item 0.171666313181239\n",
       "\\item -0.0636563928100708\n",
       "\\item 1.12301152765179\n",
       "\\item -0.582671868114563\n",
       "\\item 0.668527173522928\n",
       "\\item -1.63604933763371\n",
       "\\item 0.659285431960598\n",
       "\\item 0.1119686558377\n",
       "\\item 0.483422297053039\n",
       "\\item 0.466723614605144\n",
       "\\item 0.115709128323942\n",
       "\\item 0.138895816169679\n",
       "\\item 0.0758768515661359\n",
       "\\item 0.589239258319139\n",
       "\\item 0.617667770246044\n",
       "\\item 0.226829365361482\n",
       "\\item 0.51215551371134\n",
       "\\item 2.12952137626964\n",
       "\\item 0.234429412692697\n",
       "\\item 2.18294625709579\n",
       "\\item 1.54545296384392\n",
       "\\item 2.08426924409004\n",
       "\\item 1.20093482203368\n",
       "\\item 1.2107699000156\n",
       "\\item 1.54263945672534\n",
       "\\item 2.28196658210284\n",
       "\\end{enumerate*}\n"
      ],
      "text/markdown": [
       "1. -0.146717862178077\n",
       "2. 1.1172267755793\n",
       "3. 1.27135644638359\n",
       "4. 1.50379403136718\n",
       "5. 0.171666313181239\n",
       "6. -0.0636563928100708\n",
       "7. 1.12301152765179\n",
       "8. -0.582671868114563\n",
       "9. 0.668527173522928\n",
       "10. -1.63604933763371\n",
       "11. 0.659285431960598\n",
       "12. 0.1119686558377\n",
       "13. 0.483422297053039\n",
       "14. 0.466723614605144\n",
       "15. 0.115709128323942\n",
       "16. 0.138895816169679\n",
       "17. 0.0758768515661359\n",
       "18. 0.589239258319139\n",
       "19. 0.617667770246044\n",
       "20. 0.226829365361482\n",
       "21. 0.51215551371134\n",
       "22. 2.12952137626964\n",
       "23. 0.234429412692697\n",
       "24. 2.18294625709579\n",
       "25. 1.54545296384392\n",
       "26. 2.08426924409004\n",
       "27. 1.20093482203368\n",
       "28. 1.2107699000156\n",
       "29. 1.54263945672534\n",
       "30. 2.28196658210284\n",
       "\n",
       "\n"
      ],
      "text/plain": [
       " [1] -0.14671786  1.11722678  1.27135645  1.50379403  0.17166631 -0.06365639\n",
       " [7]  1.12301153 -0.58267187  0.66852717 -1.63604934  0.65928543  0.11196866\n",
       "[13]  0.48342230  0.46672361  0.11570913  0.13889582  0.07587685  0.58923926\n",
       "[19]  0.61766777  0.22682937  0.51215551  2.12952138  0.23442941  2.18294626\n",
       "[25]  1.54545296  2.08426924  1.20093482  1.21076990  1.54263946  2.28196658"
      ]
     },
     "metadata": {},
     "output_type": "display_data"
    },
    {
     "data": {
      "text/html": [
       "<ol class=list-inline>\n",
       "\t<li>1</li>\n",
       "\t<li>1</li>\n",
       "\t<li>1</li>\n",
       "\t<li>1</li>\n",
       "\t<li>1</li>\n",
       "\t<li>1</li>\n",
       "\t<li>1</li>\n",
       "\t<li>1</li>\n",
       "\t<li>1</li>\n",
       "\t<li>1</li>\n",
       "\t<li>2</li>\n",
       "\t<li>2</li>\n",
       "\t<li>2</li>\n",
       "\t<li>2</li>\n",
       "\t<li>2</li>\n",
       "\t<li>2</li>\n",
       "\t<li>2</li>\n",
       "\t<li>2</li>\n",
       "\t<li>2</li>\n",
       "\t<li>2</li>\n",
       "\t<li>3</li>\n",
       "\t<li>3</li>\n",
       "\t<li>3</li>\n",
       "\t<li>3</li>\n",
       "\t<li>3</li>\n",
       "\t<li>3</li>\n",
       "\t<li>3</li>\n",
       "\t<li>3</li>\n",
       "\t<li>3</li>\n",
       "\t<li>3</li>\n",
       "</ol>\n",
       "\n",
       "<details>\n",
       "\t<summary style=display:list-item;cursor:pointer>\n",
       "\t\t<strong>Levels</strong>:\n",
       "\t</summary>\n",
       "\t<ol class=list-inline>\n",
       "\t\t<li>'1'</li>\n",
       "\t\t<li>'2'</li>\n",
       "\t\t<li>'3'</li>\n",
       "\t</ol>\n",
       "</details>"
      ],
      "text/latex": [
       "\\begin{enumerate*}\n",
       "\\item 1\n",
       "\\item 1\n",
       "\\item 1\n",
       "\\item 1\n",
       "\\item 1\n",
       "\\item 1\n",
       "\\item 1\n",
       "\\item 1\n",
       "\\item 1\n",
       "\\item 1\n",
       "\\item 2\n",
       "\\item 2\n",
       "\\item 2\n",
       "\\item 2\n",
       "\\item 2\n",
       "\\item 2\n",
       "\\item 2\n",
       "\\item 2\n",
       "\\item 2\n",
       "\\item 2\n",
       "\\item 3\n",
       "\\item 3\n",
       "\\item 3\n",
       "\\item 3\n",
       "\\item 3\n",
       "\\item 3\n",
       "\\item 3\n",
       "\\item 3\n",
       "\\item 3\n",
       "\\item 3\n",
       "\\end{enumerate*}\n",
       "\n",
       "\\emph{Levels}: \\begin{enumerate*}\n",
       "\\item '1'\n",
       "\\item '2'\n",
       "\\item '3'\n",
       "\\end{enumerate*}\n"
      ],
      "text/markdown": [
       "1. 1\n",
       "2. 1\n",
       "3. 1\n",
       "4. 1\n",
       "5. 1\n",
       "6. 1\n",
       "7. 1\n",
       "8. 1\n",
       "9. 1\n",
       "10. 1\n",
       "11. 2\n",
       "12. 2\n",
       "13. 2\n",
       "14. 2\n",
       "15. 2\n",
       "16. 2\n",
       "17. 2\n",
       "18. 2\n",
       "19. 2\n",
       "20. 2\n",
       "21. 3\n",
       "22. 3\n",
       "23. 3\n",
       "24. 3\n",
       "25. 3\n",
       "26. 3\n",
       "27. 3\n",
       "28. 3\n",
       "29. 3\n",
       "30. 3\n",
       "\n",
       "\n",
       "\n",
       "**Levels**: 1. '1'\n",
       "2. '2'\n",
       "3. '3'\n",
       "\n",
       "\n"
      ],
      "text/plain": [
       " [1] 1 1 1 1 1 1 1 1 1 1 2 2 2 2 2 2 2 2 2 2 3 3 3 3 3 3 3 3 3 3\n",
       "Levels: 1 2 3"
      ]
     },
     "metadata": {},
     "output_type": "display_data"
    },
    {
     "data": {
      "text/html": [
       "<dl>\n",
       "\t<dt>$`1`</dt>\n",
       "\t\t<dd><ol class=list-inline>\n",
       "\t<li>-1.63604933763371</li>\n",
       "\t<li>1.50379403136718</li>\n",
       "</ol>\n",
       "</dd>\n",
       "\t<dt>$`2`</dt>\n",
       "\t\t<dd><ol class=list-inline>\n",
       "\t<li>0.0758768515661359</li>\n",
       "\t<li>0.659285431960598</li>\n",
       "</ol>\n",
       "</dd>\n",
       "\t<dt>$`3`</dt>\n",
       "\t\t<dd><ol class=list-inline>\n",
       "\t<li>0.234429412692697</li>\n",
       "\t<li>2.28196658210284</li>\n",
       "</ol>\n",
       "</dd>\n",
       "</dl>\n"
      ],
      "text/latex": [
       "\\begin{description}\n",
       "\\item[\\$`1`] \\begin{enumerate*}\n",
       "\\item -1.63604933763371\n",
       "\\item 1.50379403136718\n",
       "\\end{enumerate*}\n",
       "\n",
       "\\item[\\$`2`] \\begin{enumerate*}\n",
       "\\item 0.0758768515661359\n",
       "\\item 0.659285431960598\n",
       "\\end{enumerate*}\n",
       "\n",
       "\\item[\\$`3`] \\begin{enumerate*}\n",
       "\\item 0.234429412692697\n",
       "\\item 2.28196658210284\n",
       "\\end{enumerate*}\n",
       "\n",
       "\\end{description}\n"
      ],
      "text/markdown": [
       "$`1`\n",
       ":   1. -1.63604933763371\n",
       "2. 1.50379403136718\n",
       "\n",
       "\n",
       "\n",
       "$`2`\n",
       ":   1. 0.0758768515661359\n",
       "2. 0.659285431960598\n",
       "\n",
       "\n",
       "\n",
       "$`3`\n",
       ":   1. 0.234429412692697\n",
       "2. 2.28196658210284\n",
       "\n",
       "\n",
       "\n",
       "\n",
       "\n"
      ],
      "text/plain": [
       "$`1`\n",
       "[1] -1.636049  1.503794\n",
       "\n",
       "$`2`\n",
       "[1] 0.07587685 0.65928543\n",
       "\n",
       "$`3`\n",
       "[1] 0.2344294 2.2819666\n"
      ]
     },
     "metadata": {},
     "output_type": "display_data"
    }
   ],
   "source": [
    "x\n",
    "f\n",
    "tapply(x, f, range, simplify = TRUE)"
   ]
  },
  {
   "cell_type": "code",
   "execution_count": null,
   "id": "buried-coach",
   "metadata": {},
   "outputs": [],
   "source": []
  },
  {
   "cell_type": "markdown",
   "id": "beautiful-import",
   "metadata": {},
   "source": [
    "## Data Split"
   ]
  },
  {
   "cell_type": "code",
   "execution_count": 9,
   "id": "closed-testing",
   "metadata": {},
   "outputs": [
    {
     "data": {
      "text/html": [
       "<ol class=list-inline>\n",
       "\t<li>0.675690609945936</li>\n",
       "\t<li>1.0669449444594</li>\n",
       "\t<li>-0.289119999015296</li>\n",
       "\t<li>1.24528953960937</li>\n",
       "\t<li>-1.30667582700691</li>\n",
       "\t<li>-0.276592262000138</li>\n",
       "\t<li>0.194474236346624</li>\n",
       "\t<li>1.81339566957547</li>\n",
       "\t<li>-0.285397696727589</li>\n",
       "\t<li>0.358885474073684</li>\n",
       "\t<li>0.139124086592346</li>\n",
       "\t<li>0.540576633065939</li>\n",
       "\t<li>0.401562483049929</li>\n",
       "\t<li>0.819624910829589</li>\n",
       "\t<li>0.241053354227915</li>\n",
       "\t<li>0.631419115234166</li>\n",
       "\t<li>0.281994962133467</li>\n",
       "\t<li>0.368411877658218</li>\n",
       "\t<li>0.768716704566032</li>\n",
       "\t<li>0.385485869366676</li>\n",
       "\t<li>-1.70665442266156</li>\n",
       "\t<li>1.14786904526013</li>\n",
       "\t<li>0.252726130899065</li>\n",
       "\t<li>1.12934637255951</li>\n",
       "\t<li>-1.26541724762555</li>\n",
       "\t<li>-0.755729523311483</li>\n",
       "\t<li>-0.951138244971066</li>\n",
       "\t<li>-0.241569570118821</li>\n",
       "\t<li>2.48508830537167</li>\n",
       "\t<li>-0.447750880210865</li>\n",
       "</ol>\n"
      ],
      "text/latex": [
       "\\begin{enumerate*}\n",
       "\\item 0.675690609945936\n",
       "\\item 1.0669449444594\n",
       "\\item -0.289119999015296\n",
       "\\item 1.24528953960937\n",
       "\\item -1.30667582700691\n",
       "\\item -0.276592262000138\n",
       "\\item 0.194474236346624\n",
       "\\item 1.81339566957547\n",
       "\\item -0.285397696727589\n",
       "\\item 0.358885474073684\n",
       "\\item 0.139124086592346\n",
       "\\item 0.540576633065939\n",
       "\\item 0.401562483049929\n",
       "\\item 0.819624910829589\n",
       "\\item 0.241053354227915\n",
       "\\item 0.631419115234166\n",
       "\\item 0.281994962133467\n",
       "\\item 0.368411877658218\n",
       "\\item 0.768716704566032\n",
       "\\item 0.385485869366676\n",
       "\\item -1.70665442266156\n",
       "\\item 1.14786904526013\n",
       "\\item 0.252726130899065\n",
       "\\item 1.12934637255951\n",
       "\\item -1.26541724762555\n",
       "\\item -0.755729523311483\n",
       "\\item -0.951138244971066\n",
       "\\item -0.241569570118821\n",
       "\\item 2.48508830537167\n",
       "\\item -0.447750880210865\n",
       "\\end{enumerate*}\n"
      ],
      "text/markdown": [
       "1. 0.675690609945936\n",
       "2. 1.0669449444594\n",
       "3. -0.289119999015296\n",
       "4. 1.24528953960937\n",
       "5. -1.30667582700691\n",
       "6. -0.276592262000138\n",
       "7. 0.194474236346624\n",
       "8. 1.81339566957547\n",
       "9. -0.285397696727589\n",
       "10. 0.358885474073684\n",
       "11. 0.139124086592346\n",
       "12. 0.540576633065939\n",
       "13. 0.401562483049929\n",
       "14. 0.819624910829589\n",
       "15. 0.241053354227915\n",
       "16. 0.631419115234166\n",
       "17. 0.281994962133467\n",
       "18. 0.368411877658218\n",
       "19. 0.768716704566032\n",
       "20. 0.385485869366676\n",
       "21. -1.70665442266156\n",
       "22. 1.14786904526013\n",
       "23. 0.252726130899065\n",
       "24. 1.12934637255951\n",
       "25. -1.26541724762555\n",
       "26. -0.755729523311483\n",
       "27. -0.951138244971066\n",
       "28. -0.241569570118821\n",
       "29. 2.48508830537167\n",
       "30. -0.447750880210865\n",
       "\n",
       "\n"
      ],
      "text/plain": [
       " [1]  0.6756906  1.0669449 -0.2891200  1.2452895 -1.3066758 -0.2765923\n",
       " [7]  0.1944742  1.8133957 -0.2853977  0.3588855  0.1391241  0.5405766\n",
       "[13]  0.4015625  0.8196249  0.2410534  0.6314191  0.2819950  0.3684119\n",
       "[19]  0.7687167  0.3854859 -1.7066544  1.1478690  0.2527261  1.1293464\n",
       "[25] -1.2654172 -0.7557295 -0.9511382 -0.2415696  2.4850883 -0.4477509"
      ]
     },
     "metadata": {},
     "output_type": "display_data"
    },
    {
     "data": {
      "text/html": [
       "<ol class=list-inline>\n",
       "\t<li>1</li>\n",
       "\t<li>1</li>\n",
       "\t<li>1</li>\n",
       "\t<li>1</li>\n",
       "\t<li>1</li>\n",
       "\t<li>1</li>\n",
       "\t<li>1</li>\n",
       "\t<li>1</li>\n",
       "\t<li>1</li>\n",
       "\t<li>1</li>\n",
       "\t<li>2</li>\n",
       "\t<li>2</li>\n",
       "\t<li>2</li>\n",
       "\t<li>2</li>\n",
       "\t<li>2</li>\n",
       "\t<li>2</li>\n",
       "\t<li>2</li>\n",
       "\t<li>2</li>\n",
       "\t<li>2</li>\n",
       "\t<li>2</li>\n",
       "\t<li>3</li>\n",
       "\t<li>3</li>\n",
       "\t<li>3</li>\n",
       "\t<li>3</li>\n",
       "\t<li>3</li>\n",
       "\t<li>3</li>\n",
       "\t<li>3</li>\n",
       "\t<li>3</li>\n",
       "\t<li>3</li>\n",
       "\t<li>3</li>\n",
       "</ol>\n",
       "\n",
       "<details>\n",
       "\t<summary style=display:list-item;cursor:pointer>\n",
       "\t\t<strong>Levels</strong>:\n",
       "\t</summary>\n",
       "\t<ol class=list-inline>\n",
       "\t\t<li>'1'</li>\n",
       "\t\t<li>'2'</li>\n",
       "\t\t<li>'3'</li>\n",
       "\t</ol>\n",
       "</details>"
      ],
      "text/latex": [
       "\\begin{enumerate*}\n",
       "\\item 1\n",
       "\\item 1\n",
       "\\item 1\n",
       "\\item 1\n",
       "\\item 1\n",
       "\\item 1\n",
       "\\item 1\n",
       "\\item 1\n",
       "\\item 1\n",
       "\\item 1\n",
       "\\item 2\n",
       "\\item 2\n",
       "\\item 2\n",
       "\\item 2\n",
       "\\item 2\n",
       "\\item 2\n",
       "\\item 2\n",
       "\\item 2\n",
       "\\item 2\n",
       "\\item 2\n",
       "\\item 3\n",
       "\\item 3\n",
       "\\item 3\n",
       "\\item 3\n",
       "\\item 3\n",
       "\\item 3\n",
       "\\item 3\n",
       "\\item 3\n",
       "\\item 3\n",
       "\\item 3\n",
       "\\end{enumerate*}\n",
       "\n",
       "\\emph{Levels}: \\begin{enumerate*}\n",
       "\\item '1'\n",
       "\\item '2'\n",
       "\\item '3'\n",
       "\\end{enumerate*}\n"
      ],
      "text/markdown": [
       "1. 1\n",
       "2. 1\n",
       "3. 1\n",
       "4. 1\n",
       "5. 1\n",
       "6. 1\n",
       "7. 1\n",
       "8. 1\n",
       "9. 1\n",
       "10. 1\n",
       "11. 2\n",
       "12. 2\n",
       "13. 2\n",
       "14. 2\n",
       "15. 2\n",
       "16. 2\n",
       "17. 2\n",
       "18. 2\n",
       "19. 2\n",
       "20. 2\n",
       "21. 3\n",
       "22. 3\n",
       "23. 3\n",
       "24. 3\n",
       "25. 3\n",
       "26. 3\n",
       "27. 3\n",
       "28. 3\n",
       "29. 3\n",
       "30. 3\n",
       "\n",
       "\n",
       "\n",
       "**Levels**: 1. '1'\n",
       "2. '2'\n",
       "3. '3'\n",
       "\n",
       "\n"
      ],
      "text/plain": [
       " [1] 1 1 1 1 1 1 1 1 1 1 2 2 2 2 2 2 2 2 2 2 3 3 3 3 3 3 3 3 3 3\n",
       "Levels: 1 2 3"
      ]
     },
     "metadata": {},
     "output_type": "display_data"
    },
    {
     "data": {
      "text/html": [
       "<dl>\n",
       "\t<dt>$`1`</dt>\n",
       "\t\t<dd><ol class=list-inline>\n",
       "\t<li>0.675690609945936</li>\n",
       "\t<li>1.0669449444594</li>\n",
       "\t<li>-0.289119999015296</li>\n",
       "\t<li>1.24528953960937</li>\n",
       "\t<li>-1.30667582700691</li>\n",
       "\t<li>-0.276592262000138</li>\n",
       "\t<li>0.194474236346624</li>\n",
       "\t<li>1.81339566957547</li>\n",
       "\t<li>-0.285397696727589</li>\n",
       "\t<li>0.358885474073684</li>\n",
       "</ol>\n",
       "</dd>\n",
       "\t<dt>$`2`</dt>\n",
       "\t\t<dd><ol class=list-inline>\n",
       "\t<li>0.139124086592346</li>\n",
       "\t<li>0.540576633065939</li>\n",
       "\t<li>0.401562483049929</li>\n",
       "\t<li>0.819624910829589</li>\n",
       "\t<li>0.241053354227915</li>\n",
       "\t<li>0.631419115234166</li>\n",
       "\t<li>0.281994962133467</li>\n",
       "\t<li>0.368411877658218</li>\n",
       "\t<li>0.768716704566032</li>\n",
       "\t<li>0.385485869366676</li>\n",
       "</ol>\n",
       "</dd>\n",
       "\t<dt>$`3`</dt>\n",
       "\t\t<dd><ol class=list-inline>\n",
       "\t<li>-1.70665442266156</li>\n",
       "\t<li>1.14786904526013</li>\n",
       "\t<li>0.252726130899065</li>\n",
       "\t<li>1.12934637255951</li>\n",
       "\t<li>-1.26541724762555</li>\n",
       "\t<li>-0.755729523311483</li>\n",
       "\t<li>-0.951138244971066</li>\n",
       "\t<li>-0.241569570118821</li>\n",
       "\t<li>2.48508830537167</li>\n",
       "\t<li>-0.447750880210865</li>\n",
       "</ol>\n",
       "</dd>\n",
       "</dl>\n"
      ],
      "text/latex": [
       "\\begin{description}\n",
       "\\item[\\$`1`] \\begin{enumerate*}\n",
       "\\item 0.675690609945936\n",
       "\\item 1.0669449444594\n",
       "\\item -0.289119999015296\n",
       "\\item 1.24528953960937\n",
       "\\item -1.30667582700691\n",
       "\\item -0.276592262000138\n",
       "\\item 0.194474236346624\n",
       "\\item 1.81339566957547\n",
       "\\item -0.285397696727589\n",
       "\\item 0.358885474073684\n",
       "\\end{enumerate*}\n",
       "\n",
       "\\item[\\$`2`] \\begin{enumerate*}\n",
       "\\item 0.139124086592346\n",
       "\\item 0.540576633065939\n",
       "\\item 0.401562483049929\n",
       "\\item 0.819624910829589\n",
       "\\item 0.241053354227915\n",
       "\\item 0.631419115234166\n",
       "\\item 0.281994962133467\n",
       "\\item 0.368411877658218\n",
       "\\item 0.768716704566032\n",
       "\\item 0.385485869366676\n",
       "\\end{enumerate*}\n",
       "\n",
       "\\item[\\$`3`] \\begin{enumerate*}\n",
       "\\item -1.70665442266156\n",
       "\\item 1.14786904526013\n",
       "\\item 0.252726130899065\n",
       "\\item 1.12934637255951\n",
       "\\item -1.26541724762555\n",
       "\\item -0.755729523311483\n",
       "\\item -0.951138244971066\n",
       "\\item -0.241569570118821\n",
       "\\item 2.48508830537167\n",
       "\\item -0.447750880210865\n",
       "\\end{enumerate*}\n",
       "\n",
       "\\end{description}\n"
      ],
      "text/markdown": [
       "$`1`\n",
       ":   1. 0.675690609945936\n",
       "2. 1.0669449444594\n",
       "3. -0.289119999015296\n",
       "4. 1.24528953960937\n",
       "5. -1.30667582700691\n",
       "6. -0.276592262000138\n",
       "7. 0.194474236346624\n",
       "8. 1.81339566957547\n",
       "9. -0.285397696727589\n",
       "10. 0.358885474073684\n",
       "\n",
       "\n",
       "\n",
       "$`2`\n",
       ":   1. 0.139124086592346\n",
       "2. 0.540576633065939\n",
       "3. 0.401562483049929\n",
       "4. 0.819624910829589\n",
       "5. 0.241053354227915\n",
       "6. 0.631419115234166\n",
       "7. 0.281994962133467\n",
       "8. 0.368411877658218\n",
       "9. 0.768716704566032\n",
       "10. 0.385485869366676\n",
       "\n",
       "\n",
       "\n",
       "$`3`\n",
       ":   1. -1.70665442266156\n",
       "2. 1.14786904526013\n",
       "3. 0.252726130899065\n",
       "4. 1.12934637255951\n",
       "5. -1.26541724762555\n",
       "6. -0.755729523311483\n",
       "7. -0.951138244971066\n",
       "8. -0.241569570118821\n",
       "9. 2.48508830537167\n",
       "10. -0.447750880210865\n",
       "\n",
       "\n",
       "\n",
       "\n",
       "\n"
      ],
      "text/plain": [
       "$`1`\n",
       " [1]  0.6756906  1.0669449 -0.2891200  1.2452895 -1.3066758 -0.2765923\n",
       " [7]  0.1944742  1.8133957 -0.2853977  0.3588855\n",
       "\n",
       "$`2`\n",
       " [1] 0.1391241 0.5405766 0.4015625 0.8196249 0.2410534 0.6314191 0.2819950\n",
       " [8] 0.3684119 0.7687167 0.3854859\n",
       "\n",
       "$`3`\n",
       " [1] -1.7066544  1.1478690  0.2527261  1.1293464 -1.2654172 -0.7557295\n",
       " [7] -0.9511382 -0.2415696  2.4850883 -0.4477509\n"
      ]
     },
     "metadata": {},
     "output_type": "display_data"
    }
   ],
   "source": [
    "# data split example\n",
    "\n",
    "x <- c(rnorm(10), runif(10), rnorm(10))\n",
    "\n",
    "f <- gl(3,10)\n",
    "x\n",
    "f\n",
    "\n",
    "split(x,f)\n",
    "\n"
   ]
  },
  {
   "cell_type": "code",
   "execution_count": 11,
   "id": "eleven-drink",
   "metadata": {},
   "outputs": [
    {
     "data": {
      "text/html": [
       "<dl>\n",
       "\t<dt>$`1`</dt>\n",
       "\t\t<dd>0.319689468926056</dd>\n",
       "\t<dt>$`2`</dt>\n",
       "\t\t<dd>0.457796999672428</dd>\n",
       "\t<dt>$`3`</dt>\n",
       "\t\t<dd>-0.0353230034808984</dd>\n",
       "</dl>\n"
      ],
      "text/latex": [
       "\\begin{description}\n",
       "\\item[\\$`1`] 0.319689468926056\n",
       "\\item[\\$`2`] 0.457796999672428\n",
       "\\item[\\$`3`] -0.0353230034808984\n",
       "\\end{description}\n"
      ],
      "text/markdown": [
       "$`1`\n",
       ":   0.319689468926056\n",
       "$`2`\n",
       ":   0.457796999672428\n",
       "$`3`\n",
       ":   -0.0353230034808984\n",
       "\n",
       "\n"
      ],
      "text/plain": [
       "$`1`\n",
       "[1] 0.3196895\n",
       "\n",
       "$`2`\n",
       "[1] 0.457797\n",
       "\n",
       "$`3`\n",
       "[1] -0.035323\n"
      ]
     },
     "metadata": {},
     "output_type": "display_data"
    }
   ],
   "source": [
    "# A common idiom is split followed by an lapply\n",
    "\n",
    "lapply(split(x,f), mean)"
   ]
  },
  {
   "cell_type": "code",
   "execution_count": 13,
   "id": "orange-difficulty",
   "metadata": {},
   "outputs": [
    {
     "data": {
      "text/html": [
       "<table>\n",
       "<thead><tr><th scope=col>Ozone</th><th scope=col>Solar.R</th><th scope=col>Wind</th><th scope=col>Temp</th><th scope=col>Month</th><th scope=col>Day</th></tr></thead>\n",
       "<tbody>\n",
       "\t<tr><td>41  </td><td>190 </td><td> 7.4</td><td>67  </td><td>5   </td><td>1   </td></tr>\n",
       "\t<tr><td>36  </td><td>118 </td><td> 8.0</td><td>72  </td><td>5   </td><td>2   </td></tr>\n",
       "\t<tr><td>12  </td><td>149 </td><td>12.6</td><td>74  </td><td>5   </td><td>3   </td></tr>\n",
       "\t<tr><td>18  </td><td>313 </td><td>11.5</td><td>62  </td><td>5   </td><td>4   </td></tr>\n",
       "\t<tr><td>NA  </td><td> NA </td><td>14.3</td><td>56  </td><td>5   </td><td>5   </td></tr>\n",
       "\t<tr><td>28  </td><td> NA </td><td>14.9</td><td>66  </td><td>5   </td><td>6   </td></tr>\n",
       "</tbody>\n",
       "</table>\n"
      ],
      "text/latex": [
       "\\begin{tabular}{r|llllll}\n",
       " Ozone & Solar.R & Wind & Temp & Month & Day\\\\\n",
       "\\hline\n",
       "\t 41   & 190  &  7.4 & 67   & 5    & 1   \\\\\n",
       "\t 36   & 118  &  8.0 & 72   & 5    & 2   \\\\\n",
       "\t 12   & 149  & 12.6 & 74   & 5    & 3   \\\\\n",
       "\t 18   & 313  & 11.5 & 62   & 5    & 4   \\\\\n",
       "\t NA   &  NA  & 14.3 & 56   & 5    & 5   \\\\\n",
       "\t 28   &  NA  & 14.9 & 66   & 5    & 6   \\\\\n",
       "\\end{tabular}\n"
      ],
      "text/markdown": [
       "\n",
       "| Ozone | Solar.R | Wind | Temp | Month | Day |\n",
       "|---|---|---|---|---|---|\n",
       "| 41   | 190  |  7.4 | 67   | 5    | 1    |\n",
       "| 36   | 118  |  8.0 | 72   | 5    | 2    |\n",
       "| 12   | 149  | 12.6 | 74   | 5    | 3    |\n",
       "| 18   | 313  | 11.5 | 62   | 5    | 4    |\n",
       "| NA   |  NA  | 14.3 | 56   | 5    | 5    |\n",
       "| 28   |  NA  | 14.9 | 66   | 5    | 6    |\n",
       "\n"
      ],
      "text/plain": [
       "  Ozone Solar.R Wind Temp Month Day\n",
       "1 41    190      7.4 67   5     1  \n",
       "2 36    118      8.0 72   5     2  \n",
       "3 12    149     12.6 74   5     3  \n",
       "4 18    313     11.5 62   5     4  \n",
       "5 NA     NA     14.3 56   5     5  \n",
       "6 28     NA     14.9 66   5     6  "
      ]
     },
     "metadata": {},
     "output_type": "display_data"
    }
   ],
   "source": [
    "# data set of airqaulity\n",
    "\n",
    "library(datasets)\n",
    "head(airquality)"
   ]
  },
  {
   "cell_type": "code",
   "execution_count": 16,
   "id": "suffering-profession",
   "metadata": {},
   "outputs": [
    {
     "data": {
      "text/html": [
       "<dl>\n",
       "\t<dt>$`5`</dt>\n",
       "\t\t<dd><dl class=dl-horizontal>\n",
       "\t<dt>Ozone</dt>\n",
       "\t\t<dd>&lt;NA&gt;</dd>\n",
       "\t<dt>Solar.R</dt>\n",
       "\t\t<dd>&lt;NA&gt;</dd>\n",
       "\t<dt>Wind</dt>\n",
       "\t\t<dd>11.6225806451613</dd>\n",
       "</dl>\n",
       "</dd>\n",
       "\t<dt>$`6`</dt>\n",
       "\t\t<dd><dl class=dl-horizontal>\n",
       "\t<dt>Ozone</dt>\n",
       "\t\t<dd>&lt;NA&gt;</dd>\n",
       "\t<dt>Solar.R</dt>\n",
       "\t\t<dd>190.166666666667</dd>\n",
       "\t<dt>Wind</dt>\n",
       "\t\t<dd>10.2666666666667</dd>\n",
       "</dl>\n",
       "</dd>\n",
       "\t<dt>$`7`</dt>\n",
       "\t\t<dd><dl class=dl-horizontal>\n",
       "\t<dt>Ozone</dt>\n",
       "\t\t<dd>&lt;NA&gt;</dd>\n",
       "\t<dt>Solar.R</dt>\n",
       "\t\t<dd>216.483870967742</dd>\n",
       "\t<dt>Wind</dt>\n",
       "\t\t<dd>8.94193548387097</dd>\n",
       "</dl>\n",
       "</dd>\n",
       "\t<dt>$`8`</dt>\n",
       "\t\t<dd><dl class=dl-horizontal>\n",
       "\t<dt>Ozone</dt>\n",
       "\t\t<dd>&lt;NA&gt;</dd>\n",
       "\t<dt>Solar.R</dt>\n",
       "\t\t<dd>&lt;NA&gt;</dd>\n",
       "\t<dt>Wind</dt>\n",
       "\t\t<dd>8.79354838709677</dd>\n",
       "</dl>\n",
       "</dd>\n",
       "\t<dt>$`9`</dt>\n",
       "\t\t<dd><dl class=dl-horizontal>\n",
       "\t<dt>Ozone</dt>\n",
       "\t\t<dd>&lt;NA&gt;</dd>\n",
       "\t<dt>Solar.R</dt>\n",
       "\t\t<dd>167.433333333333</dd>\n",
       "\t<dt>Wind</dt>\n",
       "\t\t<dd>10.18</dd>\n",
       "</dl>\n",
       "</dd>\n",
       "</dl>\n"
      ],
      "text/latex": [
       "\\begin{description}\n",
       "\\item[\\$`5`] \\begin{description*}\n",
       "\\item[Ozone] <NA>\n",
       "\\item[Solar.R] <NA>\n",
       "\\item[Wind] 11.6225806451613\n",
       "\\end{description*}\n",
       "\n",
       "\\item[\\$`6`] \\begin{description*}\n",
       "\\item[Ozone] <NA>\n",
       "\\item[Solar.R] 190.166666666667\n",
       "\\item[Wind] 10.2666666666667\n",
       "\\end{description*}\n",
       "\n",
       "\\item[\\$`7`] \\begin{description*}\n",
       "\\item[Ozone] <NA>\n",
       "\\item[Solar.R] 216.483870967742\n",
       "\\item[Wind] 8.94193548387097\n",
       "\\end{description*}\n",
       "\n",
       "\\item[\\$`8`] \\begin{description*}\n",
       "\\item[Ozone] <NA>\n",
       "\\item[Solar.R] <NA>\n",
       "\\item[Wind] 8.79354838709677\n",
       "\\end{description*}\n",
       "\n",
       "\\item[\\$`9`] \\begin{description*}\n",
       "\\item[Ozone] <NA>\n",
       "\\item[Solar.R] 167.433333333333\n",
       "\\item[Wind] 10.18\n",
       "\\end{description*}\n",
       "\n",
       "\\end{description}\n"
      ],
      "text/markdown": [
       "$`5`\n",
       ":   Ozone\n",
       ":   &lt;NA&gt;Solar.R\n",
       ":   &lt;NA&gt;Wind\n",
       ":   11.6225806451613\n",
       "\n",
       "\n",
       "$`6`\n",
       ":   Ozone\n",
       ":   &lt;NA&gt;Solar.R\n",
       ":   190.166666666667Wind\n",
       ":   10.2666666666667\n",
       "\n",
       "\n",
       "$`7`\n",
       ":   Ozone\n",
       ":   &lt;NA&gt;Solar.R\n",
       ":   216.483870967742Wind\n",
       ":   8.94193548387097\n",
       "\n",
       "\n",
       "$`8`\n",
       ":   Ozone\n",
       ":   &lt;NA&gt;Solar.R\n",
       ":   &lt;NA&gt;Wind\n",
       ":   8.79354838709677\n",
       "\n",
       "\n",
       "$`9`\n",
       ":   Ozone\n",
       ":   &lt;NA&gt;Solar.R\n",
       ":   167.433333333333Wind\n",
       ":   10.18\n",
       "\n",
       "\n",
       "\n",
       "\n"
      ],
      "text/plain": [
       "$`5`\n",
       "   Ozone  Solar.R     Wind \n",
       "      NA       NA 11.62258 \n",
       "\n",
       "$`6`\n",
       "    Ozone   Solar.R      Wind \n",
       "       NA 190.16667  10.26667 \n",
       "\n",
       "$`7`\n",
       "     Ozone    Solar.R       Wind \n",
       "        NA 216.483871   8.941935 \n",
       "\n",
       "$`8`\n",
       "   Ozone  Solar.R     Wind \n",
       "      NA       NA 8.793548 \n",
       "\n",
       "$`9`\n",
       "   Ozone  Solar.R     Wind \n",
       "      NA 167.4333  10.1800 \n"
      ]
     },
     "metadata": {},
     "output_type": "display_data"
    }
   ],
   "source": [
    "s <- split(airquality, airquality$Month)\n",
    "\n",
    "lapply(s, function(x) colMeans(x[, c(\"Ozone\", \"Solar.R\",\"Wind\")]))"
   ]
  },
  {
   "cell_type": "code",
   "execution_count": 18,
   "id": "dense-checkout",
   "metadata": {},
   "outputs": [
    {
     "data": {
      "text/html": [
       "<table>\n",
       "<thead><tr><th></th><th scope=col>5</th><th scope=col>6</th><th scope=col>7</th><th scope=col>8</th><th scope=col>9</th></tr></thead>\n",
       "<tbody>\n",
       "\t<tr><th scope=row>Ozone</th><td>      NA  </td><td>       NA </td><td>        NA</td><td>      NA  </td><td>      NA  </td></tr>\n",
       "\t<tr><th scope=row>Solar.R</th><td>      NA  </td><td>190.16667 </td><td>216.483871</td><td>      NA  </td><td>167.4333  </td></tr>\n",
       "\t<tr><th scope=row>Wind</th><td>11.62258  </td><td> 10.26667 </td><td>  8.941935</td><td>8.793548  </td><td> 10.1800  </td></tr>\n",
       "</tbody>\n",
       "</table>\n"
      ],
      "text/latex": [
       "\\begin{tabular}{r|lllll}\n",
       "  & 5 & 6 & 7 & 8 & 9\\\\\n",
       "\\hline\n",
       "\tOzone &       NA   &        NA  &         NA &       NA   &       NA  \\\\\n",
       "\tSolar.R &       NA   & 190.16667  & 216.483871 &       NA   & 167.4333  \\\\\n",
       "\tWind & 11.62258   &  10.26667  &   8.941935 & 8.793548   &  10.1800  \\\\\n",
       "\\end{tabular}\n"
      ],
      "text/markdown": [
       "\n",
       "| <!--/--> | 5 | 6 | 7 | 8 | 9 |\n",
       "|---|---|---|---|---|---|\n",
       "| Ozone |       NA   |        NA  |         NA |       NA   |       NA   |\n",
       "| Solar.R |       NA   | 190.16667  | 216.483871 |       NA   | 167.4333   |\n",
       "| Wind | 11.62258   |  10.26667  |   8.941935 | 8.793548   |  10.1800   |\n",
       "\n"
      ],
      "text/plain": [
       "        5        6         7          8        9       \n",
       "Ozone         NA        NA         NA       NA       NA\n",
       "Solar.R       NA 190.16667 216.483871       NA 167.4333\n",
       "Wind    11.62258  10.26667   8.941935 8.793548  10.1800"
      ]
     },
     "metadata": {},
     "output_type": "display_data"
    }
   ],
   "source": [
    "sapply(s, function(x) colMeans(x[,c(\"Ozone\",\"Solar.R\",\"Wind\")]))"
   ]
  },
  {
   "cell_type": "code",
   "execution_count": 20,
   "id": "killing-expression",
   "metadata": {},
   "outputs": [
    {
     "data": {
      "text/html": [
       "<table>\n",
       "<thead><tr><th></th><th scope=col>5</th><th scope=col>6</th><th scope=col>7</th><th scope=col>8</th><th scope=col>9</th></tr></thead>\n",
       "<tbody>\n",
       "\t<tr><th scope=row>Ozone</th><td> 23.61538 </td><td> 29.44444 </td><td> 59.115385</td><td> 59.961538</td><td> 31.44828 </td></tr>\n",
       "\t<tr><th scope=row>Solar.R</th><td>181.29630 </td><td>190.16667 </td><td>216.483871</td><td>171.857143</td><td>167.43333 </td></tr>\n",
       "\t<tr><th scope=row>Wind</th><td> 11.62258 </td><td> 10.26667 </td><td>  8.941935</td><td>  8.793548</td><td> 10.18000 </td></tr>\n",
       "</tbody>\n",
       "</table>\n"
      ],
      "text/latex": [
       "\\begin{tabular}{r|lllll}\n",
       "  & 5 & 6 & 7 & 8 & 9\\\\\n",
       "\\hline\n",
       "\tOzone &  23.61538  &  29.44444  &  59.115385 &  59.961538 &  31.44828 \\\\\n",
       "\tSolar.R & 181.29630  & 190.16667  & 216.483871 & 171.857143 & 167.43333 \\\\\n",
       "\tWind &  11.62258  &  10.26667  &   8.941935 &   8.793548 &  10.18000 \\\\\n",
       "\\end{tabular}\n"
      ],
      "text/markdown": [
       "\n",
       "| <!--/--> | 5 | 6 | 7 | 8 | 9 |\n",
       "|---|---|---|---|---|---|\n",
       "| Ozone |  23.61538  |  29.44444  |  59.115385 |  59.961538 |  31.44828  |\n",
       "| Solar.R | 181.29630  | 190.16667  | 216.483871 | 171.857143 | 167.43333  |\n",
       "| Wind |  11.62258  |  10.26667  |   8.941935 |   8.793548 |  10.18000  |\n",
       "\n"
      ],
      "text/plain": [
       "        5         6         7          8          9        \n",
       "Ozone    23.61538  29.44444  59.115385  59.961538  31.44828\n",
       "Solar.R 181.29630 190.16667 216.483871 171.857143 167.43333\n",
       "Wind     11.62258  10.26667   8.941935   8.793548  10.18000"
      ]
     },
     "metadata": {},
     "output_type": "display_data"
    }
   ],
   "source": [
    "# to get best result then remove the Null values\n",
    "\n",
    "sapply(s, function(x) colMeans(x[,c(\"Ozone\", \"Solar.R\", \"Wind\")], na.rm=TRUE))"
   ]
  },
  {
   "cell_type": "code",
   "execution_count": null,
   "id": "concrete-studio",
   "metadata": {},
   "outputs": [],
   "source": []
  }
 ],
 "metadata": {
  "kernelspec": {
   "display_name": "R",
   "language": "R",
   "name": "ir"
  },
  "language_info": {
   "codemirror_mode": "r",
   "file_extension": ".r",
   "mimetype": "text/x-r-source",
   "name": "R",
   "pygments_lexer": "r",
   "version": "3.6.1"
  }
 },
 "nbformat": 4,
 "nbformat_minor": 5
}
